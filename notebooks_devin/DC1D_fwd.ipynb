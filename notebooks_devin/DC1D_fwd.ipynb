{
 "cells": [
  {
   "cell_type": "markdown",
   "metadata": {},
   "source": [
    "DC Resistivity Forward Modeling: 1D Sounding\n",
    "=======================================\n",
    "\n",
    "In this notebook, we predict data for a Schlumberger sounding survey over a layered Earth.\n",
    "\n",
    "Import Modules\n",
    "----------------------"
   ]
  },
  {
   "cell_type": "code",
   "execution_count": 1,
   "metadata": {},
   "outputs": [],
   "source": [
    "import numpy as np\n",
    "import matplotlib as mpl\n",
    "import matplotlib.pyplot as plt\n",
    "\n",
    "from discretize import TensorMesh\n",
    "\n",
    "from SimPEG import maps\n",
    "from SimPEG.electromagnetics.static import resistivity as dc\n",
    "from SimPEG.electromagnetics.static.utils.StaticUtils import plot_layer"
   ]
  },
  {
   "cell_type": "markdown",
   "metadata": {},
   "source": [
    "User Defined Parameters for the Notebook\n",
    "---------------------------------------------------------------\n",
    "\n",
    "Here, the user defines the parameters required to run the notebook. The parameters are as follows:\n",
    "\n",
    "- **half_AB_separation:** a numpy array containing the AB/2 values for the source electrodes\n",
    "- **half_MN_separations:** a numpy array containing the MN/2 values for the receiver electrodes\n",
    "- **layer_thicknesses:** Layer thicknesses in meters. Defined from top layer to bottom\n",
    "- **resistivity_model:** Electrical resistivity for each layer in Ohm-meters\n"
   ]
  },
  {
   "cell_type": "code",
   "execution_count": 2,
   "metadata": {},
   "outputs": [],
   "source": [
    "# Make a numpy array for AB/2 values\n",
    "half_AB_separation = np.r_[\n",
    "    5,10,20,30,40,40,50,60,70,80,90,100,100,120,140,160,180,200,200,220,240,260,280,300,300,320,350,370,400\n",
    "]  # AB/2 values\n",
    "\n",
    "# Make a numpy array for MN/s values\n",
    "half_MN_separation = np.r_[\n",
    "    1,1,1,1,1,5,5,5,5,5,5,5,10,10,10,10,10,10,20,20,20,20,20,20,30,30,30,30,30\n",
    "]  # MN/2 values\n",
    "\n",
    "# Defining the layer thicknesses\n",
    "layer_thicknesses = np.r_[20., 10., 20.]\n",
    "\n",
    "# Define model. A resistivity (Ohm meters) for each layer.\n",
    "resistivity_model = np.r_[1e3, 1e2, 2e3]"
   ]
  },
  {
   "cell_type": "markdown",
   "metadata": {},
   "source": [
    "Define the Survey\n",
    "-------------------------\n",
    "\n",
    "This portion of the notebook defines a Schlumberger sounding survey using the AB/2 and MN/2 values provided."
   ]
  },
  {
   "cell_type": "code",
   "execution_count": 3,
   "metadata": {},
   "outputs": [],
   "source": [
    "source_list = []  # create empty array for sources to live\n",
    "\n",
    "for ii in range(0, len(half_AB_separation)):\n",
    "    \n",
    "    # AB electrode locations for source. Each is a (1, 3) numpy array\n",
    "    A_location = np.r_[-half_AB_separation[ii], 0., 0.]\n",
    "    B_location = np.r_[half_AB_separation[ii], 0., 0.]\n",
    "\n",
    "    # MN electrode locations for receivers. Each is an (N, 3) numpy array\n",
    "    M_location = np.r_[-half_MN_separation[ii], 0., 0.]\n",
    "    N_location = np.r_[half_MN_separation[ii], 0., 0.]\n",
    "\n",
    "    # Create receivers list. Define as pole or dipole.\n",
    "    receiver_list = dc.receivers.Dipole(\n",
    "            M_location, N_location\n",
    "            )\n",
    "    receiver_list = [receiver_list]\n",
    "\n",
    "    # Define the source properties and associated receivers\n",
    "    source_list.append(\n",
    "            dc.sources.Dipole(receiver_list, A_location, B_location)\n",
    "            )\n",
    "\n",
    "# Define survey\n",
    "survey = dc.Survey(source_list)"
   ]
  },
  {
   "cell_type": "markdown",
   "metadata": {},
   "source": [
    "Define a 1D Layered Earth (1D Tensor Mesh)\n",
    "--------------------------------------------\n",
    "\n",
    "This part of the notebook creates a layered Earth on which to compuate the forward simulation. To do this, we use\n",
    "the TensorMesh class. Once created, we can plot the resistivity model on our 1D Earth."
   ]
  },
  {
   "cell_type": "code",
   "execution_count": 4,
   "metadata": {},
   "outputs": [
    {
     "data": {
      "text/plain": [
       "[<matplotlib.lines.Line2D at 0x1980867e248>]"
      ]
     },
     "execution_count": 4,
     "metadata": {},
     "output_type": "execute_result"
    },
    {
     "data": {
      "image/png": "[encoded data removed]",
      "text/plain": [
       "<Figure size 432x288 with 1 Axes>"
      ]
     },
     "metadata": {
      "needs_background": "light"
     },
     "output_type": "display_data"
    }
   ],
   "source": [
    "# Define a layered Earth\n",
    "mesh = TensorMesh([layer_thicknesses])\n",
    "\n",
    "# Define mapping from model to active cells. Here, all layers are use in the\n",
    "# forward simulation.\n",
    "model_map = maps.IdentityMap(mesh)\n",
    "\n",
    "# Plot the 1D model\n",
    "plot_layer(model_map*resistivity_model, mesh)"
   ]
  },
  {
   "cell_type": "markdown",
   "metadata": {},
   "source": [
    "Define the Forward Simulation and Predict DC Resistivity Data\n",
    "-------------------------------------------------------------\n",
    "\n",
    "In this part of the notebook, all the pieces needed to predict the data are assembled into a *simulation*. Once created, we can predict data for a given *resistivity model*. We have chosen to predicte the data in terms of apparent resistivity, as opposed to raw voltage. Once the data are predicted, we plot the Schlumberger sounding curve."
   ]
  },
  {
   "cell_type": "code",
   "execution_count": 6,
   "metadata": {},
   "outputs": [
    {
     "data": {
      "image/png": "[encoded data removed]",
      "text/plain": [
       "<Figure size 792x360 with 1 Axes>"
      ]
     },
     "metadata": {
      "needs_background": "light"
     },
     "output_type": "display_data"
    }
   ],
   "source": [
    "# Create a simulation object\n",
    "simulation = dc.simulation_1d.DCSimulation_1D(\n",
    "        mesh, survey=survey, rhoMap=model_map, t=layer_thicknesses,\n",
    "        data_type=\"apparent_resistivity\"\n",
    "        )\n",
    "\n",
    "# Predict data for a given model\n",
    "dpred = simulation.dpred(resistivity_model)\n",
    "\n",
    "# Plot apparent resistivities on sounding curve\n",
    "mpl.rcParams.update({'font.size': 14})\n",
    "fig = plt.figure(figsize=(11, 5))\n",
    "ax1 = fig.add_axes([0.05, 0.05, 0.8, 0.9])\n",
    "ax1.loglog(half_AB_separation, dpred, 'b', lw=2)\n",
    "ax1.set_xlabel(\"AB/2 [m]\")\n",
    "ax1.set_ylabel(\"Apparent Resistivity ($\\Omega m$)\")\n",
    "plt.show()"
   ]
  },
  {
   "cell_type": "code",
   "execution_count": null,
   "metadata": {},
   "outputs": [],
   "source": []
  }
 ],
 "metadata": {
  "kernelspec": {
   "display_name": "Python 3",
   "language": "python",
   "name": "python3"
  },
  "language_info": {
   "codemirror_mode": {
    "name": "ipython",
    "version": 3
   },
   "file_extension": ".py",
   "mimetype": "text/x-python",
   "name": "python",
   "nbconvert_exporter": "python",
   "pygments_lexer": "ipython3",
   "version": "3.7.4"
  }
 },
 "nbformat": 4,
 "nbformat_minor": 2
}
