{
 "cells": [
  {
   "cell_type": "markdown",
   "metadata": {},
   "source": [
    "DC Resistivity: 1D Resistivity Inversion\n",
    "========================================\n",
    "\n",
    "In this notebook, we:\n",
    "- load Schlumberger sounding data from a text file\n",
    "- plot the raw apparent resistivity data as a function of electrode separation\n",
    "- assign uncertainties to the data\n",
    "- recover an electrical resistivity model for a specified number of layers\n",
    "- plot the recovered resistivity model and compare observed and predicted data\n",
    "\n",
    "Import Modules\n",
    "----------------------"
   ]
  },
  {
   "cell_type": "code",
   "execution_count": 13,
   "metadata": {},
   "outputs": [],
   "source": [
    "import os\n",
    "import numpy as np\n",
    "import matplotlib as mpl\n",
    "import matplotlib.pyplot as plt\n",
    "\n",
    "from discretize import TensorMesh\n",
    "\n",
    "from SimPEG import (maps, data, data_misfit, regularization,\n",
    "    optimization, inverse_problem, inversion, directives\n",
    "    )\n",
    "from SimPEG.electromagnetics.static import resistivity as dc\n",
    "from SimPEG.electromagnetics.static.utils.StaticUtils import plot_layer\n",
    "from SimPEG.utils import mkvc"
   ]
  },
  {
   "cell_type": "markdown",
   "metadata": {},
   "source": [
    "User Defined Paramters for the Notebook\n",
    "-----------------\n",
    "\n",
    "Here, the user defines paramters required to run the notebook. These parameters are as follows:\n",
    "- **data_filename:** The file path to a text file containing the sounding data\n",
    "- **half_AB_column:** The column in the text file that has the AB/2 values. Remember that in python, 0 is the 1st column\n",
    "- **half_MN_column:** The column in the text file that has the MN/2 values. Remember that in python, 0 is the 1st column\n",
    "- **apparent_resistivity_column:** The column in the text file that has the apparent resistivity values.\n",
    "- **uncertainty_floor:** The floor uncertainty to be added to each datum\n",
    "- **uncertainty_percent:** The percent uncertainty to be added to each datum\n",
    "- **layer_thicknesses:** Layer thicknesses in meters. Defined from top layer to bottom\n",
    "- **starting_resistivity:** "
   ]
  },
  {
   "cell_type": "code",
   "execution_count": 14,
   "metadata": {},
   "outputs": [],
   "source": [
    "# Define the file path to the data file. Also define the AB/2, MN/2 and apparent resistivity columns.\n",
    "# Recall that python counts starting at 0\n",
    "data_filename = './assets/Mawlamyaing_data_locations_3.txt'\n",
    "half_AB_column = 0\n",
    "half_MN_column = 1\n",
    "apparent_resistivity_column = 6\n",
    "\n",
    "# Define the floor and percent uncertainty you would like to apply to apparent resistivity data\n",
    "uncertainty_floor = 0.\n",
    "uncertainty_percent = 5.\n",
    "\n",
    "# Define layer thicknesses as a numpy array\n",
    "layer_thicknesses = mkvc(np.r_[5*np.ones(15), 5*np.logspace(0,1,15)])\n",
    "\n",
    "# Starting model (half-space model)\n",
    "starting_resistivity = 2e3"
   ]
  },
  {
   "cell_type": "markdown",
   "metadata": {},
   "source": [
    "Load Data, Define Survey and Plot\n",
    "---------------------------------\n",
    "\n",
    "Here we load the observed data, define the DC survey geometry and plot the\n",
    "data values."
   ]
  },
  {
   "cell_type": "code",
   "execution_count": 15,
   "metadata": {},
   "outputs": [
    {
     "data": {
      "image/png": "[encoded data removed]",
      "text/plain": [
       "<Figure size 792x360 with 1 Axes>"
      ]
     },
     "metadata": {
      "needs_background": "light"
     },
     "output_type": "display_data"
    }
   ],
   "source": [
    "# Load data\n",
    "dobs = np.loadtxt(str(data_filename), skiprows=1)\n",
    "\n",
    "# Extract source and receiver electrode locations and the observed data\n",
    "half_AB_separations = dobs[:, half_AB_column]\n",
    "half_MN_separations = dobs[:, half_MN_column]\n",
    "dobs = dobs[:, apparent_resistivity_column]\n",
    "\n",
    "# Define survey\n",
    "unique_tx, k = np.unique(half_AB_separations, return_index=True)\n",
    "n_sources = len(k)\n",
    "k = np.sort(k)\n",
    "k = np.r_[k, len(dobs)+1]\n",
    "\n",
    "source_list = []\n",
    "for ii in range(0, n_sources):\n",
    "    \n",
    "    # MN electrode locations for receivers. Each is an (N, 3) numpy array\n",
    "    M_locations = -half_MN_separations[k[ii]:k[ii+1]]\n",
    "    M_locations = np.c_[M_locations, np.zeros((np.shape(M_locations)[0], 2))]\n",
    "    N_locations = half_MN_separations[k[ii]:k[ii+1]]\n",
    "    N_locations = np.c_[N_locations, np.zeros((np.shape(N_locations)[0], 2))]\n",
    "    receiver_list = [dc.receivers.Dipole(M_locations, N_locations)]\n",
    "    \n",
    "    # AB electrode locations for source. Each is a (1, 3) numpy array\n",
    "    A_location = np.r_[-half_AB_separations[k[ii]], 0, 0]\n",
    "    B_location = np.r_[half_AB_separations[k[ii]], 0, 0]\n",
    "    source_list.append(dc.sources.Dipole(receiver_list, A_location, B_location))\n",
    "\n",
    "# Define survey\n",
    "survey = dc.Survey(source_list)\n",
    "\n",
    "# Compute the A, B, M and N electrode locations.\n",
    "survey.getABMN_locations()\n",
    "\n",
    "# Plot apparent resistivities on sounding curve as a function of Wenner separation\n",
    "# parameter.\n",
    "electrode_separations = np.sqrt(\n",
    "        np.sum((survey.m_locations - survey.n_locations)**2, axis=1)\n",
    "        )\n",
    "\n",
    "mpl.rcParams.update({'font.size': 14})\n",
    "fig = plt.figure(figsize=(11, 5))\n",
    "ax1 = fig.add_axes([0.05, 0.05, 0.8, 0.9])\n",
    "ax1.loglog(half_AB_separations, dobs, 'b', lw=2)\n",
    "ax1.set_xlabel(\"AB/2 (m)\")\n",
    "ax1.set_ylabel(\"Apparent Resistivity ($\\Omega m$)\")\n",
    "plt.show()"
   ]
  },
  {
   "cell_type": "markdown",
   "metadata": {},
   "source": [
    "Assign Uncertainties\n",
    "--------------------\n",
    "\n",
    "Inversion with SimPEG requires that we define uncertainties on our data. The\n",
    "uncertainty represents our estimate of the standard deviation of the noise on\n",
    "our data."
   ]
  },
  {
   "cell_type": "code",
   "execution_count": 16,
   "metadata": {},
   "outputs": [],
   "source": [
    "uncertainties = uncertainty_floor + 0.01*uncertainty_percent*np.abs(dobs)"
   ]
  },
  {
   "cell_type": "markdown",
   "metadata": {},
   "source": [
    "Define Data\n",
    "--------------------\n",
    "\n",
    "Here is where we define the data that are inverted. The data are defined by\n",
    "the survey, the observation values and the uncertainties."
   ]
  },
  {
   "cell_type": "code",
   "execution_count": 17,
   "metadata": {},
   "outputs": [],
   "source": [
    "data_object = data.Data(survey, dobs=dobs, noise_floor=uncertainties)"
   ]
  },
  {
   "cell_type": "markdown",
   "metadata": {},
   "source": [
    "Define a Starting and Reference Model\n",
    "-------------------------------------\n",
    "\n",
    "Here, we create starting and/or reference models for the inversion as\n",
    "well as the mapping from the model space to the active cells. Starting and\n",
    "reference models can be a constant background value or contain a-priori\n",
    "structures. Here, the starting model is log(1000) Ohm meters.\n",
    "\n",
    "Define log-resistivity values for each layer since our model is the\n",
    "log-resistivity. Don't make the values 0!\n",
    "Otherwise the gradient for the 1st iteration is zero and the inversion will\n",
    "not converge."
   ]
  },
  {
   "cell_type": "code",
   "execution_count": 18,
   "metadata": {},
   "outputs": [],
   "source": [
    "# Defines layered Earth\n",
    "mesh = TensorMesh([layer_thicknesses], '0')\n",
    "\n",
    "# Define model. A resistivity (Ohm meters) or conductivity (S/m) for each layer.\n",
    "starting_model = np.log(starting_resistivity*np.ones((len(layer_thicknesses))))\n",
    "\n",
    "# Define mapping from model to active cells.\n",
    "model_map = maps.IdentityMap(mesh)*maps.ExpMap()"
   ]
  },
  {
   "cell_type": "markdown",
   "metadata": {},
   "source": [
    "Define the Physics\n",
    "------------------\n",
    "\n",
    "Here we define the physics of the problem using the DCSimulation_1D class.\n"
   ]
  },
  {
   "cell_type": "code",
   "execution_count": 19,
   "metadata": {},
   "outputs": [],
   "source": [
    "simulation = dc.simulation_1d.DCSimulation_1D(\n",
    "        mesh, survey=survey, rhoMap=model_map, t=layer_thicknesses,\n",
    "        data_type=\"apparent_resistivity\"\n",
    "        )"
   ]
  },
  {
   "cell_type": "markdown",
   "metadata": {},
   "source": [
    "Define Inverse Problem\n",
    "----------------------\n",
    "\n",
    "The inverse problem is defined by 3 things:\n",
    "\n",
    "    1) Data Misfit: a measure of how well our recovered model explains the field data\n",
    "    2) Regularization: constraints placed on the recovered model and a priori information\n",
    "    3) Optimization: the numerical approach used to solve the inverse problem\n",
    "\n"
   ]
  },
  {
   "cell_type": "code",
   "execution_count": 20,
   "metadata": {},
   "outputs": [],
   "source": [
    "# Define the data misfit. Here the data misfit is the L2 norm of the weighted\n",
    "# residual between the observed data and the data predicted for a given model.\n",
    "# The weighting is defined by the reciprocal of the uncertainties.\n",
    "dmis = data_misfit.L2DataMisfit(simulation=simulation, data=data_object)\n",
    "dmis.W = 1./uncertainties\n",
    "\n",
    "# Define the regularization (model objective function)\n",
    "reg = regularization.Simple(\n",
    "    mesh, alpha_s=1., alpha_x=1., mref=starting_model\n",
    ")\n",
    "\n",
    "# Create model weights based on sensitivity matrix (sensitivity weighting). This is\n",
    "# done to counteract the inversion's desire to place structures only at regions\n",
    "# of very high sensitivity.\n",
    "wr = np.sum(simulation.getJ(starting_model)**2, axis=0)**0.5\n",
    "wr = (wr/np.max(np.abs(wr)))\n",
    "reg.cell_weights = wr  # include in regularization\n",
    "\n",
    "# Define how the optimization problem is solved. Here we will use an inexact\n",
    "# Gauss-Newton approach that employs the conjugate gradient solver.\n",
    "opt = optimization.InexactGaussNewton(\n",
    "    maxIter=30, maxIterCG=20\n",
    ")\n",
    "\n",
    "# Define the inverse problem\n",
    "inv_prob = inverse_problem.BaseInvProblem(dmis, reg, opt)"
   ]
  },
  {
   "cell_type": "markdown",
   "metadata": {},
   "source": [
    "Define Inversion Directives\n",
    "---------------------------\n",
    "\n",
    "Here we define any directives that are carried out during the inversion. This\n",
    "includes the cooling schedule for the trade-off parameter (beta), stopping\n",
    "criteria for the inversion and saving inversion results at each iteration.\n",
    "\n"
   ]
  },
  {
   "cell_type": "code",
   "execution_count": 21,
   "metadata": {},
   "outputs": [],
   "source": [
    "# Defining a starting value for the trade-off parameter (beta) between the data\n",
    "# misfit and the regularization.\n",
    "starting_beta = directives.BetaEstimate_ByEig(beta0_ratio=1e0)\n",
    "\n",
    "# Set the rate of reduction in trade-off parameter (beta) each time the\n",
    "# the inverse problem is solved. And set the number of Gauss-Newton iterations\n",
    "# for each trade-off paramter value.\n",
    "beta_schedule = directives.BetaSchedule(coolingFactor=5., coolingRate=3.)\n",
    "\n",
    "# Apply and update sensitivity weighting as the model updates\n",
    "update_sensitivity_weights = directives.UpdateSensitivityWeights()\n",
    "\n",
    "# Options for outputting recovered models and predicted data for each beta.\n",
    "save_iteration = directives.SaveOutputEveryIteration(save_txt=False)\n",
    "\n",
    "# Setting a stopping criteria for the inversion.\n",
    "target_misfit = directives.TargetMisfit(chifact=1)\n",
    "\n",
    "# The directives are defined as a list.\n",
    "directives_list = [\n",
    "    starting_beta, beta_schedule, update_sensitivity_weights,\n",
    "    save_iteration, target_misfit\n",
    "    ]"
   ]
  },
  {
   "cell_type": "markdown",
   "metadata": {},
   "source": [
    "Running the Inversion\n",
    "---------------------\n",
    "\n",
    "To define the inversion object, we need to define the inversion problem and\n",
    "the set of directives. We can then run the inversion.\n",
    "\n",
    "\n"
   ]
  },
  {
   "cell_type": "code",
   "execution_count": 22,
   "metadata": {},
   "outputs": [
    {
     "name": "stdout",
     "output_type": "stream",
     "text": [
      "\n",
      "    SimPEG.InvProblem is setting bfgsH0 to the inverse of the eval2Deriv.\n",
      "    ***Done using same Solver and solverOpts as the problem***\n",
      "model has any nan: 0\n",
      "============================ Inexact Gauss Newton ============================\n",
      "  #     beta     phi_d     phi_m       f      |proj(x-g)-x|  LS    Comment   \n",
      "-----------------------------------------------------------------------------\n",
      "x0 has any nan: 0\n",
      "   0  3.45e+05  1.91e+06  0.00e+00  1.91e+06    7.69e+05      0              \n",
      "   1  3.45e+05  7.77e+05  1.33e+00  1.24e+06    1.05e+05      0              \n",
      "   2  3.45e+05  9.03e+05  9.21e-01  1.22e+06    2.71e+04      0              \n",
      "   3  6.91e+04  8.67e+05  1.02e+00  9.37e+05    2.86e+05      0              \n",
      "   4  6.91e+04  2.95e+05  5.33e+00  6.63e+05    3.91e+04      0              \n",
      "   5  6.91e+04  3.75e+05  4.04e+00  6.53e+05    1.89e+04      0              \n",
      "   6  1.38e+04  3.34e+05  4.57e+00  3.97e+05    1.15e+05      0              \n",
      "   7  1.38e+04  8.73e+04  1.28e+01  2.64e+05    9.44e+03      0              \n",
      "   8  1.38e+04  1.08e+05  1.08e+01  2.58e+05    5.98e+03      0              \n",
      "   9  2.76e+03  9.32e+04  1.17e+01  1.25e+05    3.58e+04      0              \n",
      "  10  2.76e+03  2.02e+04  2.10e+01  7.82e+04    1.02e+03      0              \n",
      "  11  2.76e+03  2.03e+04  1.90e+01  7.27e+04    1.12e+03      0              \n",
      "  12  5.53e+02  1.76e+04  1.89e+01  2.81e+04    8.65e+03      0              \n",
      "  13  5.53e+02  2.99e+03  2.46e+01  1.66e+04    4.47e+02      0              \n",
      "  14  5.53e+02  2.24e+03  2.40e+01  1.55e+04    3.74e+01      0   Skip BFGS  \n",
      "  15  1.11e+02  2.19e+03  2.39e+01  4.82e+03    1.75e+03      0   Skip BFGS  \n",
      "  16  1.11e+02  2.93e+02  2.62e+01  3.19e+03    1.07e+02      0              \n",
      "  17  1.11e+02  2.12e+02  2.65e+01  3.14e+03    8.34e+00      0   Skip BFGS  \n",
      "  18  2.21e+01  2.17e+02  2.64e+01  8.01e+02    3.44e+02      0              \n",
      "  19  2.21e+01  5.72e+01  2.68e+01  6.50e+02    1.58e+01      0              \n",
      "  20  2.21e+01  5.41e+01  2.66e+01  6.43e+02    1.70e+00      0   Skip BFGS  \n",
      "  21  4.42e+00  5.39e+01  2.66e+01  1.71e+02    6.66e+01      0              \n",
      "  22  4.42e+00  4.28e+01  2.68e+01  1.61e+02    1.29e+01      0              \n",
      "  23  4.42e+00  4.29e+01  2.66e+01  1.61e+02    2.89e+00      0              \n",
      "  24  8.84e-01  4.25e+01  2.67e+01  6.61e+01    1.33e+01      0              \n",
      "  25  8.84e-01  4.08e+01  2.72e+01  6.48e+01    1.31e+01      1              \n",
      "  26  8.84e-01  4.00e+01  2.78e+01  6.46e+01    1.02e+01      0              \n",
      "  27  1.77e-01  3.97e+01  2.78e+01  4.46e+01    2.01e+00      0              \n",
      "  28  1.77e-01  3.94e+01  2.83e+01  4.44e+01    3.57e+00      3              \n",
      "  29  1.77e-01  3.92e+01  2.90e+01  4.43e+01    5.14e+00      2   Skip BFGS  \n",
      "  30  3.54e-02  3.91e+01  2.92e+01  4.01e+01    3.31e+00      1              \n",
      "------------------------- STOP! -------------------------\n",
      "1 : |fc-fOld| = 4.2103e+00 <= tolF*(1+|f0|) = 1.9057e+05\n",
      "1 : |xc-x_last| = 6.1175e-01 <= tolX*(1+|x0|) = 4.2632e+00\n",
      "0 : |proj(x-g)-x|    = 3.3110e+00 <= tolG          = 1.0000e-01\n",
      "0 : |proj(x-g)-x|    = 3.3110e+00 <= 1e3*eps       = 1.0000e-02\n",
      "1 : maxIter   =      30    <= iter          =     30\n",
      "------------------------- DONE! -------------------------\n"
     ]
    }
   ],
   "source": [
    "# Here we combine the inverse problem and the set of directives\n",
    "inv = inversion.BaseInversion(inv_prob, directives_list)\n",
    "\n",
    "# Run the inversion\n",
    "recovered_model = inv.run(starting_model)"
   ]
  },
  {
   "cell_type": "markdown",
   "metadata": {},
   "source": [
    "Examining the Results\n",
    "---------------------\n",
    "\n"
   ]
  },
  {
   "cell_type": "code",
   "execution_count": 23,
   "metadata": {},
   "outputs": [
    {
     "data": {
      "image/png": "[encoded data removed]",
      "text/plain": [
       "<Figure size 360x360 with 1 Axes>"
      ]
     },
     "metadata": {
      "needs_background": "light"
     },
     "output_type": "display_data"
    },
    {
     "data": {
      "image/png": "[encoded data removed]",
      "text/plain": [
       "<Figure size 792x360 with 1 Axes>"
      ]
     },
     "metadata": {
      "needs_background": "light"
     },
     "output_type": "display_data"
    }
   ],
   "source": [
    "# Plot true model and recovered model\n",
    "fig = plt.figure(figsize=(5, 5))\n",
    "mpl.rcParams.update({'font.size': 14})\n",
    "x_min = np.min(model_map*recovered_model)\n",
    "x_max = np.max(model_map*recovered_model)\n",
    "\n",
    "ax1 = fig.add_axes([0.05, 0.05, 0.8, 0.9])\n",
    "plot_layer(model_map*recovered_model, mesh, ax=ax1, depth_axis=False)\n",
    "ax1.set_xlim(0.9*x_min, 1.1*x_max)\n",
    "\n",
    "# Plot the true and apparent resistivities on a sounding curve\n",
    "fig = plt.figure(figsize=(11, 5))\n",
    "mpl.rcParams.update({'font.size': 14})\n",
    "ax1 = fig.add_axes([0.05, 0.05, 0.8, 0.9])\n",
    "ax1.loglog(half_AB_separations, dobs, 'b', lw=2)\n",
    "ax1.loglog(half_AB_separations, inv_prob.dpred, 'r', lw=2)\n",
    "ax1.set_xlabel(\"AB/2 (m)\")\n",
    "ax1.set_ylabel(\"Apparent Resistivity ($\\Omega m$)\")\n",
    "ax1.legend(['True Sounding Curve','Predicted Sounding Curve'])\n",
    "plt.show()"
   ]
  },
  {
   "cell_type": "code",
   "execution_count": null,
   "metadata": {},
   "outputs": [],
   "source": []
  }
 ],
 "metadata": {
  "kernelspec": {
   "display_name": "Python 3",
   "language": "python",
   "name": "python3"
  },
  "language_info": {
   "codemirror_mode": {
    "name": "ipython",
    "version": 3
   },
   "file_extension": ".py",
   "mimetype": "text/x-python",
   "name": "python",
   "nbconvert_exporter": "python",
   "pygments_lexer": "ipython3",
   "version": "3.7.4"
  }
 },
 "nbformat": 4,
 "nbformat_minor": 2
}
