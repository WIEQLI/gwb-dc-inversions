{
 "cells": [
  {
   "cell_type": "code",
   "execution_count": 1,
   "metadata": {},
   "outputs": [],
   "source": [
    "import numpy as np\n",
    "import matplotlib.pyplot as plt\n",
    "from SimPEG.electromagnetics import resistivity as DC\n",
    "from discretize import TensorMesh\n",
    "from SimPEG import maps\n",
    "from SimPEG.electromagnetics.static.resistivity import DCSimulation_1D\n",
    "from SimPEG.electromagnetics.static.utils import StaticUtils"
   ]
  },
  {
   "cell_type": "code",
   "execution_count": 2,
   "metadata": {},
   "outputs": [
    {
     "data": {
      "image/png": "[encoded data removed]",
      "text/plain": [
       "<Figure size 432x288 with 1 Axes>"
      ]
     },
     "metadata": {
      "needs_background": "light"
     },
     "output_type": "display_data"
    }
   ],
   "source": [
    "ntx = 11\n",
    "xtemp_txP = np.logspace(1, np.log10(1000.), ntx)\n",
    "xtemp_txN = -xtemp_txP\n",
    "ytemp_tx = np.zeros(ntx)\n",
    "xtemp_rxP = -5\n",
    "xtemp_rxN = 5\n",
    "ytemp_rx = 0. \n",
    "abhalf = abs(xtemp_txP-xtemp_txN)*0.5\n",
    "a = xtemp_rxN-xtemp_rxP\n",
    "b = ((xtemp_txN-xtemp_txP)-a)*0.5\n",
    "\n",
    "# We generate tx and rx lists:\n",
    "srclist = []\n",
    "for i in range(ntx):\n",
    "    rx = DC.Rx.Dipole(np.r_[xtemp_rxP, ytemp_rx, -12.5], np.r_[xtemp_rxN, ytemp_rx, -12.5])\n",
    "    locA = np.r_[xtemp_txP[i], ytemp_tx[i], -12.5]\n",
    "    locB = np.r_[xtemp_txN[i], ytemp_tx[i], -12.5]\n",
    "    src = DC.Src.Dipole([rx], locA, locB)\n",
    "    srclist.append(src)\n",
    "survey = DC.Survey(srclist)    \n",
    "dz_min=10.\n",
    "hz = dz_min * (1.1)**np.arange(20)\n",
    "mesh_1d = TensorMesh([hz])\n",
    "inds = np.logical_and(mesh_1d.vectorCCx<80, mesh_1d.vectorCCx>30)\n",
    "inds_1 = mesh_1d.vectorCCx>200\n",
    "\n",
    "rho = np.ones(mesh_1d.nC) * 50\n",
    "rho[inds] = 10.\n",
    "rho[inds_1] = 1000.\n",
    "StaticUtils.plot_layer(rho, mesh_1d)\n",
    "\n",
    "simulation = DCSimulation_1D(\n",
    "    mesh=mesh_1d, \n",
    "    rhoMap=maps.ExpMap(mesh_1d),\n",
    "    t=hz[:-1],\n",
    "    survey=survey, \n",
    "    data_type='apparent_resistivity'\n",
    ")"
   ]
  },
  {
   "cell_type": "code",
   "execution_count": 3,
   "metadata": {},
   "outputs": [],
   "source": [
    "from SimPEG import Data"
   ]
  },
  {
   "cell_type": "code",
   "execution_count": 4,
   "metadata": {},
   "outputs": [],
   "source": [
    "from SimPEG import (\n",
    "    maps, data_misfit, regularization,\n",
    "    optimization, inverse_problem, inversion, directives\n",
    ")\n"
   ]
  },
  {
   "cell_type": "code",
   "execution_count": 5,
   "metadata": {},
   "outputs": [
    {
     "name": "stdout",
     "output_type": "stream",
     "text": [
      "CPU times: user 16.4 ms, sys: 4.94 ms, total: 21.3 ms\n",
      "Wall time: 46.6 ms\n"
     ]
    }
   ],
   "source": [
    "%%time\n",
    "dobs = simulation.makeSyntheticData(np.log(rho))"
   ]
  },
  {
   "cell_type": "code",
   "execution_count": 6,
   "metadata": {},
   "outputs": [
    {
     "data": {
      "image/png": "[encoded data removed]",
      "text/plain": [
       "<Figure size 432x288 with 1 Axes>"
      ]
     },
     "metadata": {
      "needs_background": "light"
     },
     "output_type": "display_data"
    }
   ],
   "source": [
    "out = plt.hist(np.log10(dobs.dobs), bins=5)\n",
    "rho0 = 10**out[1][np.argmax(out[0])]"
   ]
  },
  {
   "cell_type": "code",
   "execution_count": 7,
   "metadata": {},
   "outputs": [],
   "source": [
    "dmis = data_misfit.L2DataMisfit(simulation=simulation, data=dobs)\n",
    "floor = 0.\n",
    "std = 0.01\n",
    "uncert = abs(dobs.dobs) * std + floor\n",
    "dmis.W = 1./uncert"
   ]
  },
  {
   "cell_type": "code",
   "execution_count": 8,
   "metadata": {},
   "outputs": [
    {
     "data": {
      "text/plain": [
       "22.936537241269747"
      ]
     },
     "execution_count": 8,
     "metadata": {},
     "output_type": "execute_result"
    }
   ],
   "source": [
    "dobs.dobs.min()"
   ]
  },
  {
   "cell_type": "code",
   "execution_count": 9,
   "metadata": {},
   "outputs": [
    {
     "data": {
      "text/plain": [
       "113.80482312320046"
      ]
     },
     "execution_count": 9,
     "metadata": {},
     "output_type": "execute_result"
    }
   ],
   "source": [
    "dobs.dobs.max()"
   ]
  },
  {
   "cell_type": "code",
   "execution_count": 10,
   "metadata": {},
   "outputs": [
    {
     "data": {
      "text/plain": [
       "1.0"
      ]
     },
     "execution_count": 10,
     "metadata": {},
     "output_type": "execute_result"
    }
   ],
   "source": [
    "1./mesh_1d.hx.min()**2 * 100."
   ]
  },
  {
   "cell_type": "code",
   "execution_count": 11,
   "metadata": {},
   "outputs": [
    {
     "name": "stdout",
     "output_type": "stream",
     "text": [
      "\n",
      "    SimPEG.InvProblem is setting bfgsH0 to the inverse of the eval2Deriv.\n",
      "    ***Done using same Solver and solverOpts as the problem***\n",
      "SimPEG.SaveOutputDictEveryIteration will save your inversion progress as dictionary: '###-InversionModel-2019-12-20-14-32.npz'\n",
      "model has any nan: 0\n",
      "============================ Inexact Gauss Newton ============================\n",
      "  #     beta     phi_d     phi_m       f      |proj(x-g)-x|  LS    Comment   \n",
      "-----------------------------------------------------------------------------\n",
      "x0 has any nan: 0\n",
      "   0  2.83e+04  1.58e+04  0.00e+00  1.58e+04    8.23e+03      0              \n",
      "   1  1.42e+04  3.32e+03  7.76e-02  4.42e+03    1.20e+04      0              \n",
      "   2  7.08e+03  5.40e+02  1.15e-01  1.35e+03    1.00e+03      0              \n",
      "   3  3.54e+03  2.57e+02  1.41e-01  7.57e+02    2.15e+02      0   Skip BFGS  \n",
      "   4  1.77e+03  1.05e+02  1.73e-01  4.12e+02    1.51e+02      0   Skip BFGS  \n",
      "   5  8.84e+02  4.01e+01  2.00e-01  2.17e+02    9.60e+01      0   Skip BFGS  \n",
      "   6  4.42e+02  1.38e+01  2.20e-01  1.11e+02    4.74e+01      0   Skip BFGS  \n",
      "------------------------- STOP! -------------------------\n",
      "1 : |fc-fOld| = 0.0000e+00 <= tolF*(1+|f0|) = 1.5816e+03\n",
      "1 : |xc-x_last| = 2.4730e-01 <= tolX*(1+|x0|) = 1.4397e+00\n",
      "0 : |proj(x-g)-x|    = 4.7448e+01 <= tolG          = 1.0000e-01\n",
      "0 : |proj(x-g)-x|    = 4.7448e+01 <= 1e3*eps       = 1.0000e-02\n",
      "0 : maxIter   =      30    <= iter          =      7\n",
      "------------------------- DONE! -------------------------\n"
     ]
    }
   ],
   "source": [
    "regMesh = TensorMesh([mesh_1d.hx])\n",
    "m0 = np.log(np.ones(rho.size)*20.)\n",
    "mref = np.log(np.ones(rho.size)*20.)\n",
    "reg = regularization.Tikhonov(\n",
    "    regMesh, alpha_s=1./mesh_1d.hx.min()**2 * 1e-2, alpha_x=1.,\n",
    "    mref=mref, \n",
    "    mapping=maps.IdentityMap(mesh=regMesh)\n",
    ")\n",
    "opt = optimization.InexactGaussNewton(\n",
    "    maxIter=30, maxIterCG=20\n",
    ")\n",
    "invProb = inverse_problem.BaseInvProblem(dmis, reg, opt)\n",
    "target = directives.TargetMisfit()\n",
    "# Create an inversion object\n",
    "beta = directives.BetaSchedule(coolingFactor=2., coolingRate=1.)\n",
    "betaest = directives.BetaEstimate_ByEig(beta0_ratio=1e0)\n",
    "save =  directives.SaveOutputDictEveryIteration()\n",
    "inv = inversion.BaseInversion(invProb, directiveList=[beta, betaest, save, target])\n",
    "\n",
    "opt.remember('xc')\n",
    "mopt = inv.run(m0)"
   ]
  },
  {
   "cell_type": "code",
   "execution_count": 12,
   "metadata": {},
   "outputs": [
    {
     "data": {
      "text/plain": [
       "(10, 1000)"
      ]
     },
     "execution_count": 12,
     "metadata": {},
     "output_type": "execute_result"
    },
    {
     "data": {
      "image/png": "[encoded data removed]",
      "text/plain": [
       "<Figure size 432x288 with 1 Axes>"
      ]
     },
     "metadata": {
      "needs_background": "light"
     },
     "output_type": "display_data"
    }
   ],
   "source": [
    "StaticUtils.plot_layer(rho, mesh_1d)\n",
    "StaticUtils.plot_layer(np.exp(mopt), mesh_1d, **{'color':'r'})\n",
    "plt.xlim(10, 1000)"
   ]
  },
  {
   "cell_type": "code",
   "execution_count": 13,
   "metadata": {},
   "outputs": [
    {
     "data": {
      "text/plain": [
       "<matplotlib.legend.Legend at 0x1a2ad21668>"
      ]
     },
     "execution_count": 13,
     "metadata": {},
     "output_type": "execute_result"
    },
    {
     "data": {
      "image/png": "[encoded data removed]",
      "text/plain": [
       "<Figure size 432x288 with 1 Axes>"
      ]
     },
     "metadata": {
      "needs_background": "light"
     },
     "output_type": "display_data"
    }
   ],
   "source": [
    "ab = simulation.electrode_separations['AB']\n",
    "plt.loglog(ab/2., dobs.dobs, '-')\n",
    "plt.loglog(ab/2., invProb.dpred, '.')\n",
    "plt.legend((\"Observed\", \"Predicted\"))"
   ]
  }
 ],
 "metadata": {
  "kernelspec": {
   "display_name": "Python 3",
   "language": "python",
   "name": "python3"
  },
  "language_info": {
   "codemirror_mode": {
    "name": "ipython",
    "version": 3
   },
   "file_extension": ".py",
   "mimetype": "text/x-python",
   "name": "python",
   "nbconvert_exporter": "python",
   "pygments_lexer": "ipython3",
   "version": "3.7.3"
  }
 },
 "nbformat": 4,
 "nbformat_minor": 2
}
