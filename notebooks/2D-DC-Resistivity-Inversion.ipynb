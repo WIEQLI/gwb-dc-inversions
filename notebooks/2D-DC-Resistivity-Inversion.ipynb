{
 "cells": [
  {
   "cell_type": "markdown",
   "metadata": {},
   "source": [
    "# 2D DC Resistivity Inversion"
   ]
  },
  {
   "cell_type": "code",
   "execution_count": 1,
   "metadata": {},
   "outputs": [],
   "source": [
    "from utils.DCResistivity import DCRInversionApp\n",
    "dc_app = DCRInversionApp()"
   ]
  },
  {
   "cell_type": "markdown",
   "metadata": {},
   "source": [
    "# Purpose\n",
    "\n",
    "We load observed DC data, and invert to recover a resistivity model. By altering inversion parameters and exploring correspoding inversion results, we investigate important aspects of the 2D DC resistivity inversion. \n",
    "\n",
    "## Outline\n",
    "This notebook includes four steps:\n",
    "- Step1: Load observed data\n",
    "- Step2: Plot observed data\n",
    "- Step3: Set uncertainty\n",
    "- Step4: Run inversion\n",
    "- Step5: Explore inversion results"
   ]
  },
  {
   "cell_type": "markdown",
   "metadata": {},
   "source": [
    "## Step1: Load observed data\n",
    "\n",
    "- `obsfile`: file name for the observed data\n",
    "- `topofile`: file name for the topography data\n",
    "- `load`: will load the observation file if this is checked\n",
    "- `input type`: type of the input file"
   ]
  },
  {
   "cell_type": "code",
   "execution_count": 2,
   "metadata": {},
   "outputs": [
    {
     "data": {
      "application/vnd.jupyter.widget-view+json": {
       "model_id": "71c5e6c3f39f43038303601d861906d6",
       "version_major": 2,
       "version_minor": 0
      },
      "text/plain": [
       "interactive(children=(Text(value='./dc.csv', description='obsfile:', placeholder='Type something'), Text(value…"
      ]
     },
     "metadata": {},
     "output_type": "display_data"
    }
   ],
   "source": [
    "dc_app.interact_load_obs()"
   ]
  },
  {
   "cell_type": "markdown",
   "metadata": {},
   "source": [
    "## Step2: Set a 2D tensor mesh \n",
    "\n",
    "- `dx`: file name for the observed data\n",
    "- `dz`: file name for the topography data\n",
    "- `corezlength`: will load the observation file if this is checked"
   ]
  },
  {
   "cell_type": "code",
   "execution_count": 3,
   "metadata": {},
   "outputs": [
    {
     "data": {
      "application/vnd.jupyter.widget-view+json": {
       "model_id": "21ba4e557cb54e29a0753dba89e1719d",
       "version_major": 2,
       "version_minor": 0
      },
      "text/plain": [
       "interactive(children=(FloatText(value=2.5, description='dx'), FloatText(value=1.25, description='dz'), FloatTe…"
      ]
     },
     "metadata": {},
     "output_type": "display_data"
    }
   ],
   "source": [
    "dc_app.interact_set_mesh()"
   ]
  },
  {
   "cell_type": "markdown",
   "metadata": {},
   "source": [
    "## Step2: Plot observed data\n",
    "\n",
    "- `data type`: type of the data\n",
    "- `plot type`: type of the data plot\n",
    "- `aspect ratio`: aspect ratio for pseudo-section plot"
   ]
  },
  {
   "cell_type": "code",
   "execution_count": 4,
   "metadata": {},
   "outputs": [
    {
     "data": {
      "application/vnd.jupyter.widget-view+json": {
       "model_id": "d43d229525ff416bafb072cdc082e7b5",
       "version_major": 2,
       "version_minor": 0
      },
      "text/plain": [
       "interactive(children=(ToggleButtons(description='data type', options=('apparent_resistivity', 'volt'), value='…"
      ]
     },
     "metadata": {},
     "output_type": "display_data"
    }
   ],
   "source": [
    "dc_app.interact_plot_obs_data()"
   ]
  },
  {
   "cell_type": "markdown",
   "metadata": {},
   "source": [
    "## Step3: Set uncertainty\n",
    "\n",
    "$$ \\text{uncertainty} = 0.01 \\times \\text{percentage}\\times|d^{obs}| + \\text{floor}$$\n",
    "\n",
    "- `percentage (%)`: percentage error\n",
    "- `floor (V)`: floor error"
   ]
  },
  {
   "cell_type": "code",
   "execution_count": 5,
   "metadata": {},
   "outputs": [
    {
     "data": {
      "application/vnd.jupyter.widget-view+json": {
       "model_id": "8b6e9cde2cc24c8fa3dfbab9d3016617",
       "version_major": 2,
       "version_minor": 0
      },
      "text/plain": [
       "interactive(children=(FloatText(value=5.0, description='percentage'), FloatText(value=0.0, description='floor'…"
      ]
     },
     "metadata": {},
     "output_type": "display_data"
    }
   ],
   "source": [
    "dc_app.interact_set_uncertainty()"
   ]
  },
  {
   "cell_type": "markdown",
   "metadata": {},
   "source": [
    "## Step4: Run inversion\n",
    "\n",
    "- $\\rho_0$: initial resistivity model\n",
    "- $\\rho_{ref}$: reference resistivity model\n",
    "- `alpha_s`: $\\alpha_s$\n",
    "- `alpha_x`: $\\alpha_x$\n",
    "- `alpha_z`: $\\alpha_z$\n",
    "- `maxIter`: maximum number of iteration\n",
    "- `chifact`: chifactor for the target misfit\n",
    "- `beta0_ratio`: ratio to set the initial beta\n",
    "- `coolingFactor`: cooling factor to cool beta\n",
    "- `n_iter_per_beta`: # of interation for each beta value \n",
    "- `run`: run inversion if this is checked"
   ]
  },
  {
   "cell_type": "code",
   "execution_count": 6,
   "metadata": {},
   "outputs": [
    {
     "data": {
      "application/vnd.jupyter.widget-view+json": {
       "model_id": "6c2acb417a4e490bbfa58a1f0fbd83ab",
       "version_major": 2,
       "version_minor": 0
      },
      "text/plain": [
       "interactive(children=(FloatText(value=1079.0, description='$\\\\rho_0$'), FloatText(value=1079.0, description='$…"
      ]
     },
     "metadata": {},
     "output_type": "display_data"
    }
   ],
   "source": [
    "dc_app.interact_run_inversion()"
   ]
  },
  {
   "cell_type": "markdown",
   "metadata": {},
   "source": [
    "## Step5: Explore inversion results\n",
    "\n",
    "- `iteration`: inversion iteration\n",
    "- `curve type`:type of the curve (this is active when `plot type`=`misfit_curve`)\n",
    "- `scale`: linear or log scale (this is active when `plot type`=`misfit_curve`)\n",
    "- `plot type`: type of the plot\n",
    "- `show grid?`: show mesh grid when this is checked\n",
    "- `show core?`: show only core domain when this is checked\n",
    "- `aspect ratio`: aspect ratio for data misfit plot"
   ]
  },
  {
   "cell_type": "code",
   "execution_count": 8,
   "metadata": {
    "scrolled": false
   },
   "outputs": [
    {
     "data": {
      "application/vnd.jupyter.widget-view+json": {
       "model_id": "769c3a58f2834936b0cb375f0840f21a",
       "version_major": 2,
       "version_minor": 0
      },
      "text/plain": [
       "interactive(children=(IntSlider(value=1, continuous_update=False, description='iteration', max=5, min=1), Togg…"
      ]
     },
     "metadata": {},
     "output_type": "display_data"
    }
   ],
   "source": [
    "dc_app.interact_plot_inversion_results()"
   ]
  }
 ],
 "metadata": {
  "kernelspec": {
   "display_name": "Python 3",
   "language": "python",
   "name": "python3"
  },
  "language_info": {
   "codemirror_mode": {
    "name": "ipython",
    "version": 3
   },
   "file_extension": ".py",
   "mimetype": "text/x-python",
   "name": "python",
   "nbconvert_exporter": "python",
   "pygments_lexer": "ipython3",
   "version": "3.7.3"
  }
 },
 "nbformat": 4,
 "nbformat_minor": 2
}
