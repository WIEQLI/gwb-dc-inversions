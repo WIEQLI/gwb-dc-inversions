{
 "cells": [
  {
   "cell_type": "markdown",
   "metadata": {},
   "source": [
    "# App 2: Sounding Data over a 3 Layered Earth\n",
    "\n",
    "For a direct current resistivity (DCR) survey, currents are injected to the earth, and flow. \n",
    "Depending upon the conductivity contrast current flow in the earth will be distorted, and these changes \n",
    "can be measurable on the sufurface electrodes. \n",
    "The depth to which the array is sensitive depends upon the length of the array. Typically a Wenner or Schlumberger array is used. The data are apparent resistivity as a function of AB/2 where AB denotes the length of the array. \n",
    "\n",
    "## Background: Sounding Curves\n",
    "\n",
    "\n",
    "\n",
    "\n",
    "## Import Packages"
   ]
  },
  {
   "cell_type": "code",
   "execution_count": 1,
   "metadata": {},
   "outputs": [],
   "source": [
    "from utils.DCWidget3Layer2_5D import ThreeLayer_app\n",
    "from IPython.display import display\n",
    "%matplotlib inline\n",
    "from matplotlib import rcParams\n",
    "rcParams['font.size'] = 16"
   ]
  },
  {
   "cell_type": "markdown",
   "metadata": {},
   "source": [
    " ## User Defined Parameters for the App\n",
    " \n",
    " - **survey**: Type of survey\n",
    " - **$\\frac{AB}{2}$**: Half AB spacing\n",
    " - **$h_{1}$**: thickness of the top layer\n",
    " - **$h_{2}$**: thickness of the middle layer\n",
    " - **$\\rho_{1}$**: Resistivity of the top layer\n",
    " - **$\\rho_{2}$**: Resistivity of the middle layer\n",
    " - **$\\rho_{3}$**: Resistivity of the basement\n",
    " - **Field**: Field to visualize\n",
    " - **Type**: which part of the field\n",
    " - **Scale**: Linear or Log Scale visualization\n",
    " \n",
    " If you are going to interact with the sliders to investigate the apparent resistivity profile, we suggest leaving the Field display set to Model"
   ]
  },
  {
   "cell_type": "code",
   "execution_count": 2,
   "metadata": {
    "scrolled": false
   },
   "outputs": [
    {
     "data": {
      "application/vnd.jupyter.widget-view+json": {
       "model_id": "0197894408d04dbeabe239fe2ea2f46c",
       "version_major": 2,
       "version_minor": 0
      },
      "text/plain": [
       "MyApp(children=(ToggleButtons(description='survey', options=('Wenner', 'Schlumberger'), value='Wenner'), Float…"
      ]
     },
     "metadata": {},
     "output_type": "display_data"
    }
   ],
   "source": [
    "ThreeLayer_app()"
   ]
  },
  {
   "cell_type": "markdown",
   "metadata": {},
   "source": [
    "## Learning Exercise\n",
    "\n",
    "**Q1:** What happens when we decrease layer resistivity\n",
    "\n",
    "\n",
    "**Q2:** What happens as we lower the layer\n",
    "\n"
   ]
  }
 ],
 "metadata": {
  "kernelspec": {
   "display_name": "Python 3",
   "language": "python",
   "name": "python3"
  },
  "language_info": {
   "codemirror_mode": {
    "name": "ipython",
    "version": 3
   },
   "file_extension": ".py",
   "mimetype": "text/x-python",
   "name": "python",
   "nbconvert_exporter": "python",
   "pygments_lexer": "ipython3",
   "version": "3.7.4"
  }
 },
 "nbformat": 4,
 "nbformat_minor": 4
}
