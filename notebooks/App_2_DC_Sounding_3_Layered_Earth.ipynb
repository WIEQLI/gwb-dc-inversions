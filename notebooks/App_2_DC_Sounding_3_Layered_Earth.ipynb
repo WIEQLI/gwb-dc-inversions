{
 "cells": [
  {
   "cell_type": "markdown",
   "metadata": {},
   "source": [
    "# App 2: Sounding Curves over a 3 Layered Earth\n",
    "\n",
    "In this notebook, we use widgets to learn how sounding curves depend on the Earth's resistivity. To accomplish this we use a 3-layered Earth model. We simulate the sounding curve data for both a Wenner array and a Schlumberger array.\n",
    "\n",
    "\n",
    "## Background: Sounding Curves\n",
    "\n",
    "As we increase the electrode spacing, we obtain information about the Earth's resistivity at greater depths. During a sounding survey, we measure the voltage and obtain the apparent resistivity for a range of electrode spacings. The end results is a *sounding curve*; which is a plot of the apparent resistivity as a function of the transmitter electrode spacing. Sounding curves are then used to gain information about the Earth's resistivity as a function of depth.\n",
    "\n",
    "<img style=\"float: center; width: 900px\" src=\"https://github.com/simpeg-research/gwb-dc-inversions/blob/master/figures/3_layer_sounding.png?raw=true\">\n",
    "\n",
    "**Electrode locations for a Wenner array measurement (left). Sounding curves acquired using a Wenner array and a Schlumberger array (right).**\n",
    "\n",
    "\n",
    "## Import Packages"
   ]
  },
  {
   "cell_type": "code",
   "execution_count": 1,
   "metadata": {},
   "outputs": [],
   "source": [
    "from utils.DCWidget3Layer2_5D import ThreeLayer_app\n",
    "from IPython.display import display\n",
    "%matplotlib inline\n",
    "from matplotlib import rcParams\n",
    "rcParams['font.size'] = 22"
   ]
  },
  {
   "cell_type": "markdown",
   "metadata": {},
   "source": [
    " ## User Defined Parameters for the App\n",
    " \n",
    " - **survey**: Type of survey\n",
    " - **$\\frac{AB}{2}$**: Half AB spacing\n",
    " - **$h_{0}$**: thickness of the top layer\n",
    " - **$h_{1}$**: thickness of the middle layer\n",
    " - **$\\rho_{1}$**: Resistivity of the top layer\n",
    " - **$\\rho_{2}$**: Resistivity of the middle layer\n",
    " - **$\\rho_{3}$**: Resistivity of the basement\n",
    " - **Field**: Field to visualize\n",
    " - **Type**: which part of the field\n",
    " - **Scale**: Linear or Log Scale visualization\n",
    " \n",
    " If you are going to interact with the sliders to investigate the apparent resistivity profile, we suggest leaving the Field display set to Model"
   ]
  },
  {
   "cell_type": "code",
   "execution_count": 2,
   "metadata": {
    "scrolled": false
   },
   "outputs": [
    {
     "data": {
      "application/vnd.jupyter.widget-view+json": {
       "model_id": "d42c5e931b2243d698e710884d91bea2",
       "version_major": 2,
       "version_minor": 0
      },
      "text/plain": [
       "MyApp(children=(ToggleButtons(description='survey', options=('Wenner', 'Schlumberger'), value='Wenner'), Float…"
      ]
     },
     "metadata": {},
     "output_type": "display_data"
    }
   ],
   "source": [
    "ThreeLayer_app()"
   ]
  },
  {
   "cell_type": "markdown",
   "metadata": {},
   "source": [
    "## Learning Exercise\n",
    "\n",
    "When the notebook is first run, it computes the Wenner and Schlumberger sounding curves for a less resistive layer in a more resistive background.\n",
    "\n",
    "**Q1:** For the default settings, what is the apparent resistivity for the smallest electrode spacing? Does this reading give you information about the 2nd and 3rd layers?\n",
    "\n",
    "**Q2:** At what electrode spacing (AB/2 value) do we start to see the lowest layer?\n",
    "\n",
    "**Q3:** Let us see what happens to the sounding curve when we change the resistivity of the middle layer. In the table below, write down the minimum and maximum apparent resistivity values for the $\\rho_1$ values provided. You can choose to write the values for the Wenner or Schlumberger arrays.\n",
    "\n",
    "\n",
    "| $\\rho_1$ | Minimum $\\rho_a$ | Maximum $\\rho_a$ |\n",
    "|:--------:| ---------------- | ---------------- |\n",
    "|  5       |                  |                  |\n",
    "|  50      |                  |                  |\n",
    "|  500     |                  |                  |\n",
    "|  5000    |                  |                  |\n",
    "|  50000   |                  |                  |\n",
    "|  500000  |                  |                  |\n",
    "\n",
    "\n",
    "**Q4:** If the middle layer is much larger or much smaller than the other 2 layers, does the sounding curve give us much information about the bottom layer?\n",
    "\n",
    "**Q5:** Let us see what happens to the sounding curve when we change the depth to the middle layer ($h_0$). First set the resistivity of the middle layer to $\\rho_1$ = 500 $\\Omega m$. $\\rho_0$ and $\\rho_2$ are left as 5000 $\\Omega m$. For each $h_0$ value provided in the table below, write down the AB/2 value at which you see the smallest apparent resistivity.\n",
    "\n",
    "| $h_0$    | AB/2             |\n",
    "|:--------:| ---------------- |\n",
    "|  2       |                  |\n",
    "|  5       |                  |\n",
    "|  10      |                  |\n",
    "|  20      |                  |\n",
    "\n",
    "**Q6:** If the middle layer is very deep, will the sounding curve give us much information about the bottom layer?\n",
    "\n",
    "\n"
   ]
  },
  {
   "cell_type": "code",
   "execution_count": null,
   "metadata": {},
   "outputs": [],
   "source": []
  }
 ],
 "metadata": {
  "kernelspec": {
   "display_name": "Python 3",
   "language": "python",
   "name": "python3"
  },
  "language_info": {
   "codemirror_mode": {
    "name": "ipython",
    "version": 3
   },
   "file_extension": ".py",
   "mimetype": "text/x-python",
   "name": "python",
   "nbconvert_exporter": "python",
   "pygments_lexer": "ipython3",
   "version": "3.7.4"
  }
 },
 "nbformat": 4,
 "nbformat_minor": 4
}
