{
 "cells": [
  {
   "cell_type": "markdown",
   "metadata": {},
   "source": [
    "# Parametric fitting app for 1D DC resistivity (i.e. VES) data"
   ]
  },
  {
   "cell_type": "code",
   "execution_count": 1,
   "metadata": {},
   "outputs": [],
   "source": [
    "import numpy as np\n",
    "import matplotlib.pyplot as plt\n",
    "from SimPEG.electromagnetics import resistivity as DC\n",
    "from discretize import TensorMesh\n",
    "from SimPEG import maps\n",
    "from SimPEG import Data\n",
    "from SimPEG.electromagnetics.static.resistivity import DCSimulation_1D, IO\n",
    "from SimPEG.electromagnetics.static.utils import StaticUtils\n",
    "from SimPEG import (\n",
    "    maps, data_misfit, regularization,\n",
    "    optimization, inverse_problem, inversion, directives, Data\n",
    ")\n",
    "from ipywidgets import widgets, interact, interactive\n",
    "import warnings\n",
    "warnings.filterwarnings(\"ignore\")"
   ]
  },
  {
   "cell_type": "code",
   "execution_count": 2,
   "metadata": {},
   "outputs": [],
   "source": [
    "def read_ves(fname):\n",
    "    import pandas as pd\n",
    "    df = pd.read_csv(fname)\n",
    "    ab_2 = df['AB/2 (m)']\n",
    "    mn_2 = df['MN/2 (m)']\n",
    "    n_sounding = ab_2.size\n",
    "    # We generate tx and rx lists:\n",
    "    srclist = []\n",
    "    for ii in range(n_sounding):\n",
    "        a_loc = ab_2[ii]\n",
    "        b_loc = -ab_2[ii]\n",
    "        m_loc = mn_2[ii]\n",
    "        n_loc = -mn_2[ii]\n",
    "        rx = DC.Rx.Dipole(np.r_[m_loc, 0, 0], np.r_[n_loc, 0, 0])\n",
    "        locA = np.r_[a_loc, 0, 0]\n",
    "        locB = np.r_[b_loc, 0, 0]\n",
    "        src = DC.Src.Dipole([rx], locA, locB)\n",
    "        srclist.append(src)\n",
    "    survey = DC.Survey(srclist)  \n",
    "    data = Data(survey=survey, dobs=df['App. Res. (Ohm m)'].values)\n",
    "    return data\n",
    "\n",
    "def generate_resistivity_model(rho_1, rho_2, rho_3, t_1, t_2):\n",
    "    hz = np.r_[t_1, t_2, 100.]\n",
    "    rho = np.r_[rho_1, rho_2, rho_3]\n",
    "    return hz, rho\n",
    "\n",
    "def plot_resistivity(hz, rho):\n",
    "    mesh_1d = TensorMesh([hz])\n",
    "    StaticUtils.plot_layer(rho, mesh_1d)    \n",
    "\n",
    "def simulate(hz, rho):\n",
    "    wires = maps.Wires(('rho', rho.size), ('t', rho.size-1))\n",
    "    mapping_rho = maps.ExpMap(nP=rho.size) * wires.rho\n",
    "    mapping_t = maps.ExpMap(nP=rho.size-1) * wires.t\n",
    "    # mapping_t = wires.t\n",
    "    simulation = DCSimulation_1D(\n",
    "        rhoMap=mapping_rho,\n",
    "        thicknessesMap=mapping_t,    \n",
    "        survey=data.survey, \n",
    "        data_type='apparent_resistivity'\n",
    "    )    \n",
    "    m = np.log(np.r_[rho, hz[:-1]])\n",
    "    data_tmp = simulation.makeSyntheticData(m)\n",
    "    ab = simulation.electrode_separations['AB']    \n",
    "    return ab, data_tmp\n",
    "\n",
    "def foo(rho_1, rho_2, rho_3, t_1, t_2):\n",
    "    import matplotlib\n",
    "    matplotlib.rcParams['font.size'] = 14    \n",
    "    hz, rho = generate_resistivity_model(rho_1, rho_2, rho_3, t_1, t_2)\n",
    "    mesh_1d = TensorMesh([hz])\n",
    "    ab, data_tmp = simulate(hz, rho)\n",
    "    fig, axs = plt.subplots(1,2,figsize=(10, 5))\n",
    "    StaticUtils.plot_layer(rho, mesh_1d, ax=axs[0])    \n",
    "    axs[1].loglog(ab/2., data_tmp.dobs, '-')   \n",
    "    axs[1].loglog(ab/2., data.dobs, 'kx')      \n",
    "    axs[1].set_xlabel(\"AB/2\")\n",
    "    axs[1].set_ylabel(\"App. resistivity (ohm-m)\")   \n",
    "    axs[1].grid(which='both')\n",
    "    plt.tight_layout()"
   ]
  },
  {
   "cell_type": "markdown",
   "metadata": {},
   "source": [
    "## Step1: Read VES data"
   ]
  },
  {
   "cell_type": "code",
   "execution_count": 3,
   "metadata": {},
   "outputs": [],
   "source": [
    "fname = './assets/ves-obs-3.csv'\n",
    "data = read_ves(fname)"
   ]
  },
  {
   "cell_type": "markdown",
   "metadata": {},
   "source": [
    "## Step 2: Fit observed VES data using 3-layer app"
   ]
  },
  {
   "cell_type": "code",
   "execution_count": 4,
   "metadata": {},
   "outputs": [
    {
     "data": {
      "application/vnd.jupyter.widget-view+json": {
       "model_id": "d02ceebe044c41f6885f5891409579ec",
       "version_major": 2,
       "version_minor": 0
      },
      "text/plain": [
       "interactive(children=(IntSlider(value=94, continuous_update=False, description='$\\\\rho_1$', max=5000, min=1), …"
      ]
     },
     "metadata": {},
     "output_type": "display_data"
    }
   ],
   "source": [
    "q = interactive(\n",
    "    foo,\n",
    "    rho_1=widgets.IntSlider(value=np.median(data.dobs), min=1, max=5000, step=1, continuous_update=False, description='$\\\\rho_1$'),\n",
    "    rho_2=widgets.IntSlider(value=np.median(data.dobs), min=1, max=5000, step=1, continuous_update=False, description='$\\\\rho_2$'),\n",
    "    rho_3=widgets.IntSlider(value=np.median(data.dobs), min=1, max=5000, step=1, continuous_update=False, description='$\\\\rho_3$'),\n",
    "    t_1=widgets.IntSlider(value=10, min=1, max=5000, step=1, continuous_update=False, description='$h_1$'),\n",
    "    t_2=widgets.IntSlider(value=10, min=1, max=5000, step=1, continuous_update=False, description='$h_2$'),\n",
    ")\n",
    "q"
   ]
  },
  {
   "cell_type": "markdown",
   "metadata": {},
   "source": [
    "## Step 3: Set parameters of parametric inversion"
   ]
  },
  {
   "cell_type": "code",
   "execution_count": 92,
   "metadata": {},
   "outputs": [],
   "source": [
    "rho0 = np.median(data.dobs)\n",
    "thickness0 = 30.\n",
    "n_layer = 8\n",
    "maxIter = 10\n",
    "floor = 10.\n",
    "std = 0.01\n",
    "alpha_s = 1\n",
    "alpha_x = 1\n",
    "beta0_ratio = 1."
   ]
  },
  {
   "cell_type": "code",
   "execution_count": 93,
   "metadata": {},
   "outputs": [
    {
     "name": "stdout",
     "output_type": "stream",
     "text": [
      "SimPEG.InvProblem will set Regularization.mref to m0.\n",
      "SimPEG.InvProblem will set Regularization.mref to m0.\n",
      "\n",
      "    SimPEG.InvProblem is setting bfgsH0 to the inverse of the eval2Deriv.\n",
      "    ***Done using same Solver and solverOpts as the problem***\n",
      "SimPEG.SaveOutputDictEveryIteration will save your inversion progress as dictionary: '###-InversionModel-2020-01-21-11-03.npz'\n",
      "model has any nan: 0\n",
      "=================================== Inexact Gauss Newton ===================================\n",
      "  #     beta     phi_d     phi_m     phi_s     phi_x     phi_y     phi_z    LS    Comment   \n",
      "--------------------------------------------------------------------------------------------\n",
      "   0  2.56e+02  2.43e+03  0.00e+00  0.00e+00  0.00e+00  0.00e+00  0.00e+00   0              \n",
      "   1  1.28e+02  1.50e+03  8.48e-01  7.33e-01  1.15e-01  0.00e+00  0.00e+00   0              \n",
      "   2  6.41e+01  9.10e+02  2.23e+00  1.96e+00  2.75e-01  0.00e+00  0.00e+00   0              \n",
      "   3  3.20e+01  1.68e+02  5.59e+00  4.99e+00  6.07e-01  0.00e+00  0.00e+00   0              \n",
      "   4  1.60e+01  6.89e+01  6.88e+00  6.23e+00  6.50e-01  0.00e+00  0.00e+00   0   Skip BFGS  \n",
      "   5  8.01e+00  4.53e+01  7.68e+00  6.99e+00  6.88e-01  0.00e+00  0.00e+00   0   Skip BFGS  \n",
      "   6  4.00e+00  3.75e+01  8.23e+00  7.55e+00  6.84e-01  0.00e+00  0.00e+00   0   Skip BFGS  \n",
      "   7  2.00e+00  3.44e+01  8.70e+00  8.05e+00  6.45e-01  0.00e+00  0.00e+00   0   Skip BFGS  \n",
      "   8  1.00e+00  3.22e+01  9.43e+00  8.83e+00  6.03e-01  0.00e+00  0.00e+00   0   Skip BFGS  \n",
      "   9  5.00e-01  3.07e+01  1.03e+01  9.63e+00  7.12e-01  0.00e+00  0.00e+00   0   Skip BFGS  \n",
      "  10  2.50e-01  3.01e+01  1.09e+01  1.01e+01  7.49e-01  0.00e+00  0.00e+00   1              \n",
      "  10  2.50e-01  3.01e+01  1.09e+01  1.01e+01  7.49e-01  0.00e+00  0.00e+00   1              \n",
      "=========================================== Done ===========================================\n",
      "=========================================== Done ===========================================\n"
     ]
    }
   ],
   "source": [
    "m0 = np.r_[np.log(np.ones(n_layer)*rho0), np.log(np.ones(n_layer-1) * thickness0)]\n",
    "\n",
    "wires = maps.Wires(('rho', n_layer), ('t', n_layer-1))\n",
    "mapping_rho = maps.ExpMap(nP=n_layer) * wires.rho\n",
    "mapping_t = maps.ExpMap(nP=n_layer-1) * wires.t\n",
    "simulation = DCSimulation_1D(\n",
    "    rhoMap=mapping_rho,\n",
    "    thicknessesMap=mapping_t,    \n",
    "    survey=data.survey, \n",
    "    data_type='apparent_resistivity'\n",
    ")        \n",
    "\n",
    "dmis = data_misfit.L2DataMisfit(simulation=simulation, data=data)\n",
    "uncert = abs(data.dobs) * std + floor\n",
    "dmis.W = 1./uncert\n",
    "\n",
    "simulation = DCSimulation_1D(\n",
    "    rhoMap=mapping_rho,\n",
    "    thicknessesMap=mapping_t,    \n",
    "    survey=data.survey, \n",
    "    data_type='apparent_resistivity'\n",
    ")\n",
    "\n",
    "mesh_rho = TensorMesh([n_layer])\n",
    "reg_rho = regularization.Simple(\n",
    "    mesh_rho, alpha_s=alpha_s, alpha_x=alpha_x,\n",
    "    mapping=wires.rho\n",
    ")\n",
    "mesh_t = TensorMesh([n_layer-1])\n",
    "reg_t = regularization.Simple(\n",
    "    mesh_t, alpha_s=alpha_s, alpha_x=alpha_x,\n",
    "    mapping=wires.t    \n",
    ")\n",
    "reg = reg_rho + reg_t\n",
    "opt = optimization.InexactGaussNewton(\n",
    "    maxIter=maxIter, maxIterCG=20, print_type='ubc'\n",
    ")\n",
    "invProb = inverse_problem.BaseInvProblem(dmis, reg, opt)\n",
    "target = directives.TargetMisfit()\n",
    "# Create an inversion object\n",
    "beta = directives.BetaSchedule(coolingFactor=2., coolingRate=1.)\n",
    "betaest = directives.BetaEstimate_ByEig(beta0_ratio=beta0_ratio)\n",
    "save =  directives.SaveOutputDictEveryIteration()\n",
    "inv = inversion.BaseInversion(invProb, directiveList=[beta, target, save, betaest])\n",
    "# inv = inversion.BaseInversion(invProb, directiveList=[beta, target, save])\n",
    "opt.remember('xc')\n",
    "# rho_s = [10, 20, 30, 40, 50, 60, 70, 80, 90, 100]\n",
    "mopt = inv.run(m0)\n",
    "n_iteration = len(save.outDict)"
   ]
  },
  {
   "cell_type": "code",
   "execution_count": 100,
   "metadata": {},
   "outputs": [],
   "source": [
    "def plot_invesion_results(iteration):\n",
    "    import matplotlib\n",
    "    matplotlib.rcParams['font.size'] = 14    \n",
    "    rho_tmp = np.r_[q.kwargs['rho_1'], q.kwargs['rho_2'], q.kwargs['rho_3']]\n",
    "    hz_tmp = np.r_[q.kwargs['t_1'], q.kwargs['t_2'], 100]\n",
    "    mesh_tmp = TensorMesh([hz_tmp])\n",
    "    mopt = save.outDict[iteration]['m']\n",
    "    rho_est = mapping_rho * mopt\n",
    "    t_est = mapping_t * mopt\n",
    "    mesh_est = TensorMesh([np.r_[t_est, 100]])\n",
    "    \n",
    "    ab, data_tmp = simulate(hz_tmp, rho_tmp)\n",
    "    fig, axs = plt.subplots(1,2,figsize=(10, 5))\n",
    "    StaticUtils.plot_layer(rho_tmp, mesh_tmp, ax=axs[0], **{'color':'k', 'alpha':0.5, 'linestyle':'--'})    \n",
    "    StaticUtils.plot_layer(rho_est, mesh_est, showlayers=False, **{'color':'r'}, ax=axs[0])    \n",
    "    axs[1].loglog(ab/2., save.outDict[iteration]['dpred'], '-')   \n",
    "    axs[1].loglog(ab/2., data.dobs, 'kx')      \n",
    "    axs[1].loglog(ab/2., data_tmp.dobs, 'k--', alpha=0.5)          \n",
    "    axs[1].set_xlabel(\"AB/2\")\n",
    "    axs[1].set_ylabel(\"App. resistivity (ohm-m)\")   \n",
    "    axs[1].grid(which='both')\n",
    "    plt.tight_layout()"
   ]
  },
  {
   "cell_type": "code",
   "execution_count": 101,
   "metadata": {},
   "outputs": [
    {
     "data": {
      "application/vnd.jupyter.widget-view+json": {
       "model_id": "90dc9b1276cc4686846491ed7a0348f0",
       "version_major": 2,
       "version_minor": 0
      },
      "text/plain": [
       "interactive(children=(IntSlider(value=1, description='iteration', max=10, min=1), Output()), _dom_classes=('wi…"
      ]
     },
     "metadata": {},
     "output_type": "display_data"
    },
    {
     "data": {
      "text/plain": [
       "<function __main__.plot_invesion_results(iteration)>"
      ]
     },
     "execution_count": 101,
     "metadata": {},
     "output_type": "execute_result"
    }
   ],
   "source": [
    "interact(plot_invesion_results, iteration=widgets.IntSlider(min=1, max=n_iteration, step=1))"
   ]
  }
 ],
 "metadata": {
  "kernelspec": {
   "display_name": "Python 3",
   "language": "python",
   "name": "python3"
  },
  "language_info": {
   "codemirror_mode": {
    "name": "ipython",
    "version": 3
   },
   "file_extension": ".py",
   "mimetype": "text/x-python",
   "name": "python",
   "nbconvert_exporter": "python",
   "pygments_lexer": "ipython3",
   "version": "3.7.3"
  }
 },
 "nbformat": 4,
 "nbformat_minor": 2
}
