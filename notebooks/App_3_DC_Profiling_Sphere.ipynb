{
 "cells": [
  {
   "cell_type": "markdown",
   "metadata": {},
   "source": [
    "# App 3: Profiling Data over a Buried Sphere\n",
    "\n",
    "In this notebook, we use widgets to learn how profiling data depend on the Earth's resistivity. To accomplish this we consider a sphere within a homogeneous host. The notebook can simulate the profiling data for both a Wenner array and a dipole-dipole array.\n",
    "\n",
    "\n",
    "## Background: Profiling Curves\n",
    "\n",
    "If we keep the electrode spacings constant and move the electrodes horizontally for each new measurement, we obtain information about the lateral changes in Earth's resistivity. The apparent resistivities obtained are plotted on a *profiling plot*; a plot of the apparent resistivity as a function of horizontal position.\n",
    "\n",
    "<img style=\"float: center; width: 900px\" src=\"https://github.com/simpeg-research/gwb-dc-inversions/blob/master/figures/sphere_profiling.png?raw=true\">\n",
    "\n",
    "**Electrode locations for a Wenner array measurement (left). Profiling data acquired using a Wenner array.**\n",
    "\n",
    "\n",
    "## Import Packages"
   ]
  },
  {
   "cell_type": "code",
   "execution_count": 1,
   "metadata": {},
   "outputs": [],
   "source": [
    "from utils.DCWidgetCyl_2_5D import ResCylLayer_app\n",
    "from IPython.display import display\n",
    "%matplotlib inline\n",
    "from matplotlib import rcParams\n",
    "rcParams['font.size'] = 16"
   ]
  },
  {
   "cell_type": "markdown",
   "metadata": {},
   "source": [
    "## User Defined Paramters for the App\n",
    "\n",
    " - **survey_type**: Type of survey\n",
    " - **a**: Spacing between the electrodes\n",
    " - **array_center**: Center of profile array\n",
    " - **xc**: x location of cylinder center\n",
    " - **zc**: z location of cylinder center\n",
    " - **$\\rho_{half}$**: Resistivity of the half-space\n",
    " - **$\\rho_{cyl}$**: Resistivity of the cylinder\n",
    " - **Field**: Field to visualize\n",
    " - **Scale**: Linear or Log Scale visualization\n",
    " \n",
    " If you are going to interact with the sliders to investigate the apparent resistivity profile, we suggest leaving the Field display set to Model"
   ]
  },
  {
   "cell_type": "code",
   "execution_count": 2,
   "metadata": {
    "scrolled": false
   },
   "outputs": [
    {
     "data": {
      "application/vnd.jupyter.widget-view+json": {
       "model_id": "9f61c7074fed4c2e95dec947e8e57299",
       "version_major": 2,
       "version_minor": 0
      },
      "text/plain": [
       "MyApp(children=(ToggleButtons(description='survey_type', options=('Wenner', 'Dipole-Dipole'), value='Wenner'),…"
      ]
     },
     "metadata": {},
     "output_type": "display_data"
    }
   ],
   "source": [
    "ResCylLayer_app()"
   ]
  },
  {
   "cell_type": "code",
   "execution_count": null,
   "metadata": {},
   "outputs": [],
   "source": []
  }
 ],
 "metadata": {
  "kernelspec": {
   "display_name": "Python 3",
   "language": "python",
   "name": "python3"
  },
  "language_info": {
   "codemirror_mode": {
    "name": "ipython",
    "version": 3
   },
   "file_extension": ".py",
   "mimetype": "text/x-python",
   "name": "python",
   "nbconvert_exporter": "python",
   "pygments_lexer": "ipython3",
   "version": "3.7.4"
  }
 },
 "nbformat": 4,
 "nbformat_minor": 4
}
