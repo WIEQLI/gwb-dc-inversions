{
 "cells": [
  {
   "cell_type": "markdown",
   "metadata": {},
   "source": [
    "# DC Resistivity Forward Modeling: Sounding Data over 2D Earth\n",
    "\n",
    "\n",
    "In this notebook, we predict data for a Schlumberger sounding survey over 2D Earth. We need to account for horizontal variations in electrical resistivity by modeling the physics in 2.5. By shifting the center location of the sounding survey, we can predict the sounding data at different locations along the geological cross-section shown below. \n",
    "\n",
    "<img style=\"float: center; width: 800px\" src=\"https://github.com/simpeg-research/gwb-dc-inversions/blob/master/figures/geologic_cross_section.PNG?raw=true\">\n",
    "\n",
    "\n",
    "\n",
    "\n",
    "## Import Modules"
   ]
  },
  {
   "cell_type": "code",
   "execution_count": 1,
   "metadata": {},
   "outputs": [],
   "source": [
    "from discretize import TensorMesh\n",
    "from discretize.utils import mkvc, refine_tree_xyz\n",
    "import pandas as pd\n",
    "\n",
    "from SimPEG.utils import ModelBuilder, surface2ind_topo\n",
    "from SimPEG import maps, data\n",
    "from SimPEG.electromagnetics.static import resistivity as dc\n",
    "from SimPEG.electromagnetics.static import induced_polarization as ip\n",
    "from SimPEG.electromagnetics.static.utils import (\n",
    "    generate_dcip_survey_line, plot_pseudoSection, gettopoCC, \n",
    "    source_receiver_midpoints, geometric_factor\n",
    ")\n",
    "\n",
    "import os\n",
    "import numpy as np\n",
    "from scipy.interpolate import interp1d\n",
    "import matplotlib as mpl\n",
    "import matplotlib.pyplot as plt\n",
    "\n",
    "try:\n",
    "    from pymatsolver import Pardiso as Solver\n",
    "except ImportError:\n",
    "    from SimPEG import SolverLU as Solver\n",
    "    \n",
    "mpl.rcParams.update({'font.size': 14})"
   ]
  },
  {
   "cell_type": "markdown",
   "metadata": {},
   "source": [
    "## User Defined Parameters for the Notebook\n",
    "\n",
    "Here, the user defines the parameters required to run the notebook. The parameters are as follows:\n",
    "\n",
    "**Parameters for the survey**\n",
    "\n",
    "- **half_AB_separation:** a numpy array containing the AB/2 values for the source electrodes\n",
    "- **half_MN_separations:** a numpy array containing the MN/2 values for the receiver electrodes\n",
    "- **center_location:** center location for the sounding survey\n",
    "\n",
    "**Parameters for layer resistivities**\n",
    "\n",
    "- **alluvium_resistivity:** resistivity for the alluvial layer (range?)\n",
    "- **sand_aquifer_resistivity:** resistivity for the near-surface sand aquifer (range?)\n",
    "- **clay_resistivity:** resistivity for the clay/laterite layer (range?)\n",
    "- **bedrock_resistivity:** resistivity for the bedrock layer (range?)\n",
    "- **bedrock_aquifer_resistivity:** resistivity for the fractured bedrock aquifer (range?)"
   ]
  },
  {
   "cell_type": "code",
   "execution_count": 2,
   "metadata": {},
   "outputs": [],
   "source": [
    "# SURVEY PARAMETERS\n",
    "\n",
    "# Make a numpy array for AB/2 values\n",
    "half_AB_separation = np.r_[\n",
    "    6,12,18,24,30,\n",
    "    36,42,48,54,60,\n",
    "    66,72,78,84,90,\n",
    "    96,102,108,114,120,\n",
    "    126,132,138,142,146,\n",
    "    150,154,158,162,166\n",
    "]  # AB/2 values\n",
    "\n",
    "# Make a numpy array for MN/2 values\n",
    "half_MN_separation = np.r_[\n",
    "    2,4,6,8,10,\n",
    "    12,14,16,18,20,\n",
    "    22,24,26,28,30,\n",
    "    32,34,36,38,40,\n",
    "    42,44,46,48,50,\n",
    "    52,54,56,58,60\n",
    "\n",
    "]  # MN/2 values\n",
    "\n",
    "# Center location for the sounding survey\n",
    "center_location = 50  \n",
    "\n",
    "# LAYER RESISTIVITIES (Ohm-meters)\n",
    "alluvium_resistivity = 150.\n",
    "sand_aquifer_resistivity = 20.\n",
    "clay_resistivity = 250\n",
    "bedrock_resistivity = 500.\n",
    "bedrock_aquifer_resistivity = 20.\n",
    "\n",
    "# Output file name\n",
    "filename = 'sounding_data/Mon_Geology_50_East.csv'\n",
    "writeFile = False\n",
    "noise = 1 # percent noise"
   ]
  },
  {
   "cell_type": "markdown",
   "metadata": {},
   "source": [
    "## Define the Survey\n",
    "\n",
    "This portion of the notebook defines a Schlumberger sounding survey using the AB/2 values, MN/2 values and center location provided."
   ]
  },
  {
   "cell_type": "code",
   "execution_count": 3,
   "metadata": {},
   "outputs": [],
   "source": [
    "source_list = []  # create empty array for sources to live\n",
    "\n",
    "for ii in range(0, len(half_AB_separation)):\n",
    "    \n",
    "    # AB electrode locations for source. Each is a (1, 3) numpy array\n",
    "    A_location = np.r_[center_location-half_AB_separation[ii], 0.]\n",
    "    B_location = np.r_[center_location+half_AB_separation[ii], 0.]\n",
    "\n",
    "    # MN electrode locations for receivers. Each is an (N, 3) numpy array\n",
    "    M_location = np.r_[center_location-half_MN_separation[ii], 0.]\n",
    "    N_location = np.r_[center_location+half_MN_separation[ii], 0.]\n",
    "\n",
    "    # Create receivers list. Define as pole or dipole.\n",
    "    receiver_list = dc.receivers.Dipole_ky(\n",
    "        M_location, N_location #, data_type='apparent_resistivity'\n",
    "    )\n",
    "    receiver_list = [receiver_list]\n",
    "\n",
    "    # Define the source properties and associated receivers\n",
    "    source_list.append(\n",
    "        dc.sources.Dipole(receiver_list, A_location, B_location)\n",
    "    )\n",
    "\n",
    "# Define survey\n",
    "survey = dc.Survey_ky(source_list)"
   ]
  },
  {
   "cell_type": "markdown",
   "metadata": {},
   "source": [
    "## Define a 2D Mesh \n",
    "\n",
    "This part of the notebook creates a numerical grid (or mesh) on which we simulate the sounding data."
   ]
  },
  {
   "cell_type": "code",
   "execution_count": 4,
   "metadata": {},
   "outputs": [],
   "source": [
    "# Define a layered Earth\n",
    "hx = np.logspace(-1,3,101)\n",
    "hx = np.r_[hx[::-1], hx]\n",
    "hy = np.logspace(-0.5, 3, 101)[::-1]\n",
    "\n",
    "mesh = TensorMesh([hx, hy], 'CN')\n",
    "\n",
    "mesh.x0 = mesh.x0 + [center_location, 0.0]"
   ]
  },
  {
   "cell_type": "markdown",
   "metadata": {},
   "source": [
    "Define and Plot Resistivity Model\n",
    "-----------------------------------------------\n",
    "\n",
    "This part of the notebook defines the resistivity model on the mesh. There are three notable "
   ]
  },
  {
   "cell_type": "code",
   "execution_count": 5,
   "metadata": {},
   "outputs": [],
   "source": [
    "depth_to_clay = -20.\n",
    "depth_to_bedrock = -30.\n",
    "\n",
    "# Create layered model with background resistivities\n",
    "resistivity_model = ModelBuilder.layeredModel(\n",
    "    mesh.gridCC, np.r_[0., depth_to_clay, depth_to_bedrock], \n",
    "    np.r_[alluvium_resistivity, clay_resistivity, bedrock_resistivity]\n",
    ")\n",
    "# Add the sand aquifer\n",
    "ind = ModelBuilder.getIndicesBlock([-np.inf, -8.], [-8, -16], mesh.gridCC)\n",
    "resistivity_model[ind] = sand_aquifer_resistivity\n",
    "\n",
    "# Add the bedrock aquifer\n",
    "ind = ModelBuilder.getIndicesBlock([-10, -35.], [np.inf, -45], mesh.gridCC)\n",
    "resistivity_model[ind] = bedrock_aquifer_resistivity\n",
    "\n",
    "# Define a mapping from the model to the mesh\n",
    "model_map = maps.IdentityMap(mesh)"
   ]
  },
  {
   "cell_type": "code",
   "execution_count": 6,
   "metadata": {},
   "outputs": [
    {
     "data": {
      "image/png": "[encoded data removed]",
      "text/plain": [
       "<Figure size 864x360 with 2 Axes>"
      ]
     },
     "metadata": {
      "needs_background": "light"
     },
     "output_type": "display_data"
    }
   ],
   "source": [
    "# Plot the resistivity model\n",
    "fig, ax = plt.subplots(1, 1, figsize=(12, 5))\n",
    "\n",
    "out = mesh.plotImage(\n",
    "    np.log10(resistivity_model), ax=ax, \n",
    "    range_x=[-500+center_location, 500+center_location], \n",
    "    range_y=[-100, 0.5], pcolorOpts={'cmap':'jet'}\n",
    ")\n",
    "ax.set_title('Resistivity model and AB electrode locations')\n",
    "\n",
    "# Add survey geometry\n",
    "survey.getABMN_locations()\n",
    "AB_locations = np.r_[\n",
    "    survey.a_locations, survey.b_locations,\n",
    "]\n",
    "ax.plot(AB_locations[:, 0], AB_locations[:, 1], 'k^', markersize=5)\n",
    "ax.set_xlabel('X (m)')\n",
    "ax.set_ylabel('Y (m)')\n",
    "\n",
    "# # Add colorbar\n",
    "norm = mpl.colors.Normalize(\n",
    "    vmin=np.floor(np.log10(np.min(resistivity_model))), vmax=np.ceil(np.log10(np.max(resistivity_model)))\n",
    ")\n",
    "cbar = plt.colorbar(out[0], norm=norm, format=\"$10^{%.1f}$\")\n",
    "cbar.set_label('Resistivity ($\\Omega$/m)')"
   ]
  },
  {
   "cell_type": "markdown",
   "metadata": {},
   "source": [
    "## Run the Simulation\n",
    "\n",
    "In this part of the notebook, all the pieces needed to predict the data are assembled into a *simulation*. Once created, we can predict data for a given *resistivity model*. We have chosen to predict the data as voltages. Once the data are predicted, we convert the values to apparent resistivities and plot the Schlumberger sounding curve."
   ]
  },
  {
   "cell_type": "code",
   "execution_count": 7,
   "metadata": {},
   "outputs": [],
   "source": [
    "simulation = dc.simulation_2d.Problem2D_N(\n",
    "    mesh, survey=survey, rhoMap=model_map, Solver=Solver\n",
    ")\n",
    "\n",
    "# Predict the data by running the simulation.\n",
    "dpred = simulation.dpred(resistivity_model)\n",
    "\n",
    "# Convert voltages to apparent resistivities\n",
    "dpred = dpred/geometric_factor(survey)"
   ]
  },
  {
   "cell_type": "markdown",
   "metadata": {},
   "source": [
    "## Plot the Sounding Curve \n",
    "\n",
    "Here, we plot the apparent resistivities as a function of AB/2 values. This produces a sounding curve which can be used to understand how the resistivity changes with respect to depth."
   ]
  },
  {
   "cell_type": "code",
   "execution_count": 8,
   "metadata": {},
   "outputs": [
    {
     "data": {
      "image/png": "[encoded data removed]",
      "text/plain": [
       "<Figure size 792x360 with 1 Axes>"
      ]
     },
     "metadata": {
      "needs_background": "light"
     },
     "output_type": "display_data"
    }
   ],
   "source": [
    "# Plot apparent resistivities on sounding curve\n",
    "\n",
    "fig, ax = plt.subplots(1, 1, figsize=(11, 5))\n",
    "ax.loglog(half_AB_separation, dpred, 'bx', lw=2, ms=10, mew=2)\n",
    "ax.set_xlabel(\"AB/2 (m)\")\n",
    "ax.set_ylabel(\"Apparent Resistivity ($\\Omega m$)\")\n",
    "ax.grid(True, which=\"both\", ls=\"--\", c='gray') "
   ]
  },
  {
   "cell_type": "code",
   "execution_count": 9,
   "metadata": {},
   "outputs": [],
   "source": [
    "# Save the data to a CSV file\n",
    "out_dat = np.c_[half_AB_separation, half_MN_separation, dpred]\n",
    "columns = ['AB/2 (m)','MN/2 (m)','App. Res. (Ohm m)']\n",
    "df = pd.DataFrame(out_dat, columns=columns)\n",
    "df.to_csv(filename, index=False)"
   ]
  },
  {
   "cell_type": "code",
   "execution_count": null,
   "metadata": {},
   "outputs": [],
   "source": []
  }
 ],
 "metadata": {
  "kernelspec": {
   "display_name": "Python 3",
   "language": "python",
   "name": "python3"
  },
  "language_info": {
   "codemirror_mode": {
    "name": "ipython",
    "version": 3
   },
   "file_extension": ".py",
   "mimetype": "text/x-python",
   "name": "python",
   "nbconvert_exporter": "python",
   "pygments_lexer": "ipython3",
   "version": "3.7.4"
  }
 },
 "nbformat": 4,
 "nbformat_minor": 2
}
