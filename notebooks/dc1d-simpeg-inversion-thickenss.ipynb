{
 "cells": [
  {
   "cell_type": "code",
   "execution_count": 1,
   "metadata": {},
   "outputs": [
    {
     "ename": "ModuleNotFoundError",
     "evalue": "No module named 'SimPEG.utils'",
     "output_type": "error",
     "traceback": [
      "\u001b[0;31m---------------------------------------------------------------------------\u001b[0m",
      "\u001b[0;31mModuleNotFoundError\u001b[0m                       Traceback (most recent call last)",
      "\u001b[0;32m<ipython-input-1-71bea8e2745d>\u001b[0m in \u001b[0;36m<module>\u001b[0;34m\u001b[0m\n\u001b[1;32m      1\u001b[0m \u001b[0;32mimport\u001b[0m \u001b[0mnumpy\u001b[0m \u001b[0;32mas\u001b[0m \u001b[0mnp\u001b[0m\u001b[0;34m\u001b[0m\u001b[0;34m\u001b[0m\u001b[0m\n\u001b[1;32m      2\u001b[0m \u001b[0;32mimport\u001b[0m \u001b[0mmatplotlib\u001b[0m\u001b[0;34m.\u001b[0m\u001b[0mpyplot\u001b[0m \u001b[0;32mas\u001b[0m \u001b[0mplt\u001b[0m\u001b[0;34m\u001b[0m\u001b[0;34m\u001b[0m\u001b[0m\n\u001b[0;32m----> 3\u001b[0;31m \u001b[0;32mfrom\u001b[0m \u001b[0mSimPEG\u001b[0m\u001b[0;34m.\u001b[0m\u001b[0melectromagnetics\u001b[0m \u001b[0;32mimport\u001b[0m \u001b[0mresistivity\u001b[0m \u001b[0;32mas\u001b[0m \u001b[0mDC\u001b[0m\u001b[0;34m\u001b[0m\u001b[0;34m\u001b[0m\u001b[0m\n\u001b[0m\u001b[1;32m      4\u001b[0m \u001b[0;32mfrom\u001b[0m \u001b[0mdiscretize\u001b[0m \u001b[0;32mimport\u001b[0m \u001b[0mTensorMesh\u001b[0m\u001b[0;34m\u001b[0m\u001b[0;34m\u001b[0m\u001b[0m\n\u001b[1;32m      5\u001b[0m \u001b[0;32mfrom\u001b[0m \u001b[0mSimPEG\u001b[0m \u001b[0;32mimport\u001b[0m \u001b[0mmaps\u001b[0m\u001b[0;34m\u001b[0m\u001b[0;34m\u001b[0m\u001b[0m\n",
      "\u001b[0;32m~/Projects/simpeg/SimPEG/__init__.py\u001b[0m in \u001b[0;36m<module>\u001b[0;34m\u001b[0m\n\u001b[1;32m      6\u001b[0m \u001b[0;32mfrom\u001b[0m \u001b[0mdiscretize\u001b[0m \u001b[0;32mimport\u001b[0m \u001b[0mTests\u001b[0m \u001b[0;32mas\u001b[0m \u001b[0mtests\u001b[0m\u001b[0;34m\u001b[0m\u001b[0;34m\u001b[0m\u001b[0m\n\u001b[1;32m      7\u001b[0m \u001b[0;34m\u001b[0m\u001b[0m\n\u001b[0;32m----> 8\u001b[0;31m \u001b[0;32mfrom\u001b[0m \u001b[0;34m.\u001b[0m\u001b[0mdata\u001b[0m \u001b[0;32mimport\u001b[0m \u001b[0mData\u001b[0m\u001b[0;34m,\u001b[0m \u001b[0mSyntheticData\u001b[0m\u001b[0;34m\u001b[0m\u001b[0;34m\u001b[0m\u001b[0m\n\u001b[0m\u001b[1;32m      9\u001b[0m \u001b[0;32mfrom\u001b[0m \u001b[0;34m.\u001b[0m \u001b[0;32mimport\u001b[0m \u001b[0mdata_misfit\u001b[0m\u001b[0;34m\u001b[0m\u001b[0;34m\u001b[0m\u001b[0m\n\u001b[1;32m     10\u001b[0m \u001b[0;32mfrom\u001b[0m \u001b[0;34m.\u001b[0m \u001b[0;32mimport\u001b[0m \u001b[0mdirectives\u001b[0m\u001b[0;34m\u001b[0m\u001b[0;34m\u001b[0m\u001b[0m\n",
      "\u001b[0;32m~/Projects/simpeg/SimPEG/data.py\u001b[0m in \u001b[0;36m<module>\u001b[0;34m\u001b[0m\n\u001b[1;32m      4\u001b[0m \u001b[0;32mimport\u001b[0m \u001b[0mwarnings\u001b[0m\u001b[0;34m\u001b[0m\u001b[0;34m\u001b[0m\u001b[0m\n\u001b[1;32m      5\u001b[0m \u001b[0;34m\u001b[0m\u001b[0m\n\u001b[0;32m----> 6\u001b[0;31m \u001b[0;32mfrom\u001b[0m \u001b[0;34m.\u001b[0m\u001b[0msurvey\u001b[0m \u001b[0;32mimport\u001b[0m \u001b[0mBaseSurvey\u001b[0m\u001b[0;34m\u001b[0m\u001b[0;34m\u001b[0m\u001b[0m\n\u001b[0m\u001b[1;32m      7\u001b[0m \u001b[0;32mfrom\u001b[0m \u001b[0;34m.\u001b[0m\u001b[0mutils\u001b[0m \u001b[0;32mimport\u001b[0m \u001b[0mmkvc\u001b[0m\u001b[0;34m\u001b[0m\u001b[0;34m\u001b[0m\u001b[0m\n\u001b[1;32m      8\u001b[0m \u001b[0;34m\u001b[0m\u001b[0m\n",
      "\u001b[0;32m~/Projects/simpeg/SimPEG/survey.py\u001b[0m in \u001b[0;36m<module>\u001b[0;34m\u001b[0m\n\u001b[1;32m      5\u001b[0m \u001b[0;32mimport\u001b[0m \u001b[0mwarnings\u001b[0m\u001b[0;34m\u001b[0m\u001b[0;34m\u001b[0m\u001b[0m\n\u001b[1;32m      6\u001b[0m \u001b[0;34m\u001b[0m\u001b[0m\n\u001b[0;32m----> 7\u001b[0;31m \u001b[0;32mfrom\u001b[0m \u001b[0;34m.\u001b[0m\u001b[0mutils\u001b[0m \u001b[0;32mimport\u001b[0m \u001b[0mmkvc\u001b[0m\u001b[0;34m,\u001b[0m \u001b[0mCounter\u001b[0m\u001b[0;34m,\u001b[0m \u001b[0msetKwargs\u001b[0m\u001b[0;34m\u001b[0m\u001b[0;34m\u001b[0m\u001b[0m\n\u001b[0m\u001b[1;32m      8\u001b[0m \u001b[0;32mfrom\u001b[0m \u001b[0;34m.\u001b[0m\u001b[0mprops\u001b[0m \u001b[0;32mimport\u001b[0m \u001b[0mBaseSimPEG\u001b[0m\u001b[0;34m\u001b[0m\u001b[0;34m\u001b[0m\u001b[0m\n\u001b[1;32m      9\u001b[0m \u001b[0;34m\u001b[0m\u001b[0m\n",
      "\u001b[0;31mModuleNotFoundError\u001b[0m: No module named 'SimPEG.utils'"
     ]
    }
   ],
   "source": [
    "import numpy as np\n",
    "import matplotlib.pyplot as plt\n",
    "from SimPEG.electromagnetics import resistivity as DC\n",
    "from discretize import TensorMesh\n",
    "from SimPEG import maps\n",
    "from SimPEG.electromagnetics.static.resistivity import DCSimulation_1D\n",
    "from SimPEG.electromagnetics.static.utils import StaticUtils"
   ]
  },
  {
   "cell_type": "code",
   "execution_count": 2,
   "metadata": {},
   "outputs": [
    {
     "data": {
      "text/plain": [
       "[<matplotlib.lines.Line2D at 0x1a1a8d51d0>]"
      ]
     },
     "execution_count": 2,
     "metadata": {},
     "output_type": "execute_result"
    },
    {
     "data": {
      "image/png": "[encoded data removed]",
      "text/plain": [
       "<Figure size 432x288 with 1 Axes>"
      ]
     },
     "metadata": {
      "needs_background": "light"
     },
     "output_type": "display_data"
    }
   ],
   "source": [
    "ntx = 11\n",
    "xtemp_txP = np.logspace(1, np.log10(1000.), ntx)\n",
    "xtemp_txN = -xtemp_txP\n",
    "ytemp_tx = np.zeros(ntx)\n",
    "xtemp_rxP = -5\n",
    "xtemp_rxN = 5\n",
    "ytemp_rx = 0. \n",
    "abhalf = abs(xtemp_txP-xtemp_txN)*0.5\n",
    "a = xtemp_rxN-xtemp_rxP\n",
    "b = ((xtemp_txN-xtemp_txP)-a)*0.5\n",
    "\n",
    "# We generate tx and rx lists:\n",
    "srclist = []\n",
    "for i in range(ntx):\n",
    "    rx = DC.Rx.Dipole(np.r_[xtemp_rxP, ytemp_rx, -12.5], np.r_[xtemp_rxN, ytemp_rx, -12.5])\n",
    "    locA = np.r_[xtemp_txP[i], ytemp_tx[i], -12.5]\n",
    "    locB = np.r_[xtemp_txN[i], ytemp_tx[i], -12.5]\n",
    "    src = DC.Src.Dipole([rx], locA, locB)\n",
    "    srclist.append(src)\n",
    "survey = DC.Survey(srclist)    \n",
    "dz_min=5.\n",
    "hz = np.r_[30, 20, 50, 100]\n",
    "mesh_1d = TensorMesh([hz])\n",
    "rho = np.r_[50, 10, 50, 1000]\n",
    "StaticUtils.plot_layer(rho, mesh_1d)"
   ]
  },
  {
   "cell_type": "code",
   "execution_count": 3,
   "metadata": {},
   "outputs": [],
   "source": []
  },
  {
   "cell_type": "code",
   "execution_count": 4,
   "metadata": {},
   "outputs": [
    {
     "data": {
      "text/plain": [
       "<SimPEG.maps.Projection at 0x1a1aad17f0>"
      ]
     },
     "execution_count": 4,
     "metadata": {},
     "output_type": "execute_result"
    }
   ],
   "source": [
    "wires.rho"
   ]
  },
  {
   "cell_type": "code",
   "execution_count": 5,
   "metadata": {},
   "outputs": [],
   "source": [
    "wires = maps.Wires(('rho', mesh_1d.nC), ('t', mesh_1d.nC-1))\n",
    "mapping_rho = maps.ExpMap(nP=mesh_1d.nC) * wires.rho\n",
    "mapping_t = maps.ExpMap(nP=mesh_1d.nC-1) * wires.t\n",
    "# mapping_t = wires.t\n",
    "simulation = DCSimulation_1D(\n",
    "    mesh=mesh_1d, \n",
    "    rhoMap=mapping_rho,\n",
    "    tMap=mapping_t,    \n",
    "    survey=survey, \n",
    "    data_type='apparent_resistivity'\n",
    ")"
   ]
  },
  {
   "cell_type": "code",
   "execution_count": 6,
   "metadata": {},
   "outputs": [],
   "source": []
  },
  {
   "cell_type": "code",
   "execution_count": 7,
   "metadata": {},
   "outputs": [],
   "source": [
    "from SimPEG import Data"
   ]
  },
  {
   "cell_type": "code",
   "execution_count": 8,
   "metadata": {},
   "outputs": [],
   "source": [
    "from SimPEG import (\n",
    "    maps, data_misfit, regularization,\n",
    "    optimization, inverse_problem, inversion, directives\n",
    ")\n",
    "survey.std = 0.01\n",
    "survey.eps = 1."
   ]
  },
  {
   "cell_type": "code",
   "execution_count": 9,
   "metadata": {},
   "outputs": [],
   "source": [
    "m = np.r_[np.log(rho), np.log(hz[:-1])]\n",
    "# m = np.r_[np.log(rho), hz[:-1]]"
   ]
  },
  {
   "cell_type": "code",
   "execution_count": 10,
   "metadata": {},
   "outputs": [
    {
     "name": "stdout",
     "output_type": "stream",
     "text": [
      "CPU times: user 7.2 ms, sys: 2.01 ms, total: 9.22 ms\n",
      "Wall time: 7.87 ms\n"
     ]
    }
   ],
   "source": [
    "%%time\n",
    "dobs = simulation.makeSyntheticData(m)"
   ]
  },
  {
   "cell_type": "code",
   "execution_count": 11,
   "metadata": {},
   "outputs": [
    {
     "data": {
      "text/plain": [
       "[<matplotlib.lines.Line2D at 0x1a1aab94a8>]"
      ]
     },
     "execution_count": 11,
     "metadata": {},
     "output_type": "execute_result"
    },
    {
     "data": {
      "image/png": "[encoded data removed]",
      "text/plain": [
       "<Figure size 432x288 with 1 Axes>"
      ]
     },
     "metadata": {
      "needs_background": "light"
     },
     "output_type": "display_data"
    }
   ],
   "source": [
    "ab = simulation.electrode_separations['AB']\n",
    "plt.loglog(ab/2, dobs.dobs, '.-')"
   ]
  },
  {
   "cell_type": "code",
   "execution_count": 12,
   "metadata": {},
   "outputs": [
    {
     "data": {
      "image/png": "[encoded data removed]",
      "text/plain": [
       "<Figure size 432x288 with 1 Axes>"
      ]
     },
     "metadata": {
      "needs_background": "light"
     },
     "output_type": "display_data"
    }
   ],
   "source": [
    "out = plt.hist(np.log10(dobs.dobs), bins=5)\n",
    "rho0 = 10**out[1][np.argmax(out[0])]"
   ]
  },
  {
   "cell_type": "code",
   "execution_count": null,
   "metadata": {},
   "outputs": [],
   "source": []
  },
  {
   "cell_type": "code",
   "execution_count": 13,
   "metadata": {},
   "outputs": [],
   "source": [
    "dmis = data_misfit.L2DataMisfit(simulation=simulation, data=dobs)\n",
    "floor = 0.\n",
    "std = 0.01\n",
    "uncert = abs(dobs.dobs) * std + floor\n",
    "dmis.W = 1./uncert"
   ]
  },
  {
   "cell_type": "code",
   "execution_count": 14,
   "metadata": {
    "scrolled": false
   },
   "outputs": [
    {
     "name": "stdout",
     "output_type": "stream",
     "text": [
      "SimPEG.InvProblem will set Regularization.mref to m0.\n",
      "SimPEG.InvProblem will set Regularization.mref to m0.\n",
      "\n",
      "    SimPEG.InvProblem is setting bfgsH0 to the inverse of the eval2Deriv.\n",
      "    ***Done using same Solver and solverOpts as the problem***\n",
      "SimPEG.SaveOutputDictEveryIteration will save your inversion progress as dictionary: '###-InversionModel-2019-11-30-01-55.npz'\n",
      "model has any nan: 0\n",
      "============================ Inexact Gauss Newton ============================\n",
      "  #     beta     phi_d     phi_m       f      |proj(x-g)-x|  LS    Comment   \n",
      "-----------------------------------------------------------------------------\n",
      "x0 has any nan: 0\n",
      "   0  4.64e+03  1.27e+04  0.00e+00  1.27e+04    1.13e+04      0              \n",
      "   1  2.32e+03  8.43e+03  1.94e-01  8.88e+03    2.41e+03      0              \n",
      "   2  1.16e+03  7.58e+03  3.94e-01  8.04e+03    2.78e+03      0   Skip BFGS  \n",
      "   3  5.80e+02  5.83e+03  1.15e+00  6.50e+03    3.99e+03      0              \n",
      "   4  2.90e+02  3.09e+03  3.73e+00  4.18e+03    4.95e+03      0              \n",
      "   5  1.45e+02  8.22e+02  6.57e+00  1.77e+03    2.72e+03      0   Skip BFGS  \n",
      "   6  7.26e+01  2.82e+02  8.50e+00  8.98e+02    1.48e+03      0   Skip BFGS  \n",
      "   7  3.63e+01  1.63e+02  9.34e+00  5.02e+02    3.33e+02      0   Skip BFGS  \n",
      "   8  1.81e+01  5.30e+01  1.11e+01  2.55e+02    1.01e+03      0              \n",
      "   9  9.07e+00  4.12e+01  1.11e+01  1.42e+02    1.50e+02      0              \n",
      "  10  4.53e+00  8.39e+00  1.28e+01  6.64e+01    5.58e+02      0              \n",
      "------------------------- STOP! -------------------------\n",
      "1 : |fc-fOld| = 0.0000e+00 <= tolF*(1+|f0|) = 1.2677e+03\n",
      "1 : |xc-x_last| = 1.7169e-02 <= tolX*(1+|x0|) = 8.9832e-01\n",
      "0 : |proj(x-g)-x|    = 5.5841e+02 <= tolG          = 1.0000e-01\n",
      "0 : |proj(x-g)-x|    = 5.5841e+02 <= 1e3*eps       = 1.0000e-02\n",
      "0 : maxIter   =      30    <= iter          =     11\n",
      "------------------------- DONE! -------------------------\n",
      "\n",
      "    SimPEG.InvProblem is setting bfgsH0 to the inverse of the eval2Deriv.\n",
      "    ***Done using same Solver and solverOpts as the problem***\n",
      "SimPEG.SaveOutputDictEveryIteration will save your inversion progress as dictionary: '###-InversionModel-2019-11-30-01-55.npz'\n",
      "model has any nan: 0\n",
      "============================ Inexact Gauss Newton ============================\n",
      "  #     beta     phi_d     phi_m       f      |proj(x-g)-x|  LS    Comment   \n",
      "-----------------------------------------------------------------------------\n",
      "x0 has any nan: 0\n",
      "   0  7.15e+03  9.63e+03  9.33e-02  1.03e+04    5.27e+03      0              \n",
      "   1  3.58e+03  8.77e+03  1.41e-01  9.27e+03    3.11e+03      0              \n",
      "   2  1.79e+03  8.09e+03  2.55e-01  8.55e+03    2.61e+03      0   Skip BFGS  \n",
      "   3  8.94e+02  7.00e+03  5.95e-01  7.53e+03    3.01e+03      0              \n",
      "   4  4.47e+02  4.85e+03  1.78e+00  5.64e+03    4.39e+03      0              \n",
      "   5  2.24e+02  2.19e+03  5.18e+00  3.35e+03    5.14e+03      0              \n",
      "   6  1.12e+02  5.07e+02  7.15e+00  1.31e+03    9.02e+02      0   Skip BFGS  \n",
      "   7  5.59e+01  2.07e+02  9.12e+00  7.16e+02    1.57e+03      0   Skip BFGS  \n",
      "   8  2.79e+01  7.64e+01  1.03e+01  3.65e+02    6.29e+02      0   Skip BFGS  \n",
      "   9  1.40e+01  2.70e+01  1.15e+01  1.88e+02    2.95e+02      0   Skip BFGS  \n",
      "  10  6.98e+00  1.38e+01  1.22e+01  9.90e+01    8.84e+01      0   Skip BFGS  \n",
      "------------------------- STOP! -------------------------\n",
      "1 : |fc-fOld| = 0.0000e+00 <= tolF*(1+|f0|) = 1.0298e+03\n",
      "1 : |xc-x_last| = 3.5712e-01 <= tolX*(1+|x0|) = 9.3601e-01\n",
      "0 : |proj(x-g)-x|    = 8.8388e+01 <= tolG          = 1.0000e-01\n",
      "0 : |proj(x-g)-x|    = 8.8388e+01 <= 1e3*eps       = 1.0000e-02\n",
      "0 : maxIter   =      30    <= iter          =     11\n",
      "------------------------- DONE! -------------------------\n",
      "\n",
      "    SimPEG.InvProblem is setting bfgsH0 to the inverse of the eval2Deriv.\n",
      "    ***Done using same Solver and solverOpts as the problem***\n",
      "SimPEG.SaveOutputDictEveryIteration will save your inversion progress as dictionary: '###-InversionModel-2019-11-30-01-55.npz'\n",
      "model has any nan: 0\n",
      "============================ Inexact Gauss Newton ============================\n",
      "  #     beta     phi_d     phi_m       f      |proj(x-g)-x|  LS    Comment   \n",
      "-----------------------------------------------------------------------------\n",
      "x0 has any nan: 0\n",
      "   0  1.10e+04  9.72e+03  3.73e-01  1.38e+04    1.54e+04      0              \n",
      "   1  5.51e+03  8.91e+03  1.26e-01  9.60e+03    2.36e+03      0              \n",
      "   2  2.75e+03  8.46e+03  1.83e-01  8.96e+03    2.70e+03      0              \n",
      "   3  1.38e+03  7.68e+03  3.61e-01  8.18e+03    2.65e+03      0              \n",
      "   4  6.89e+02  6.21e+03  9.32e-01  6.86e+03    3.59e+03      0              \n",
      "   5  3.44e+02  3.58e+03  3.01e+00  4.61e+03    4.66e+03      0              \n",
      "   6  1.72e+02  1.12e+03  6.11e+00  2.17e+03    3.63e+03      0   Skip BFGS  \n",
      "   7  8.61e+01  3.48e+02  8.06e+00  1.04e+03    1.50e+03      0   Skip BFGS  \n",
      "   8  4.30e+01  1.64e+02  9.36e+00  5.67e+02    5.02e+02      0   Skip BFGS  \n",
      "   9  2.15e+01  5.73e+01  1.09e+01  2.91e+02    7.33e+02      0   Skip BFGS  \n",
      "  10  1.08e+01  2.00e+01  1.19e+01  1.48e+02    1.18e+02      0   Skip BFGS  \n",
      "  11  5.38e+00  8.32e+00  1.27e+01  7.67e+01    5.03e+02      0   Skip BFGS  \n",
      "  12  2.69e+00  5.64e+00  1.27e+01  3.99e+01    4.84e+01      0              \n",
      "------------------------- STOP! -------------------------\n",
      "1 : |fc-fOld| = 0.0000e+00 <= tolF*(1+|f0|) = 1.3828e+03\n",
      "1 : |xc-x_last| = 1.8572e-01 <= tolX*(1+|x0|) = 9.7422e-01\n",
      "0 : |proj(x-g)-x|    = 4.8381e+01 <= tolG          = 1.0000e-01\n",
      "0 : |proj(x-g)-x|    = 4.8381e+01 <= 1e3*eps       = 1.0000e-02\n",
      "0 : maxIter   =      30    <= iter          =     13\n",
      "------------------------- DONE! -------------------------\n",
      "\n",
      "    SimPEG.InvProblem is setting bfgsH0 to the inverse of the eval2Deriv.\n",
      "    ***Done using same Solver and solverOpts as the problem***\n",
      "SimPEG.SaveOutputDictEveryIteration will save your inversion progress as dictionary: '###-InversionModel-2019-11-30-01-55.npz'\n",
      "model has any nan: 0\n",
      "============================ Inexact Gauss Newton ============================\n",
      "  #     beta     phi_d     phi_m       f      |proj(x-g)-x|  LS    Comment   \n",
      "-----------------------------------------------------------------------------\n",
      "x0 has any nan: 0\n",
      "   0  1.70e+04  1.58e+04  8.40e-01  3.00e+04    4.64e+04      0              \n",
      "   1  8.48e+03  8.82e+03  1.48e-01  1.01e+04    2.36e+03      0              \n",
      "   2  4.24e+03  8.80e+03  1.36e-01  9.37e+03    2.85e+03      0   Skip BFGS  \n",
      "   3  2.12e+03  8.21e+03  2.28e-01  8.70e+03    2.58e+03      0              \n",
      "   4  1.06e+03  7.30e+03  4.80e-01  7.81e+03    2.86e+03      0              \n",
      "   5  5.30e+02  5.33e+03  1.44e+00  6.09e+03    4.10e+03      0              \n",
      "   6  2.65e+02  2.64e+03  4.26e+00  3.77e+03    4.89e+03      0              \n",
      "   7  1.33e+02  6.48e+02  6.82e+00  1.55e+03    1.88e+03      0   Skip BFGS  \n",
      "   8  6.63e+01  2.54e+02  8.74e+00  8.33e+02    1.60e+03      0   Skip BFGS  \n",
      "   9  3.31e+01  1.45e+02  9.55e+00  4.62e+02    3.19e+02      0   Skip BFGS  \n",
      "  10  1.66e+01  4.68e+01  1.13e+01  2.34e+02    9.16e+02      0              \n",
      "  11  8.29e+00  1.69e+01  1.21e+01  1.17e+02    1.36e+02      0              \n",
      "------------------------- STOP! -------------------------\n",
      "1 : |fc-fOld| = 0.0000e+00 <= tolF*(1+|f0|) = 3.0028e+03\n",
      "1 : |xc-x_last| = 3.8026e-01 <= tolX*(1+|x0|) = 1.0129e+00\n",
      "0 : |proj(x-g)-x|    = 1.3647e+02 <= tolG          = 1.0000e-01\n",
      "0 : |proj(x-g)-x|    = 1.3647e+02 <= 1e3*eps       = 1.0000e-02\n",
      "0 : maxIter   =      30    <= iter          =     12\n",
      "------------------------- DONE! -------------------------\n",
      "\n",
      "    SimPEG.InvProblem is setting bfgsH0 to the inverse of the eval2Deriv.\n",
      "    ***Done using same Solver and solverOpts as the problem***\n",
      "SimPEG.SaveOutputDictEveryIteration will save your inversion progress as dictionary: '###-InversionModel-2019-11-30-01-55.npz'\n",
      "model has any nan: 0\n",
      "============================ Inexact Gauss Newton ============================\n",
      "  #     beta     phi_d     phi_m       f      |proj(x-g)-x|  LS    Comment   \n",
      "-----------------------------------------------------------------------------\n",
      "x0 has any nan: 0\n",
      "   0  2.61e+04  3.25e+04  1.49e+00  7.15e+04    1.03e+05      0   Skip BFGS  \n",
      "   1  1.31e+04  8.73e+03  2.07e-01  1.14e+04    8.24e+03      0   Skip BFGS  \n"
     ]
    },
    {
     "name": "stdout",
     "output_type": "stream",
     "text": [
      "   2  6.53e+03  9.12e+03  1.03e-01  9.79e+03    2.77e+03      0   Skip BFGS  \n",
      "   3  3.27e+03  8.61e+03  1.59e-01  9.13e+03    2.84e+03      0              \n",
      "   4  1.63e+03  7.95e+03  2.89e-01  8.42e+03    2.56e+03      0              \n",
      "   5  8.17e+02  6.74e+03  6.93e-01  7.31e+03    3.26e+03      0              \n",
      "   6  4.08e+02  4.30e+03  2.26e+00  5.22e+03    4.51e+03      0              \n",
      "   7  2.04e+02  1.69e+03  5.48e+00  2.80e+03    4.58e+03      0              \n",
      "   8  1.02e+02  4.35e+02  7.56e+00  1.21e+03    1.33e+03      0   Skip BFGS  \n",
      "   9  5.11e+01  1.77e+02  9.27e+00  6.50e+02    1.33e+03      0   Skip BFGS  \n",
      "  10  2.55e+01  1.00e+02  1.01e+01  3.57e+02    2.49e+02      0   Skip BFGS  \n",
      "  11  1.28e+01  2.93e+01  1.16e+01  1.78e+02    5.52e+02      0              \n",
      "  12  6.38e+00  1.05e+01  1.24e+01  8.98e+01    8.19e+01      0   Skip BFGS  \n",
      "------------------------- STOP! -------------------------\n",
      "1 : |fc-fOld| = 0.0000e+00 <= tolF*(1+|f0|) = 7.1494e+03\n",
      "1 : |xc-x_last| = 2.9437e-01 <= tolX*(1+|x0|) = 1.0519e+00\n",
      "0 : |proj(x-g)-x|    = 8.1889e+01 <= tolG          = 1.0000e-01\n",
      "0 : |proj(x-g)-x|    = 8.1889e+01 <= 1e3*eps       = 1.0000e-02\n",
      "0 : maxIter   =      30    <= iter          =     13\n",
      "------------------------- DONE! -------------------------\n",
      "\n",
      "    SimPEG.InvProblem is setting bfgsH0 to the inverse of the eval2Deriv.\n",
      "    ***Done using same Solver and solverOpts as the problem***\n",
      "SimPEG.SaveOutputDictEveryIteration will save your inversion progress as dictionary: '###-InversionModel-2019-11-30-01-55.npz'\n",
      "model has any nan: 0\n",
      "============================ Inexact Gauss Newton ============================\n",
      "  #     beta     phi_d     phi_m       f      |proj(x-g)-x|  LS    Comment   \n",
      "-----------------------------------------------------------------------------\n",
      "x0 has any nan: 0\n",
      "   0  4.03e+04  6.73e+04  2.33e+00  1.61e+05    2.01e+05      0              \n",
      "   1  2.01e+04  9.03e+03  3.08e-01  1.52e+04    1.99e+04      0              \n",
      "   2  1.01e+04  9.40e+03  8.15e-02  1.02e+04    2.24e+03      0   Skip BFGS  \n",
      "   3  5.03e+03  9.03e+03  1.12e-01  9.59e+03    3.27e+03      0              \n",
      "   4  2.52e+03  8.39e+03  1.94e-01  8.88e+03    2.68e+03      0              \n",
      "   5  1.26e+03  7.61e+03  3.84e-01  8.09e+03    2.71e+03      0   Skip BFGS  \n",
      "   6  6.29e+02  5.98e+03  1.06e+00  6.64e+03    3.77e+03      0              \n",
      "   7  3.15e+02  3.32e+03  3.39e+00  4.39e+03    4.87e+03      0              \n",
      "   8  1.57e+02  9.07e+02  6.36e+00  1.91e+03    3.02e+03      0   Skip BFGS  \n",
      "   9  7.86e+01  3.04e+02  8.29e+00  9.56e+02    1.47e+03      0   Skip BFGS  \n",
      "  10  3.93e+01  1.20e+02  9.74e+00  5.02e+02    8.54e+02      0   Skip BFGS  \n",
      "  11  1.97e+01  6.83e+01  1.06e+01  2.76e+02    1.82e+02      0   Skip BFGS  \n",
      "  12  9.83e+00  1.86e+01  1.20e+01  1.36e+02    3.86e+02      0              \n",
      "  13  4.91e+00  6.77e+00  1.27e+01  6.90e+01    6.76e+01      0   Skip BFGS  \n",
      "------------------------- STOP! -------------------------\n",
      "1 : |fc-fOld| = 0.0000e+00 <= tolF*(1+|f0|) = 1.6124e+04\n",
      "1 : |xc-x_last| = 2.6774e-01 <= tolX*(1+|x0|) = 1.0913e+00\n",
      "0 : |proj(x-g)-x|    = 6.7591e+01 <= tolG          = 1.0000e-01\n",
      "0 : |proj(x-g)-x|    = 6.7591e+01 <= 1e3*eps       = 1.0000e-02\n",
      "0 : maxIter   =      30    <= iter          =     14\n",
      "------------------------- DONE! -------------------------\n",
      "\n",
      "    SimPEG.InvProblem is setting bfgsH0 to the inverse of the eval2Deriv.\n",
      "    ***Done using same Solver and solverOpts as the problem***\n",
      "SimPEG.SaveOutputDictEveryIteration will save your inversion progress as dictionary: '###-InversionModel-2019-11-30-01-55.npz'\n",
      "model has any nan: 0\n",
      "============================ Inexact Gauss Newton ============================\n",
      "  #     beta     phi_d     phi_m       f      |proj(x-g)-x|  LS    Comment   \n",
      "-----------------------------------------------------------------------------\n",
      "x0 has any nan: 0\n",
      "   0  6.20e+04  1.32e+05  3.36e+00  3.41e+05    3.67e+05      0   Skip BFGS  \n",
      "   1  3.10e+04  1.02e+04  4.61e-01  2.46e+04    4.06e+04      0   Skip BFGS  \n",
      "   2  1.55e+04  9.62e+03  6.77e-02  1.07e+04    1.20e+03      0   Skip BFGS  \n",
      "   3  7.75e+03  9.50e+03  7.44e-02  1.01e+04    3.73e+03      0              \n",
      "   4  3.88e+03  8.80e+03  1.36e-01  9.32e+03    3.07e+03      0              \n",
      "   5  1.94e+03  8.14e+03  2.43e-01  8.61e+03    2.60e+03      0   Skip BFGS  \n",
      "   6  9.69e+02  7.14e+03  5.39e-01  7.66e+03    2.98e+03      0              \n",
      "   7  4.84e+02  5.03e+03  1.65e+00  5.83e+03    4.31e+03      0              \n",
      "   8  2.42e+02  2.35e+03  4.70e+00  3.49e+03    4.93e+03      0              \n",
      "   9  1.21e+02  5.63e+02  7.06e+00  1.42e+03    1.50e+03      0   Skip BFGS  \n",
      "  10  6.06e+01  2.28e+02  8.94e+00  7.69e+02    1.60e+03      0   Skip BFGS  \n",
      "  11  3.03e+01  1.40e+02  9.53e+00  4.29e+02    3.73e+02      0   Skip BFGS  \n",
      "  12  1.51e+01  3.77e+01  1.14e+01  2.10e+02    7.03e+02      0              \n",
      "  13  7.57e+00  1.75e+01  1.21e+01  1.09e+02    3.34e+02      0   Skip BFGS  \n",
      "  14  3.78e+00  8.15e+00  1.30e+01  5.73e+01    2.57e+02      0   Skip BFGS  \n",
      "------------------------- STOP! -------------------------\n",
      "1 : |fc-fOld| = 0.0000e+00 <= tolF*(1+|f0|) = 3.4064e+04\n",
      "1 : |xc-x_last| = 2.1951e-01 <= tolX*(1+|x0|) = 1.1310e+00\n",
      "0 : |proj(x-g)-x|    = 2.5740e+02 <= tolG          = 1.0000e-01\n",
      "0 : |proj(x-g)-x|    = 2.5740e+02 <= 1e3*eps       = 1.0000e-02\n",
      "0 : maxIter   =      30    <= iter          =     15\n",
      "------------------------- DONE! -------------------------\n",
      "\n",
      "    SimPEG.InvProblem is setting bfgsH0 to the inverse of the eval2Deriv.\n",
      "    ***Done using same Solver and solverOpts as the problem***\n",
      "SimPEG.SaveOutputDictEveryIteration will save your inversion progress as dictionary: '###-InversionModel-2019-11-30-01-55.npz'\n",
      "model has any nan: 0\n",
      "============================ Inexact Gauss Newton ============================\n",
      "  #     beta     phi_d     phi_m       f      |proj(x-g)-x|  LS    Comment   \n",
      "-----------------------------------------------------------------------------\n",
      "x0 has any nan: 0\n",
      "   0  9.55e+04  2.47e+05  4.57e+00  6.83e+05    6.45e+05      0   Skip BFGS  \n",
      "   1  4.78e+04  1.31e+04  6.75e-01  4.54e+04    7.66e+04      0   Skip BFGS  \n",
      "   2  2.39e+04  9.89e+03  5.81e-02  1.13e+04    3.54e+03      0   Skip BFGS  \n",
      "   3  1.19e+04  1.01e+04  4.57e-02  1.06e+04    4.14e+03      0   Skip BFGS  \n",
      "   4  5.97e+03  9.25e+03  9.22e-02  9.80e+03    3.63e+03      0              \n",
      "   5  2.98e+03  8.56e+03  1.68e-01  9.06e+03    2.83e+03      0   Skip BFGS  \n",
      "   6  1.49e+03  7.84e+03  3.16e-01  8.31e+03    2.62e+03      0   Skip BFGS  \n",
      "   7  7.46e+02  6.50e+03  8.00e-01  7.10e+03    3.42e+03      0              \n",
      "   8  3.73e+02  3.94e+03  2.62e+00  4.92e+03    4.62e+03      0              \n",
      "   9  1.87e+02  1.38e+03  5.83e+00  2.47e+03    4.19e+03      0              \n",
      "  10  9.33e+01  5.45e+02  7.42e+00  1.24e+03    7.83e+02      0   Skip BFGS  \n",
      "  11  4.66e+01  2.12e+02  9.50e+00  6.55e+02    2.02e+03      0   Skip BFGS  \n",
      "  12  2.33e+01  1.39e+02  9.58e+00  3.62e+02    1.10e+03      0              \n",
      "  13  1.17e+01  5.88e+01  1.18e+01  1.96e+02    1.46e+03      0              \n",
      "  14  5.83e+00  1.32e+01  1.28e+01  8.81e+01    3.29e+02      0              \n",
      "------------------------- STOP! -------------------------\n",
      "1 : |fc-fOld| = 0.0000e+00 <= tolF*(1+|f0|) = 6.8325e+04\n",
      "1 : |xc-x_last| = 1.6104e-01 <= tolX*(1+|x0|) = 1.1710e+00\n",
      "0 : |proj(x-g)-x|    = 3.2938e+02 <= tolG          = 1.0000e-01\n",
      "0 : |proj(x-g)-x|    = 3.2938e+02 <= 1e3*eps       = 1.0000e-02\n",
      "0 : maxIter   =      30    <= iter          =     15\n",
      "------------------------- DONE! -------------------------\n",
      "\n",
      "    SimPEG.InvProblem is setting bfgsH0 to the inverse of the eval2Deriv.\n",
      "    ***Done using same Solver and solverOpts as the problem***\n",
      "SimPEG.SaveOutputDictEveryIteration will save your inversion progress as dictionary: '###-InversionModel-2019-11-30-01-55.npz'\n",
      "model has any nan: 0\n",
      "============================ Inexact Gauss Newton ============================\n",
      "  #     beta     phi_d     phi_m       f      |proj(x-g)-x|  LS    Comment   \n",
      "-----------------------------------------------------------------------------\n",
      "x0 has any nan: 0\n",
      "   0  1.47e+05  4.40e+05  5.97e+00  1.32e+06    1.10e+06      0   Skip BFGS  \n",
      "   1  7.36e+04  1.88e+04  9.58e-01  8.93e+04    1.38e+05      0   Skip BFGS  \n"
     ]
    },
    {
     "name": "stdout",
     "output_type": "stream",
     "text": [
      "   2  3.68e+04  9.98e+03  5.52e-02  1.20e+04    6.75e+03      0   Skip BFGS  \n",
      "   3  1.84e+04  1.06e+04  2.61e-02  1.11e+04    4.37e+03      0   Skip BFGS  \n",
      "   4  9.20e+03  9.79e+03  5.79e-02  1.03e+04    4.20e+03      0              \n",
      "   5  4.60e+03  8.97e+03  1.17e-01  9.51e+03    3.30e+03      0   Skip BFGS  \n",
      "   6  2.30e+03  8.31e+03  2.09e-01  8.79e+03    2.67e+03      0   Skip BFGS  \n",
      "   7  1.15e+03  7.46e+03  4.28e-01  7.95e+03    2.79e+03      0   Skip BFGS  \n",
      "   8  5.75e+02  5.65e+03  1.24e+00  6.36e+03    3.95e+03      0              \n",
      "   9  2.87e+02  2.95e+03  3.85e+00  4.05e+03    4.86e+03      0              \n",
      "  10  1.44e+02  7.51e+02  6.59e+00  1.70e+03    2.36e+03      0   Skip BFGS  \n",
      "  11  7.18e+01  2.80e+02  8.55e+00  8.94e+02    1.62e+03      0   Skip BFGS  \n",
      "  12  3.59e+01  1.51e+02  9.41e+00  4.88e+02    4.09e+02      0   Skip BFGS  \n",
      "  13  1.80e+01  4.44e+01  1.12e+01  2.45e+02    7.32e+02      0   Skip BFGS  \n",
      "  14  8.98e+00  1.82e+01  1.19e+01  1.25e+02    1.64e+02      0   Skip BFGS  \n",
      "  15  4.49e+00  6.07e+00  1.28e+01  6.36e+01    8.69e+01      0   Skip BFGS  \n",
      "------------------------- STOP! -------------------------\n",
      "1 : |fc-fOld| = 0.0000e+00 <= tolF*(1+|f0|) = 1.3185e+05\n",
      "1 : |xc-x_last| = 4.1469e-01 <= tolX*(1+|x0|) = 1.2112e+00\n",
      "0 : |proj(x-g)-x|    = 8.6883e+01 <= tolG          = 1.0000e-01\n",
      "0 : |proj(x-g)-x|    = 8.6883e+01 <= 1e3*eps       = 1.0000e-02\n",
      "0 : maxIter   =      30    <= iter          =     16\n",
      "------------------------- DONE! -------------------------\n",
      "\n",
      "    SimPEG.InvProblem is setting bfgsH0 to the inverse of the eval2Deriv.\n",
      "    ***Done using same Solver and solverOpts as the problem***\n",
      "SimPEG.SaveOutputDictEveryIteration will save your inversion progress as dictionary: '###-InversionModel-2019-11-30-01-55.npz'\n",
      "model has any nan: 0\n",
      "============================ Inexact Gauss Newton ============================\n",
      "  #     beta     phi_d     phi_m       f      |proj(x-g)-x|  LS    Comment   \n",
      "-----------------------------------------------------------------------------\n",
      "x0 has any nan: 0\n",
      "   0  2.27e+05  7.60e+05  7.56e+00  2.47e+06    1.86e+06      0   Skip BFGS  \n",
      "   1  1.13e+05  2.87e+04  1.32e+00  1.78e+05    2.42e+05      0   Skip BFGS  \n",
      "   2  5.67e+04  1.00e+04  5.49e-02  1.31e+04    1.30e+04      0   Skip BFGS  \n",
      "   3  2.83e+04  1.11e+04  1.39e-02  1.15e+04    4.47e+03      0   Skip BFGS  \n",
      "   4  1.42e+04  1.04e+04  3.29e-02  1.09e+04    4.75e+03      0              \n",
      "   5  7.08e+03  9.46e+03  7.70e-02  1.00e+04    3.89e+03      0              \n",
      "   6  3.54e+03  8.72e+03  1.46e-01  9.23e+03    3.00e+03      0   Skip BFGS  \n",
      "   7  1.77e+03  8.04e+03  2.65e-01  8.51e+03    2.59e+03      0   Skip BFGS  \n",
      "   8  8.85e+02  6.94e+03  6.14e-01  7.48e+03    3.11e+03      0              \n",
      "   9  4.43e+02  4.64e+03  1.96e+00  5.50e+03    4.42e+03      0              \n",
      "  10  2.21e+02  1.99e+03  5.12e+00  3.12e+03    4.86e+03      0              \n",
      "  11  1.11e+02  4.83e+02  7.29e+00  1.29e+03    1.27e+03      0   Skip BFGS  \n",
      "  12  5.53e+01  1.94e+02  9.11e+00  6.97e+02    1.34e+03      0   Skip BFGS  \n",
      "  13  2.77e+01  1.00e+02  1.00e+01  3.77e+02    4.25e+02      0   Skip BFGS  \n",
      "  14  1.38e+01  2.86e+01  1.15e+01  1.88e+02    3.99e+02      0   Skip BFGS  \n",
      "  15  6.92e+00  1.15e+01  1.23e+01  9.66e+01    1.43e+02      0   Skip BFGS  \n",
      "------------------------- STOP! -------------------------\n",
      "1 : |fc-fOld| = 0.0000e+00 <= tolF*(1+|f0|) = 2.4722e+05\n",
      "1 : |xc-x_last| = 1.9955e-01 <= tolX*(1+|x0|) = 1.2516e+00\n",
      "0 : |proj(x-g)-x|    = 1.4287e+02 <= tolG          = 1.0000e-01\n",
      "0 : |proj(x-g)-x|    = 1.4287e+02 <= 1e3*eps       = 1.0000e-02\n",
      "0 : maxIter   =      30    <= iter          =     16\n",
      "------------------------- DONE! -------------------------\n"
     ]
    }
   ],
   "source": [
    "mesh_rho = TensorMesh([mesh_1d.hx.size])\n",
    "reg_rho = regularization.Simple(\n",
    "    mesh_rho, alpha_s=1., alpha_x=1.,\n",
    "    mapping=wires.rho\n",
    ")\n",
    "mesh_t = TensorMesh([mesh_1d.hx.size-1])\n",
    "reg_t = regularization.Simple(\n",
    "    mesh_t, alpha_s=1., alpha_x=1.,\n",
    "    mapping=wires.t    \n",
    ")\n",
    "reg = reg_rho + reg_t\n",
    "opt = optimization.InexactGaussNewton(\n",
    "    maxIter=30, maxIterCG=20\n",
    ")\n",
    "invProb = inverse_problem.BaseInvProblem(dmis, reg, opt)\n",
    "target = directives.TargetMisfit()\n",
    "# Create an inversion object\n",
    "beta = directives.BetaSchedule(coolingFactor=2., coolingRate=1.)\n",
    "betaest = directives.BetaEstimate_ByEig(beta0_ratio=1e0)\n",
    "save =  directives.SaveOutputDictEveryIteration()\n",
    "inv = inversion.BaseInversion(invProb, directiveList=[beta, target, save, betaest])\n",
    "# inv = inversion.BaseInversion(invProb, directiveList=[beta, target, save])\n",
    "opt.remember('xc')\n",
    "MOPT = []\n",
    "# rho_s = [10, 20, 30, 40, 50, 60, 70, 80, 90, 100]\n",
    "rho_s = np.logspace(np.log10(dobs.dobs.min()), np.log10(dobs.dobs.max()), 10)\n",
    "for rho0 in rho_s:\n",
    "    m0 = np.r_[np.log(np.ones(rho.size)*rho0), np.log(np.ones(rho.size-1) * 10.)]\n",
    "#     m0 = np.r_[np.log(np.ones(rho.size)*rho0), np.ones(rho.size-1) * 10.]    \n",
    "    mopt = inv.run(m0)\n",
    "    if target.target > invProb.phi_d:\n",
    "        MOPT.append(mopt)"
   ]
  },
  {
   "cell_type": "code",
   "execution_count": 15,
   "metadata": {},
   "outputs": [
    {
     "data": {
      "image/png": "[encoded data removed]",
      "text/plain": [
       "<Figure size 432x288 with 1 Axes>"
      ]
     },
     "metadata": {
      "needs_background": "light"
     },
     "output_type": "display_data"
    }
   ],
   "source": [
    "StaticUtils.plot_layer(rho, mesh_1d)\n",
    "for mopt in MOPT:\n",
    "    rho_est = mapping_rho * mopt\n",
    "    t_est = mapping_t * mopt\n",
    "    mesh_tmp = TensorMesh([np.r_[t_est, 100]])\n",
    "    StaticUtils.plot_layer(rho_est, mesh_tmp, showlayers=False, **{'color':'r', 'alpha':0.5})"
   ]
  },
  {
   "cell_type": "code",
   "execution_count": 31,
   "metadata": {},
   "outputs": [
    {
     "data": {
      "text/plain": [
       "[<matplotlib.lines.Line2D at 0x1a1c337b00>]"
      ]
     },
     "execution_count": 31,
     "metadata": {},
     "output_type": "execute_result"
    },
    {
     "data": {
      "image/png": "[encoded data removed]",
      "text/plain": [
       "<Figure size 432x288 with 1 Axes>"
      ]
     },
     "metadata": {
      "needs_background": "light"
     },
     "output_type": "display_data"
    }
   ],
   "source": [
    "StaticUtils.plot_layer(rho, mesh_1d)\n",
    "ii = 0\n",
    "mopt = MOPT[ii]\n",
    "rho_est = mapping_rho * mopt\n",
    "t_est = mapping_t * mopt\n",
    "mesh_tmp = TensorMesh([np.r_[t_est, 100]])\n",
    "StaticUtils.plot_layer(rho_est, mesh_tmp, showlayers=False, **{'color':'r', 'alpha':0.5})"
   ]
  },
  {
   "cell_type": "code",
   "execution_count": 17,
   "metadata": {},
   "outputs": [],
   "source": [
    "# StaticUtils.plot_layer(rho, mesh_1d)\n",
    "# rho_est = mapping_rho * save.outDict[len(save.outDict)]['m']\n",
    "# t_est = mapping_t * save.outDict[len(save.outDict)]['m']\n",
    "# mesh_tmp = TensorMesh([np.r_[t_est, 100]])\n",
    "# StaticUtils.plot_layer(rho_est, mesh_tmp, showlayers=False, **{'color':'r'})"
   ]
  },
  {
   "cell_type": "code",
   "execution_count": 18,
   "metadata": {},
   "outputs": [
    {
     "data": {
      "text/plain": [
       "<matplotlib.legend.Legend at 0x1a1b1e14a8>"
      ]
     },
     "execution_count": 18,
     "metadata": {},
     "output_type": "execute_result"
    },
    {
     "data": {
      "image/png": "[encoded data removed]",
      "text/plain": [
       "<Figure size 432x288 with 1 Axes>"
      ]
     },
     "metadata": {
      "needs_background": "light"
     },
     "output_type": "display_data"
    }
   ],
   "source": [
    "ab = simulation.electrode_separations['AB']\n",
    "plt.loglog(ab/2., dobs.dobs, '-')\n",
    "plt.loglog(ab/2., save.outDict[len(save.outDict)]['dpred'], '.')\n",
    "plt.legend((\"Observed\", \"Predicted\"))"
   ]
  },
  {
   "cell_type": "code",
   "execution_count": null,
   "metadata": {},
   "outputs": [],
   "source": []
  }
 ],
 "metadata": {
  "kernelspec": {
   "display_name": "Python 3",
   "language": "python",
   "name": "python3"
  },
  "language_info": {
   "codemirror_mode": {
    "name": "ipython",
    "version": 3
   },
   "file_extension": ".py",
   "mimetype": "text/x-python",
   "name": "python",
   "nbconvert_exporter": "python",
   "pygments_lexer": "ipython3",
   "version": "3.7.3"
  }
 },
 "nbformat": 4,
 "nbformat_minor": 2
}
