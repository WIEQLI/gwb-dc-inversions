{
 "cells": [
  {
   "cell_type": "code",
   "execution_count": 2,
   "metadata": {},
   "outputs": [],
   "source": [
    "import numpy as np\n",
    "import matplotlib.pyplot as plt\n",
    "from SimPEG.electromagnetics import resistivity as DC\n",
    "from discretize import TensorMesh\n",
    "from SimPEG import maps\n",
    "from SimPEG.electromagnetics.static.resistivity import DCSimulation_1D\n",
    "from SimPEG.electromagnetics.static.utils import StaticUtils"
   ]
  },
  {
   "cell_type": "code",
   "execution_count": 3,
   "metadata": {},
   "outputs": [
    {
     "data": {
      "text/plain": [
       "[<matplotlib.lines.Line2D at 0x1a2bbfa940>]"
      ]
     },
     "execution_count": 3,
     "metadata": {},
     "output_type": "execute_result"
    },
    {
     "data": {
      "image/png": "[encoded data removed]",
      "text/plain": [
       "<Figure size 432x288 with 1 Axes>"
      ]
     },
     "metadata": {
      "needs_background": "light"
     },
     "output_type": "display_data"
    }
   ],
   "source": [
    "ntx = 11\n",
    "xtemp_txP = np.logspace(1, np.log10(1000.), ntx)\n",
    "xtemp_txN = -xtemp_txP\n",
    "ytemp_tx = np.zeros(ntx)\n",
    "xtemp_rxP = -5\n",
    "xtemp_rxN = 5\n",
    "ytemp_rx = 0. \n",
    "abhalf = abs(xtemp_txP-xtemp_txN)*0.5\n",
    "a = xtemp_rxN-xtemp_rxP\n",
    "b = ((xtemp_txN-xtemp_txP)-a)*0.5\n",
    "\n",
    "# We generate tx and rx lists:\n",
    "srclist = []\n",
    "for i in range(ntx):\n",
    "    rx = DC.Rx.Dipole(np.r_[xtemp_rxP, ytemp_rx, -12.5], np.r_[xtemp_rxN, ytemp_rx, -12.5])\n",
    "    locA = np.r_[xtemp_txP[i], ytemp_tx[i], -12.5]\n",
    "    locB = np.r_[xtemp_txN[i], ytemp_tx[i], -12.5]\n",
    "    src = DC.Src.Dipole([rx], locA, locB)\n",
    "    srclist.append(src)\n",
    "survey = DC.Survey(srclist)    \n",
    "dz_min=5.\n",
    "hz = np.r_[30, 20, 50, 100]\n",
    "mesh_1d = TensorMesh([hz])\n",
    "rho = np.r_[50, 10, 50, 1000]\n",
    "StaticUtils.plot_layer(rho, mesh_1d)"
   ]
  },
  {
   "cell_type": "code",
   "execution_count": null,
   "metadata": {},
   "outputs": [],
   "source": []
  },
  {
   "cell_type": "code",
   "execution_count": 4,
   "metadata": {},
   "outputs": [],
   "source": [
    "wires = maps.Wires(('rho', mesh_1d.nC), ('t', mesh_1d.nC-1))\n",
    "mapping_rho = maps.ExpMap(nP=mesh_1d.nC) * wires.rho\n",
    "mapping_t = maps.ExpMap(nP=mesh_1d.nC-1) * wires.t\n",
    "# mapping_t = wires.t\n",
    "simulation = DCSimulation_1D(\n",
    "    rhoMap=mapping_rho,\n",
    "    thicknessesMap=mapping_t,    \n",
    "    survey=survey, \n",
    "    data_type='apparent_resistivity'\n",
    ")"
   ]
  },
  {
   "cell_type": "code",
   "execution_count": null,
   "metadata": {},
   "outputs": [],
   "source": []
  },
  {
   "cell_type": "code",
   "execution_count": 5,
   "metadata": {},
   "outputs": [],
   "source": [
    "from SimPEG import Data"
   ]
  },
  {
   "cell_type": "code",
   "execution_count": 6,
   "metadata": {},
   "outputs": [],
   "source": [
    "from SimPEG import (\n",
    "    maps, data_misfit, regularization,\n",
    "    optimization, inverse_problem, inversion, directives\n",
    ")\n",
    "survey.std = 0.01\n",
    "survey.eps = 1."
   ]
  },
  {
   "cell_type": "code",
   "execution_count": 7,
   "metadata": {},
   "outputs": [],
   "source": [
    "m = np.r_[np.log(rho), np.log(hz[:-1])]\n",
    "# m = np.r_[np.log(rho), hz[:-1]]"
   ]
  },
  {
   "cell_type": "code",
   "execution_count": 7,
   "metadata": {},
   "outputs": [
    {
     "name": "stdout",
     "output_type": "stream",
     "text": [
      "CPU times: user 5.93 ms, sys: 1.98 ms, total: 7.91 ms\n",
      "Wall time: 11.1 ms\n"
     ]
    }
   ],
   "source": [
    "%%time\n",
    "dobs = simulation.makeSyntheticData(m)"
   ]
  },
  {
   "cell_type": "code",
   "execution_count": 8,
   "metadata": {},
   "outputs": [
    {
     "data": {
      "text/plain": [
       "[<matplotlib.lines.Line2D at 0x1a2c6adac8>]"
      ]
     },
     "execution_count": 8,
     "metadata": {},
     "output_type": "execute_result"
    },
    {
     "data": {
      "image/png": "[encoded data removed]",
      "text/plain": [
       "<Figure size 432x288 with 1 Axes>"
      ]
     },
     "metadata": {
      "needs_background": "light"
     },
     "output_type": "display_data"
    }
   ],
   "source": [
    "ab = simulation.electrode_separations['AB']\n",
    "plt.loglog(ab/2, dobs.dobs, '.-')"
   ]
  },
  {
   "cell_type": "code",
   "execution_count": 9,
   "metadata": {},
   "outputs": [
    {
     "data": {
      "image/png": "[encoded data removed]",
      "text/plain": [
       "<Figure size 432x288 with 1 Axes>"
      ]
     },
     "metadata": {
      "needs_background": "light"
     },
     "output_type": "display_data"
    }
   ],
   "source": [
    "out = plt.hist(np.log10(dobs.dobs), bins=5)\n",
    "rho0 = 10**out[1][np.argmax(out[0])]"
   ]
  },
  {
   "cell_type": "code",
   "execution_count": null,
   "metadata": {},
   "outputs": [],
   "source": []
  },
  {
   "cell_type": "code",
   "execution_count": 10,
   "metadata": {},
   "outputs": [],
   "source": [
    "dmis = data_misfit.L2DataMisfit(simulation=simulation, data=dobs)\n",
    "floor = 0.\n",
    "std = 0.01\n",
    "uncert = abs(dobs.dobs) * std + floor\n",
    "dmis.W = 1./uncert"
   ]
  },
  {
   "cell_type": "code",
   "execution_count": 11,
   "metadata": {
    "scrolled": false
   },
   "outputs": [
    {
     "name": "stdout",
     "output_type": "stream",
     "text": [
      "SimPEG.InvProblem will set Regularization.mref to m0.\n",
      "SimPEG.InvProblem will set Regularization.mref to m0.\n",
      "\n",
      "    SimPEG.InvProblem is setting bfgsH0 to the inverse of the eval2Deriv.\n",
      "    ***Done using same Solver and solverOpts as the problem***\n",
      "SimPEG.SaveOutputDictEveryIteration will save your inversion progress as dictionary: '###-InversionModel-2020-01-17-12-27.npz'\n",
      "model has any nan: 0\n",
      "============================ Inexact Gauss Newton ============================\n",
      "  #     beta     phi_d     phi_m       f      |proj(x-g)-x|  LS    Comment   \n",
      "-----------------------------------------------------------------------------\n",
      "x0 has any nan: 0\n",
      "   0  7.19e+03  1.27e+04  0.00e+00  1.27e+04    1.13e+04      0              \n",
      "   1  3.60e+03  8.34e+03  1.50e-01  8.88e+03    3.00e+03      0              \n",
      "   2  1.80e+03  7.36e+03  2.99e-01  7.89e+03    2.84e+03      0   Skip BFGS  \n",
      "   3  8.99e+02  5.65e+03  7.75e-01  6.35e+03    3.68e+03      0              \n",
      "   4  4.49e+02  2.99e+03  2.30e+00  4.02e+03    4.54e+03      0              \n",
      "   5  2.25e+02  1.00e+03  4.49e+00  2.01e+03    3.81e+03      0   Skip BFGS  \n",
      "   6  1.12e+02  3.03e+02  5.49e+00  9.20e+02    4.16e+02      0   Skip BFGS  \n",
      "   7  5.62e+01  1.18e+02  6.71e+00  4.95e+02    5.72e+02      0   Skip BFGS  \n",
      "   8  2.81e+01  5.01e+01  7.59e+00  2.63e+02    2.69e+02      0   Skip BFGS  \n",
      "   9  1.40e+01  2.99e+01  8.23e+00  1.46e+02    9.59e+02      0   Skip BFGS  \n",
      "  10  7.02e+00  1.44e+01  8.31e+00  7.28e+01    1.05e+02      0              \n",
      "  11  3.51e+00  5.95e+00  9.08e+00  3.78e+01    6.17e+02      0              \n",
      "------------------------- STOP! -------------------------\n",
      "1 : |fc-fOld| = 0.0000e+00 <= tolF*(1+|f0|) = 1.2677e+03\n",
      "1 : |xc-x_last| = 2.6852e-02 <= tolX*(1+|x0|) = 8.9832e-01\n",
      "0 : |proj(x-g)-x|    = 6.1733e+02 <= tolG          = 1.0000e-01\n",
      "0 : |proj(x-g)-x|    = 6.1733e+02 <= 1e3*eps       = 1.0000e-02\n",
      "0 : maxIter   =      30    <= iter          =     12\n",
      "------------------------- DONE! -------------------------\n",
      "\n",
      "    SimPEG.InvProblem is setting bfgsH0 to the inverse of the eval2Deriv.\n",
      "    ***Done using same Solver and solverOpts as the problem***\n",
      "SimPEG.SaveOutputDictEveryIteration will save your inversion progress as dictionary: '###-InversionModel-2020-01-17-12-27.npz'\n",
      "model has any nan: 0\n",
      "============================ Inexact Gauss Newton ============================\n",
      "  #     beta     phi_d     phi_m       f      |proj(x-g)-x|  LS    Comment   \n",
      "-----------------------------------------------------------------------------\n",
      "x0 has any nan: 0\n",
      "   0  1.11e+04  9.63e+03  9.33e-02  1.07e+04    5.16e+03      0              \n",
      "   1  5.54e+03  8.80e+03  1.04e-01  9.38e+03    3.66e+03      0              \n",
      "   2  2.77e+03  7.89e+03  2.04e-01  8.46e+03    2.79e+03      0   Skip BFGS  \n",
      "   3  1.38e+03  6.77e+03  4.31e-01  7.37e+03    2.96e+03      0   Skip BFGS  \n",
      "   4  6.92e+02  4.63e+03  1.21e+00  5.47e+03    4.08e+03      0              \n",
      "   5  3.46e+02  2.05e+03  3.16e+00  3.15e+03    4.50e+03      0              \n",
      "   6  1.73e+02  5.27e+02  4.86e+00  1.37e+03    1.55e+03      0   Skip BFGS  \n",
      "   7  8.65e+01  2.06e+02  6.08e+00  7.31e+02    8.00e+02      0   Skip BFGS  \n",
      "   8  4.33e+01  9.93e+01  7.00e+00  4.02e+02    1.08e+03      0   Skip BFGS  \n",
      "   9  2.16e+01  6.07e+01  7.54e+00  2.24e+02    1.15e+03      0   Skip BFGS  \n",
      "  10  1.08e+01  2.70e+01  8.31e+00  1.17e+02    1.10e+03      0   Skip BFGS  \n",
      "  11  5.41e+00  1.39e+01  8.33e+00  5.89e+01    1.03e+02      0   Skip BFGS  \n",
      "------------------------- STOP! -------------------------\n",
      "1 : |fc-fOld| = 0.0000e+00 <= tolF*(1+|f0|) = 1.0664e+03\n",
      "1 : |xc-x_last| = 5.9519e-01 <= tolX*(1+|x0|) = 9.3601e-01\n",
      "0 : |proj(x-g)-x|    = 1.0301e+02 <= tolG          = 1.0000e-01\n",
      "0 : |proj(x-g)-x|    = 1.0301e+02 <= 1e3*eps       = 1.0000e-02\n",
      "0 : maxIter   =      30    <= iter          =     12\n",
      "------------------------- DONE! -------------------------\n",
      "\n",
      "    SimPEG.InvProblem is setting bfgsH0 to the inverse of the eval2Deriv.\n",
      "    ***Done using same Solver and solverOpts as the problem***\n",
      "SimPEG.SaveOutputDictEveryIteration will save your inversion progress as dictionary: '###-InversionModel-2020-01-17-12-27.npz'\n",
      "model has any nan: 0\n",
      "============================ Inexact Gauss Newton ============================\n",
      "  #     beta     phi_d     phi_m       f      |proj(x-g)-x|  LS    Comment   \n",
      "-----------------------------------------------------------------------------\n",
      "x0 has any nan: 0\n",
      "   0  1.71e+04  9.72e+03  3.73e-01  1.61e+04    2.06e+04      0              \n",
      "   1  8.53e+03  8.91e+03  9.71e-02  9.74e+03    2.43e+03      0              \n",
      "   2  4.27e+03  8.36e+03  1.44e-01  8.97e+03    3.01e+03      0              \n",
      "   3  2.13e+03  7.49e+03  2.71e-01  8.07e+03    2.72e+03      0              \n",
      "   4  1.07e+03  6.06e+03  6.27e-01  6.73e+03    3.26e+03      0              \n",
      "   5  5.33e+02  3.54e+03  1.85e+00  4.53e+03    4.29e+03      0              \n",
      "   6  2.67e+02  1.27e+03  3.95e+00  2.32e+03    3.85e+03      0   Skip BFGS  \n",
      "   7  1.33e+02  4.33e+02  5.21e+00  1.13e+03    8.74e+02      0   Skip BFGS  \n",
      "   8  6.66e+01  1.58e+02  6.47e+00  5.90e+02    1.12e+03      0   Skip BFGS  \n",
      "   9  3.33e+01  6.14e+01  7.32e+00  3.05e+02    1.76e+02      0   Skip BFGS  \n",
      "  10  1.67e+01  3.39e+01  8.12e+00  1.69e+02    1.08e+03      0   Skip BFGS  \n",
      "  11  8.33e+00  1.84e+01  8.16e+00  8.64e+01    9.41e+01      0              \n",
      "------------------------- STOP! -------------------------\n",
      "1 : |fc-fOld| = 0.0000e+00 <= tolF*(1+|f0|) = 1.6084e+03\n",
      "1 : |xc-x_last| = 3.1564e-01 <= tolX*(1+|x0|) = 9.7422e-01\n",
      "0 : |proj(x-g)-x|    = 9.4075e+01 <= tolG          = 1.0000e-01\n",
      "0 : |proj(x-g)-x|    = 9.4075e+01 <= 1e3*eps       = 1.0000e-02\n",
      "0 : maxIter   =      30    <= iter          =     12\n",
      "------------------------- DONE! -------------------------\n",
      "\n",
      "    SimPEG.InvProblem is setting bfgsH0 to the inverse of the eval2Deriv.\n",
      "    ***Done using same Solver and solverOpts as the problem***\n",
      "SimPEG.SaveOutputDictEveryIteration will save your inversion progress as dictionary: '###-InversionModel-2020-01-17-12-27.npz'\n",
      "model has any nan: 0\n",
      "============================ Inexact Gauss Newton ============================\n",
      "  #     beta     phi_d     phi_m       f      |proj(x-g)-x|  LS    Comment   \n",
      "-----------------------------------------------------------------------------\n",
      "x0 has any nan: 0\n",
      "   0  2.63e+04  1.58e+04  8.40e-01  3.78e+04    5.84e+04      0              \n",
      "   1  1.31e+04  8.80e+03  1.13e-01  1.03e+04    2.39e+03      0              \n",
      "   2  6.57e+03  8.82e+03  1.02e-01  9.49e+03    3.23e+03      0   Skip BFGS  \n",
      "   3  3.28e+03  8.06e+03  1.80e-01  8.65e+03    2.82e+03      0              \n",
      "   4  1.64e+03  7.07e+03  3.57e-01  7.66e+03    2.85e+03      0              \n",
      "   5  8.21e+02  5.21e+03  9.38e-01  5.98e+03    3.77e+03      0              \n",
      "   6  4.11e+02  2.58e+03  2.63e+00  3.66e+03    4.47e+03      0              \n",
      "   7  2.05e+02  7.20e+02  4.55e+00  1.65e+03    2.40e+03      0   Skip BFGS  \n",
      "   8  1.03e+02  2.55e+02  5.79e+00  8.49e+02    8.40e+02      0   Skip BFGS  \n",
      "   9  5.13e+01  1.08e+02  6.82e+00  4.58e+02    8.29e+02      0   Skip BFGS  \n",
      "  10  2.57e+01  5.92e+01  7.38e+00  2.49e+02    2.26e+02      0   Skip BFGS  \n",
      "  11  1.28e+01  2.39e+01  8.29e+00  1.30e+02    9.47e+02      0   Skip BFGS  \n",
      "  12  6.42e+00  1.33e+01  8.29e+00  6.65e+01    7.21e+01      0              \n",
      "------------------------- STOP! -------------------------\n",
      "1 : |fc-fOld| = 0.0000e+00 <= tolF*(1+|f0|) = 3.7845e+03\n",
      "1 : |xc-x_last| = 2.8612e-01 <= tolX*(1+|x0|) = 1.0129e+00\n",
      "0 : |proj(x-g)-x|    = 7.2075e+01 <= tolG          = 1.0000e-01\n",
      "0 : |proj(x-g)-x|    = 7.2075e+01 <= 1e3*eps       = 1.0000e-02\n",
      "0 : maxIter   =      30    <= iter          =     13\n",
      "------------------------- DONE! -------------------------\n",
      "\n",
      "    SimPEG.InvProblem is setting bfgsH0 to the inverse of the eval2Deriv.\n",
      "    ***Done using same Solver and solverOpts as the problem***\n",
      "SimPEG.SaveOutputDictEveryIteration will save your inversion progress as dictionary: '###-InversionModel-2020-01-17-12-27.npz'\n",
      "model has any nan: 0\n",
      "============================ Inexact Gauss Newton ============================\n",
      "  #     beta     phi_d     phi_m       f      |proj(x-g)-x|  LS    Comment   \n",
      "-----------------------------------------------------------------------------\n",
      "x0 has any nan: 0\n",
      "   0  4.05e+04  3.25e+04  1.49e+00  9.29e+04    1.27e+05      0              \n"
     ]
    },
    {
     "name": "stdout",
     "output_type": "stream",
     "text": [
      "   1  2.02e+04  8.60e+03  1.56e-01  1.18e+04    9.12e+03      0              \n",
      "   2  1.01e+04  9.27e+03  7.27e-02  1.00e+04    3.19e+03      0   Skip BFGS  \n",
      "   3  5.06e+03  8.58e+03  1.22e-01  9.20e+03    3.23e+03      0              \n",
      "   4  2.53e+03  7.74e+03  2.27e-01  8.31e+03    2.74e+03      0              \n",
      "   5  1.26e+03  6.51e+03  4.96e-01  7.14e+03    3.10e+03      0              \n",
      "   6  6.32e+02  4.21e+03  1.42e+00  5.11e+03    4.14e+03      0              \n",
      "   7  3.16e+02  1.71e+03  3.33e+00  2.77e+03    3.94e+03      0              \n",
      "   8  1.58e+02  4.69e+02  5.06e+00  1.27e+03    1.59e+03      0   Skip BFGS  \n",
      "   9  7.91e+01  1.83e+02  6.20e+00  6.73e+02    7.83e+02      0   Skip BFGS  \n",
      "  10  3.95e+01  7.96e+01  7.15e+00  3.62e+02    8.98e+02      0   Skip BFGS  \n",
      "  11  1.98e+01  4.96e+01  7.55e+00  1.99e+02    6.44e+02      0   Skip BFGS  \n",
      "  12  9.88e+00  1.99e+01  8.41e+00  1.03e+02    1.37e+02      0   Skip BFGS  \n",
      "  13  4.94e+00  6.55e+00  8.84e+00  5.02e+01    3.67e+02      0   Skip BFGS  \n",
      "------------------------- STOP! -------------------------\n",
      "1 : |fc-fOld| = 0.0000e+00 <= tolF*(1+|f0|) = 9.2901e+03\n",
      "1 : |xc-x_last| = 2.8356e-02 <= tolX*(1+|x0|) = 1.0519e+00\n",
      "0 : |proj(x-g)-x|    = 3.6671e+02 <= tolG          = 1.0000e-01\n",
      "0 : |proj(x-g)-x|    = 3.6671e+02 <= 1e3*eps       = 1.0000e-02\n",
      "0 : maxIter   =      30    <= iter          =     14\n",
      "------------------------- DONE! -------------------------\n",
      "\n",
      "    SimPEG.InvProblem is setting bfgsH0 to the inverse of the eval2Deriv.\n",
      "    ***Done using same Solver and solverOpts as the problem***\n",
      "SimPEG.SaveOutputDictEveryIteration will save your inversion progress as dictionary: '###-InversionModel-2020-01-17-12-27.npz'\n",
      "model has any nan: 0\n",
      "============================ Inexact Gauss Newton ============================\n",
      "  #     beta     phi_d     phi_m       f      |proj(x-g)-x|  LS    Comment   \n",
      "-----------------------------------------------------------------------------\n",
      "x0 has any nan: 0\n",
      "   0  6.23e+04  6.73e+04  2.33e+00  2.13e+05    2.48e+05      0              \n",
      "   1  3.12e+04  8.58e+03  2.31e-01  1.58e+04    2.24e+04      0              \n",
      "   2  1.56e+04  9.68e+03  5.26e-02  1.05e+04    2.68e+03      0   Skip BFGS  \n",
      "   3  7.79e+03  9.15e+03  8.00e-02  9.77e+03    3.75e+03      0              \n",
      "   4  3.90e+03  8.29e+03  1.52e-01  8.88e+03    3.00e+03      0              \n",
      "   5  1.95e+03  7.37e+03  2.93e-01  7.94e+03    2.77e+03      0   Skip BFGS  \n",
      "   6  9.74e+02  5.79e+03  7.19e-01  6.49e+03    3.49e+03      0              \n",
      "   7  4.87e+02  3.20e+03  2.10e+00  4.22e+03    4.39e+03      0              \n",
      "   8  2.44e+02  1.04e+03  4.18e+00  2.06e+03    3.40e+03      0   Skip BFGS  \n",
      "   9  1.22e+02  3.19e+02  5.48e+00  9.87e+02    8.50e+02      0   Skip BFGS  \n",
      "  10  6.09e+01  1.32e+02  6.59e+00  5.34e+02    8.30e+02      0   Skip BFGS  \n",
      "  11  3.04e+01  7.02e+01  7.24e+00  2.91e+02    1.89e+02      0   Skip BFGS  \n",
      "  12  1.52e+01  3.11e+01  8.17e+00  1.56e+02    1.06e+03      0   Skip BFGS  \n",
      "  13  7.61e+00  1.94e+01  8.08e+00  8.09e+01    9.55e+01      0              \n",
      "  14  3.81e+00  6.97e+00  9.00e+00  4.12e+01    6.71e+02      0              \n",
      "------------------------- STOP! -------------------------\n",
      "1 : |fc-fOld| = 0.0000e+00 <= tolF*(1+|f0|) = 2.1276e+04\n",
      "1 : |xc-x_last| = 8.7438e-02 <= tolX*(1+|x0|) = 1.0913e+00\n",
      "0 : |proj(x-g)-x|    = 6.7089e+02 <= tolG          = 1.0000e-01\n",
      "0 : |proj(x-g)-x|    = 6.7089e+02 <= 1e3*eps       = 1.0000e-02\n",
      "0 : maxIter   =      30    <= iter          =     15\n",
      "------------------------- DONE! -------------------------\n",
      "\n",
      "    SimPEG.InvProblem is setting bfgsH0 to the inverse of the eval2Deriv.\n",
      "    ***Done using same Solver and solverOpts as the problem***\n",
      "SimPEG.SaveOutputDictEveryIteration will save your inversion progress as dictionary: '###-InversionModel-2020-01-17-12-27.npz'\n",
      "model has any nan: 0\n",
      "============================ Inexact Gauss Newton ============================\n",
      "  #     beta     phi_d     phi_m       f      |proj(x-g)-x|  LS    Comment   \n",
      "-----------------------------------------------------------------------------\n",
      "x0 has any nan: 0\n",
      "   0  9.60e+04  1.32e+05  3.36e+00  4.55e+05    4.53e+05      0              \n",
      "   1  4.80e+04  9.12e+03  3.45e-01  2.57e+04    4.62e+04      0              \n",
      "   2  2.40e+04  1.01e+04  3.74e-02  1.10e+04    2.72e+03      0   Skip BFGS  \n",
      "   3  1.20e+04  9.79e+03  4.82e-02  1.04e+04    4.27e+03      0              \n",
      "   4  6.00e+03  8.83e+03  1.02e-01  9.44e+03    3.54e+03      0              \n",
      "   5  3.00e+03  7.97e+03  1.93e-01  8.54e+03    2.82e+03      0   Skip BFGS  \n",
      "   6  1.50e+03  6.90e+03  3.97e-01  7.49e+03    2.92e+03      0   Skip BFGS  \n",
      "   7  7.50e+02  4.88e+03  1.08e+00  5.69e+03    3.91e+03      0              \n",
      "   8  3.75e+02  2.28e+03  2.92e+00  3.37e+03    4.48e+03      0              \n",
      "   9  1.88e+02  6.04e+02  4.72e+00  1.49e+03    1.90e+03      0   Skip BFGS  \n",
      "  10  9.38e+01  2.27e+02  5.94e+00  7.85e+02    8.42e+02      0   Skip BFGS  \n",
      "  11  4.69e+01  9.69e+01  6.93e+00  4.22e+02    8.49e+02      0   Skip BFGS  \n",
      "  12  2.34e+01  5.48e+01  7.46e+00  2.30e+02    4.49e+02      0   Skip BFGS  \n",
      "  13  1.17e+01  1.83e+01  8.33e+00  1.16e+02    7.56e+02      0   Skip BFGS  \n",
      "  14  5.86e+00  1.27e+01  8.27e+00  6.12e+01    7.31e+01      0              \n",
      "------------------------- STOP! -------------------------\n",
      "1 : |fc-fOld| = 0.0000e+00 <= tolF*(1+|f0|) = 4.5491e+04\n",
      "1 : |xc-x_last| = 2.5282e-01 <= tolX*(1+|x0|) = 1.1310e+00\n",
      "0 : |proj(x-g)-x|    = 7.3106e+01 <= tolG          = 1.0000e-01\n",
      "0 : |proj(x-g)-x|    = 7.3106e+01 <= 1e3*eps       = 1.0000e-02\n",
      "0 : maxIter   =      30    <= iter          =     15\n",
      "------------------------- DONE! -------------------------\n",
      "\n",
      "    SimPEG.InvProblem is setting bfgsH0 to the inverse of the eval2Deriv.\n",
      "    ***Done using same Solver and solverOpts as the problem***\n",
      "SimPEG.SaveOutputDictEveryIteration will save your inversion progress as dictionary: '###-InversionModel-2020-01-17-12-27.npz'\n",
      "model has any nan: 0\n",
      "============================ Inexact Gauss Newton ============================\n",
      "  #     beta     phi_d     phi_m       f      |proj(x-g)-x|  LS    Comment   \n",
      "-----------------------------------------------------------------------------\n",
      "x0 has any nan: 0\n",
      "   0  1.48e+05  2.47e+05  4.57e+00  9.23e+05    8.00e+05      0              \n",
      "   1  7.40e+04  1.07e+04  5.03e-01  4.80e+04    8.83e+04      0              \n",
      "   2  3.70e+04  1.04e+04  2.97e-02  1.15e+04    2.97e+03      0   Skip BFGS  \n",
      "   3  1.85e+04  1.04e+04  2.70e-02  1.09e+04    4.60e+03      0   Skip BFGS  \n",
      "   4  9.25e+03  9.44e+03  6.36e-02  1.00e+04    4.13e+03      0              \n",
      "   5  4.62e+03  8.50e+03  1.30e-01  9.10e+03    3.23e+03      0   Skip BFGS  \n",
      "   6  2.31e+03  7.62e+03  2.47e-01  8.19e+03    2.74e+03      0   Skip BFGS  \n",
      "   7  1.16e+03  6.29e+03  5.61e-01  6.93e+03    3.23e+03      0              \n",
      "   8  5.78e+02  3.85e+03  1.63e+00  4.80e+03    4.25e+03      0              \n",
      "   9  2.89e+02  1.48e+03  3.72e+00  2.55e+03    4.09e+03      0   Skip BFGS  \n",
      "  10  1.44e+02  4.02e+02  5.18e+00  1.15e+03    1.00e+03      0   Skip BFGS  \n",
      "  11  7.22e+01  1.63e+02  6.36e+00  6.22e+02    8.26e+02      0   Skip BFGS  \n",
      "  12  3.61e+01  8.71e+01  7.11e+00  3.44e+02    8.91e+02      0   Skip BFGS  \n",
      "  13  1.81e+01  3.62e+01  7.92e+00  1.79e+02    1.87e+02      0   Skip BFGS  \n",
      "  14  9.03e+00  1.78e+01  8.57e+00  9.52e+01    8.37e+02      0   Skip BFGS  \n",
      "  15  4.51e+00  1.06e+01  8.42e+00  4.87e+01    8.65e+01      0              \n",
      "------------------------- STOP! -------------------------\n",
      "1 : |fc-fOld| = 0.0000e+00 <= tolF*(1+|f0|) = 9.2283e+04\n",
      "1 : |xc-x_last| = 2.8484e-01 <= tolX*(1+|x0|) = 1.1710e+00\n",
      "0 : |proj(x-g)-x|    = 8.6457e+01 <= tolG          = 1.0000e-01\n",
      "0 : |proj(x-g)-x|    = 8.6457e+01 <= 1e3*eps       = 1.0000e-02\n",
      "0 : maxIter   =      30    <= iter          =     16\n",
      "------------------------- DONE! -------------------------\n",
      "\n",
      "    SimPEG.InvProblem is setting bfgsH0 to the inverse of the eval2Deriv.\n",
      "    ***Done using same Solver and solverOpts as the problem***\n",
      "SimPEG.SaveOutputDictEveryIteration will save your inversion progress as dictionary: '###-InversionModel-2020-01-17-12-27.npz'\n",
      "model has any nan: 0\n",
      "============================ Inexact Gauss Newton ============================\n",
      "  #     beta     phi_d     phi_m       f      |proj(x-g)-x|  LS    Comment   \n",
      "-----------------------------------------------------------------------------\n",
      "x0 has any nan: 0\n"
     ]
    },
    {
     "name": "stdout",
     "output_type": "stream",
     "text": [
      "   0  2.28e+05  4.40e+05  5.97e+00  1.80e+06    1.38e+06      0              \n",
      "   1  1.14e+05  1.41e+04  7.13e-01  9.53e+04    1.61e+05      0              \n",
      "   2  5.70e+04  1.06e+04  2.48e-02  1.20e+04    5.55e+03      0   Skip BFGS  \n",
      "   3  2.85e+04  1.10e+04  1.40e-02  1.14e+04    4.81e+03      0   Skip BFGS  \n",
      "   4  1.42e+04  1.01e+04  3.61e-02  1.06e+04    4.67e+03      0              \n",
      "   5  7.12e+03  9.07e+03  8.48e-02  9.67e+03    3.79e+03      0   Skip BFGS  \n",
      "   6  3.56e+03  8.18e+03  1.65e-01  8.77e+03    2.95e+03      0   Skip BFGS  \n",
      "   7  1.78e+03  7.22e+03  3.25e-01  7.80e+03    2.79e+03      0   Skip BFGS  \n",
      "   8  8.90e+02  5.49e+03  8.27e-01  6.23e+03    3.64e+03      0              \n",
      "   9  4.45e+02  2.87e+03  2.37e+00  3.93e+03    4.47e+03      0              \n",
      "  10  2.23e+02  8.57e+02  4.38e+00  1.83e+03    2.92e+03      0   Skip BFGS  \n",
      "  11  1.11e+02  3.52e+02  5.47e+00  9.60e+02    6.57e+02      0   Skip BFGS  \n",
      "  12  5.56e+01  1.28e+02  6.74e+00  5.03e+02    1.07e+03      0   Skip BFGS  \n",
      "  13  2.78e+01  5.68e+01  7.41e+00  2.63e+02    1.76e+02      0   Skip BFGS  \n",
      "  14  1.39e+01  3.12e+01  8.32e+00  1.47e+02    1.13e+03      0   Skip BFGS  \n",
      "  15  6.95e+00  1.33e+01  8.39e+00  7.17e+01    7.43e+01      0              \n",
      "------------------------- STOP! -------------------------\n",
      "1 : |fc-fOld| = 0.0000e+00 <= tolF*(1+|f0|) = 1.8005e+05\n",
      "1 : |xc-x_last| = 3.0556e-01 <= tolX*(1+|x0|) = 1.2112e+00\n",
      "0 : |proj(x-g)-x|    = 7.4285e+01 <= tolG          = 1.0000e-01\n",
      "0 : |proj(x-g)-x|    = 7.4285e+01 <= 1e3*eps       = 1.0000e-02\n",
      "0 : maxIter   =      30    <= iter          =     16\n",
      "------------------------- DONE! -------------------------\n",
      "\n",
      "    SimPEG.InvProblem is setting bfgsH0 to the inverse of the eval2Deriv.\n",
      "    ***Done using same Solver and solverOpts as the problem***\n",
      "SimPEG.SaveOutputDictEveryIteration will save your inversion progress as dictionary: '###-InversionModel-2020-01-17-12-27.npz'\n",
      "model has any nan: 0\n",
      "============================ Inexact Gauss Newton ============================\n",
      "  #     beta     phi_d     phi_m       f      |proj(x-g)-x|  LS    Comment   \n",
      "-----------------------------------------------------------------------------\n",
      "x0 has any nan: 0\n",
      "   0  3.51e+05  7.60e+05  7.56e+00  3.41e+06    2.33e+06      0              \n",
      "   1  1.75e+05  2.02e+04  9.79e-01  1.92e+05    2.87e+05      0              \n",
      "   2  8.77e+04  1.08e+04  2.17e-02  1.27e+04    1.07e+04      0   Skip BFGS  \n",
      "   3  4.39e+04  1.15e+04  6.36e-03  1.18e+04    5.20e+03      0   Skip BFGS  \n",
      "   4  2.19e+04  1.07e+04  1.90e-02  1.12e+04    5.05e+03      0              \n",
      "   5  1.10e+04  9.71e+03  5.12e-02  1.03e+04    4.37e+03      0   Skip BFGS  \n",
      "   6  5.48e+03  8.72e+03  1.10e-01  9.33e+03    3.46e+03      0   Skip BFGS  \n",
      "   7  2.74e+03  7.86e+03  2.08e-01  8.43e+03    2.82e+03      0   Skip BFGS  \n",
      "   8  1.37e+03  6.71e+03  4.43e-01  7.32e+03    3.00e+03      0              \n",
      "   9  6.85e+02  4.54e+03  1.25e+00  5.40e+03    4.06e+03      0              \n",
      "  10  3.43e+02  2.01e+03  3.21e+00  3.11e+03    4.48e+03      0              \n",
      "  11  1.71e+02  5.18e+02  4.88e+00  1.35e+03    1.45e+03      0   Skip BFGS  \n",
      "  12  8.57e+01  2.02e+02  6.10e+00  7.26e+02    8.05e+02      0   Skip BFGS  \n",
      "  13  4.28e+01  9.70e+01  6.95e+00  3.95e+02    5.41e+02      0   Skip BFGS  \n",
      "  14  2.14e+01  4.19e+01  7.85e+00  2.10e+02    1.04e+03      0   Skip BFGS  \n",
      "  15  1.07e+01  2.52e+01  7.93e+00  1.10e+02    1.45e+02      0              \n",
      "  16  5.36e+00  5.96e+00  8.84e+00  5.33e+01    2.36e+02      0              \n",
      "------------------------- STOP! -------------------------\n",
      "1 : |fc-fOld| = 0.0000e+00 <= tolF*(1+|f0|) = 3.4118e+05\n",
      "1 : |xc-x_last| = 1.1502e-01 <= tolX*(1+|x0|) = 1.2516e+00\n",
      "0 : |proj(x-g)-x|    = 2.3563e+02 <= tolG          = 1.0000e-01\n",
      "0 : |proj(x-g)-x|    = 2.3563e+02 <= 1e3*eps       = 1.0000e-02\n",
      "0 : maxIter   =      30    <= iter          =     17\n",
      "------------------------- DONE! -------------------------\n"
     ]
    }
   ],
   "source": [
    "mesh_rho = TensorMesh([mesh_1d.hx.size])\n",
    "reg_rho = regularization.Simple(\n",
    "    mesh_rho, alpha_s=1., alpha_x=1.,\n",
    "    mapping=wires.rho\n",
    ")\n",
    "mesh_t = TensorMesh([mesh_1d.hx.size-1])\n",
    "reg_t = regularization.Simple(\n",
    "    mesh_t, alpha_s=1., alpha_x=1.,\n",
    "    mapping=wires.t    \n",
    ")\n",
    "reg = reg_rho + reg_t\n",
    "opt = optimization.InexactGaussNewton(\n",
    "    maxIter=30, maxIterCG=20\n",
    ")\n",
    "invProb = inverse_problem.BaseInvProblem(dmis, reg, opt)\n",
    "target = directives.TargetMisfit()\n",
    "# Create an inversion object\n",
    "beta = directives.BetaSchedule(coolingFactor=2., coolingRate=1.)\n",
    "betaest = directives.BetaEstimate_ByEig(beta0_ratio=1e0)\n",
    "save =  directives.SaveOutputDictEveryIteration()\n",
    "inv = inversion.BaseInversion(invProb, directiveList=[beta, target, save, betaest])\n",
    "# inv = inversion.BaseInversion(invProb, directiveList=[beta, target, save])\n",
    "opt.remember('xc')\n",
    "MOPT = []\n",
    "# rho_s = [10, 20, 30, 40, 50, 60, 70, 80, 90, 100]\n",
    "rho_s = np.logspace(np.log10(dobs.dobs.min()), np.log10(dobs.dobs.max()), 10)\n",
    "for rho0 in rho_s:\n",
    "    m0 = np.r_[np.log(np.ones(rho.size)*rho0), np.log(np.ones(rho.size-1) * 10.)]\n",
    "#     m0 = np.r_[np.log(np.ones(rho.size)*rho0), np.ones(rho.size-1) * 10.]    \n",
    "    mopt = inv.run(m0)\n",
    "    if target.target > invProb.phi_d:\n",
    "        MOPT.append(mopt)"
   ]
  },
  {
   "cell_type": "code",
   "execution_count": 12,
   "metadata": {},
   "outputs": [
    {
     "data": {
      "image/png": "[encoded data removed]",
      "text/plain": [
       "<Figure size 432x288 with 1 Axes>"
      ]
     },
     "metadata": {
      "needs_background": "light"
     },
     "output_type": "display_data"
    }
   ],
   "source": [
    "StaticUtils.plot_layer(rho, mesh_1d)\n",
    "for mopt in MOPT:\n",
    "    rho_est = mapping_rho * mopt\n",
    "    t_est = mapping_t * mopt\n",
    "    mesh_tmp = TensorMesh([np.r_[t_est, 100]])\n",
    "    StaticUtils.plot_layer(rho_est, mesh_tmp, showlayers=False, **{'color':'r', 'alpha':0.5})"
   ]
  },
  {
   "cell_type": "code",
   "execution_count": 13,
   "metadata": {},
   "outputs": [
    {
     "data": {
      "text/plain": [
       "[<matplotlib.lines.Line2D at 0x1a2cfa2ef0>]"
      ]
     },
     "execution_count": 13,
     "metadata": {},
     "output_type": "execute_result"
    },
    {
     "data": {
      "image/png": "[encoded data removed]",
      "text/plain": [
       "<Figure size 432x288 with 1 Axes>"
      ]
     },
     "metadata": {
      "needs_background": "light"
     },
     "output_type": "display_data"
    }
   ],
   "source": [
    "StaticUtils.plot_layer(rho, mesh_1d)\n",
    "ii = 0\n",
    "mopt = MOPT[ii]\n",
    "rho_est = mapping_rho * mopt\n",
    "t_est = mapping_t * mopt\n",
    "mesh_tmp = TensorMesh([np.r_[t_est, 100]])\n",
    "StaticUtils.plot_layer(rho_est, mesh_tmp, showlayers=False, **{'color':'r', 'alpha':0.5})"
   ]
  },
  {
   "cell_type": "code",
   "execution_count": 14,
   "metadata": {},
   "outputs": [],
   "source": [
    "# StaticUtils.plot_layer(rho, mesh_1d)\n",
    "# rho_est = mapping_rho * save.outDict[len(save.outDict)]['m']\n",
    "# t_est = mapping_t * save.outDict[len(save.outDict)]['m']\n",
    "# mesh_tmp = TensorMesh([np.r_[t_est, 100]])\n",
    "# StaticUtils.plot_layer(rho_est, mesh_tmp, showlayers=False, **{'color':'r'})"
   ]
  },
  {
   "cell_type": "code",
   "execution_count": 15,
   "metadata": {},
   "outputs": [
    {
     "data": {
      "text/plain": [
       "<matplotlib.legend.Legend at 0x1a2d1a6c50>"
      ]
     },
     "execution_count": 15,
     "metadata": {},
     "output_type": "execute_result"
    },
    {
     "data": {
      "image/png": "[encoded data removed]",
      "text/plain": [
       "<Figure size 432x288 with 1 Axes>"
      ]
     },
     "metadata": {
      "needs_background": "light"
     },
     "output_type": "display_data"
    }
   ],
   "source": [
    "ab = simulation.electrode_separations['AB']\n",
    "plt.loglog(ab/2., dobs.dobs, '-')\n",
    "plt.loglog(ab/2., save.outDict[len(save.outDict)]['dpred'], '.')\n",
    "plt.legend((\"Observed\", \"Predicted\"))"
   ]
  },
  {
   "cell_type": "code",
   "execution_count": null,
   "metadata": {},
   "outputs": [],
   "source": []
  }
 ],
 "metadata": {
  "kernelspec": {
   "display_name": "Python 3",
   "language": "python",
   "name": "python3"
  },
  "language_info": {
   "codemirror_mode": {
    "name": "ipython",
    "version": 3
   },
   "file_extension": ".py",
   "mimetype": "text/x-python",
   "name": "python",
   "nbconvert_exporter": "python",
   "pygments_lexer": "ipython3",
   "version": "3.7.3"
  }
 },
 "nbformat": 4,
 "nbformat_minor": 2
}
