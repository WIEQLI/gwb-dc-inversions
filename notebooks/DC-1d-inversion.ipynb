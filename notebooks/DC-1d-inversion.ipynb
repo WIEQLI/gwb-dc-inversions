{
 "cells": [
  {
   "cell_type": "markdown",
   "metadata": {},
   "source": [
    "# 1D DC Resistivity Inversion"
   ]
  },
  {
   "cell_type": "code",
   "execution_count": 1,
   "metadata": {},
   "outputs": [],
   "source": [
    "from utils.DCResistivity import DC1DInversionApp\n",
    "dc_app = DC1DInversionApp()"
   ]
  },
  {
   "cell_type": "markdown",
   "metadata": {},
   "source": [
    "# Purpose\n",
    "\n",
    "We load observed DC data, and invert to recover a resistivity model. By altering inversion parameters and exploring correspoding inversion results, we investigate important aspects of the 1D DC resistivity inversion. \n",
    "\n",
    "## Outline\n",
    "This notebook includes four steps:\n",
    "- Step1: Load observed data\n",
    "- Step2: Plot observed data\n",
    "- Step3: Set layer thicknesses\n",
    "- Step4: Set uncertainty\n",
    "- Step5: Run inversion\n",
    "- Step6: Explore inversion results\n",
    "- Step7: Run inversion to compute DOI index\n",
    "- Step8: Plot DOI index"
   ]
  },
  {
   "cell_type": "markdown",
   "metadata": {},
   "source": [
    "## Step 1: Load observed data\n",
    "\n",
    "- `obsfile`: file name for the observed data\n",
    "- `topofile`: file name for the topography data\n",
    "- `load`: will load the observation file if this is checked\n",
    "- `input type`: type of the input file"
   ]
  },
  {
   "cell_type": "code",
   "execution_count": 10,
   "metadata": {},
   "outputs": [
    {
     "data": {
      "application/vnd.jupyter.widget-view+json": {
       "model_id": "edc8a43bb4204545a50ac6b88b8f0d02",
       "version_major": 2,
       "version_minor": 0
      },
      "text/plain": [
       "interactive(children=(Dropdown(description='filename: ', index=1, layout=Layout(width='max-content'), options=…"
      ]
     },
     "metadata": {},
     "output_type": "display_data"
    }
   ],
   "source": [
    "dc_app.interact_load_obs()"
   ]
  },
  {
   "cell_type": "markdown",
   "metadata": {},
   "source": [
    "## Step 2: Plot observed data\n",
    "\n",
    "- `plot type`: type of the data plot\n",
    "- `aspect ratio`: aspect ratio for pseudo-section plot"
   ]
  },
  {
   "cell_type": "code",
   "execution_count": 11,
   "metadata": {},
   "outputs": [
    {
     "data": {
      "application/vnd.jupyter.widget-view+json": {
       "model_id": "0b2bf7cae86c4a5897579aabbdc118ba",
       "version_major": 2,
       "version_minor": 0
      },
      "text/plain": [
       "interactive(children=(ToggleButtons(description='plot type', options=('sounding', 'histogram'), value='soundin…"
      ]
     },
     "metadata": {},
     "output_type": "display_data"
    }
   ],
   "source": [
    "dc_app.interact_plot_obs_data()"
   ]
  },
  {
   "cell_type": "markdown",
   "metadata": {},
   "source": [
    "## Step 2: Set a layer thicknesses\n",
    "\n",
    "- `n_layer`: number of layers\n",
    "- `dz_min`: minimum thickness of the lyaer\n",
    "- `factor`: geometric factor which we increase thickness with depth"
   ]
  },
  {
   "cell_type": "code",
   "execution_count": 12,
   "metadata": {},
   "outputs": [
    {
     "data": {
      "application/vnd.jupyter.widget-view+json": {
       "model_id": "911afae608674e6f91e7117756bab61b",
       "version_major": 2,
       "version_minor": 0
      },
      "text/plain": [
       "interactive(children=(FloatText(value=2.0, description='dz_min'), IntSlider(value=25, continuous_update=False,…"
      ]
     },
     "metadata": {},
     "output_type": "display_data"
    }
   ],
   "source": [
    "dc_app.interact_set_mesh()"
   ]
  },
  {
   "cell_type": "markdown",
   "metadata": {},
   "source": [
    "## Step 4: Set uncertainty\n",
    "\n",
    "$$ \\text{uncertainty} = 0.01 \\times \\text{percentage}\\times|d^{obs}| + \\text{floor}$$\n",
    "\n",
    "- `percentage (%)`: percentage error\n",
    "- `floor (ohm-m)`: floor error"
   ]
  },
  {
   "cell_type": "code",
   "execution_count": 13,
   "metadata": {},
   "outputs": [
    {
     "data": {
      "application/vnd.jupyter.widget-view+json": {
       "model_id": "54c1577f6d104b81841acb296a91220f",
       "version_major": 2,
       "version_minor": 0
      },
      "text/plain": [
       "interactive(children=(FloatText(value=5.0, description='percentage'), FloatText(value=0.0, description='floor'…"
      ]
     },
     "metadata": {},
     "output_type": "display_data"
    }
   ],
   "source": [
    "dc_app.interact_set_uncertainty()"
   ]
  },
  {
   "cell_type": "markdown",
   "metadata": {},
   "source": [
    "## Step 5: Run inversion\n",
    "\n",
    "- $\\rho_0$: initial resistivity model\n",
    "- $\\rho_{ref}$: reference resistivity model\n",
    "- `alpha_s`: $\\alpha_s$\n",
    "- `alpha_z`: $\\alpha_z$\n",
    "- `maxIter`: maximum number of iteration\n",
    "- `chifact`: chifactor for the target misfit\n",
    "- `beta0_ratio`: ratio to set the initial beta\n",
    "- `coolingFactor`: cooling factor to cool beta\n",
    "- `n_iter_per_beta`: # of interation for each beta value \n",
    "- `run`: run inversion if this is checked"
   ]
  },
  {
   "cell_type": "code",
   "execution_count": 14,
   "metadata": {},
   "outputs": [
    {
     "data": {
      "application/vnd.jupyter.widget-view+json": {
       "model_id": "44f4c9b91d584a46b00cf5dcf5abfc27",
       "version_major": 2,
       "version_minor": 0
      },
      "text/plain": [
       "interactive(children=(FloatText(value=166.0, description='$\\\\rho_0$'), FloatText(value=166.0, description='$\\\\…"
      ]
     },
     "metadata": {},
     "output_type": "display_data"
    }
   ],
   "source": [
    "dc_app.interact_run_inversion()"
   ]
  },
  {
   "cell_type": "markdown",
   "metadata": {},
   "source": [
    "## Step 6: Explore inversion results\n",
    "\n",
    "- `iteration`: inversion iteration\n",
    "- `curve type`:type of the curve (this is active when `plot type`=`misfit_curve`)\n",
    "- `scale`: linear or log scale (this is active when `plot type`=`misfit_curve`)\n",
    "- `plot type`: type of the plot"
   ]
  },
  {
   "cell_type": "code",
   "execution_count": 15,
   "metadata": {
    "scrolled": false
   },
   "outputs": [
    {
     "data": {
      "application/vnd.jupyter.widget-view+json": {
       "model_id": "59cf48731601496e8830c88935764f3d",
       "version_major": 2,
       "version_minor": 0
      },
      "text/plain": [
       "interactive(children=(IntSlider(value=1, continuous_update=False, description='iteration', max=8, min=1), Togg…"
      ]
     },
     "metadata": {},
     "output_type": "display_data"
    }
   ],
   "source": [
    "dc_app.interact_plot_inversion_results()"
   ]
  },
  {
   "cell_type": "markdown",
   "metadata": {},
   "source": [
    "## Step 7: Run inversion to compute DOI index\n",
    "\n",
    "Depth of investigation (DOI) index can be computed by following equation (Oldenburg and Li, 1999):\n",
    "\n",
    "$$ \\text{doi index} = \\frac{m^1-m^2}{m_{ref}^1-m_{ref}^2}$$\n",
    "\n",
    "where \n",
    "\n",
    "- $m^1$: inversion model 1 (from Step5)\n",
    "- $m^2$: inversion model 2 (same inversion parameters with model 1 except for `m0` and `mref`\n",
    "- $m_{ref}^1$: reference model 1 (used for Step 5)\n",
    "- $m_{ref}^2$: reference model 2 (=$m_{ref}^1 \\times$ factor)\n",
    "\n",
    "Here a constant factor is multiplied to generate a new reference model. \n",
    "Below app will run inversion to obtain another inversion model ($m^2$), which will allow us to \n",
    "compute DOI index in the following app. \n",
    "\n",
    "### Parameters\n",
    "- `factor`: constant factor to compute a new reference model\n",
    "- `run`: if checked, then a new inverion will run"
   ]
  },
  {
   "cell_type": "code",
   "execution_count": 16,
   "metadata": {},
   "outputs": [
    {
     "data": {
      "application/vnd.jupyter.widget-view+json": {
       "model_id": "a1d7282ac8bc43669a3e9b78a24c9e1a",
       "version_major": 2,
       "version_minor": 0
      },
      "text/plain": [
       "interactive(children=(FloatText(value=0.5, description='factor'), Checkbox(value=False, description='run'), Ou…"
      ]
     },
     "metadata": {},
     "output_type": "display_data"
    }
   ],
   "source": [
    "dc_app.interact_run_doi()"
   ]
  },
  {
   "cell_type": "markdown",
   "metadata": {},
   "source": [
    "##  Step 8: Plot DOI index\n",
    "\n",
    "\n",
    "- `doi_level`: level of the doi index"
   ]
  },
  {
   "cell_type": "code",
   "execution_count": 17,
   "metadata": {},
   "outputs": [
    {
     "data": {
      "application/vnd.jupyter.widget-view+json": {
       "model_id": "ef55c2f823d641e49b9f9b829370f873",
       "version_major": 2,
       "version_minor": 0
      },
      "text/plain": [
       "interactive(children=(FloatText(value=75.0, description='$\\\\rho_{min}$'), FloatText(value=717.0, description='…"
      ]
     },
     "metadata": {},
     "output_type": "display_data"
    }
   ],
   "source": [
    "dc_app.interact_plot_doi_results()"
   ]
  }
 ],
 "metadata": {
  "kernelspec": {
   "display_name": "Python 3",
   "language": "python",
   "name": "python3"
  },
  "language_info": {
   "codemirror_mode": {
    "name": "ipython",
    "version": 3
   },
   "file_extension": ".py",
   "mimetype": "text/x-python",
   "name": "python",
   "nbconvert_exporter": "python",
   "pygments_lexer": "ipython3",
   "version": "3.7.3"
  }
 },
 "nbformat": 4,
 "nbformat_minor": 2
}
