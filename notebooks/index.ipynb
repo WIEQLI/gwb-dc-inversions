{
 "cells": [
  {
   "cell_type": "markdown",
   "metadata": {},
   "source": [
    "<a href=\"https://seg.org/About-SEG/Geoscientists-Without-Borders\"><img src=\"data:image/jpeg;base64,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\" style=\"width: 50%; height: 25%\" align=\"ceter\"></img></a>\n",
    "\n",
    "# DC Inversions for Geoscience Without Border Project\n",
    "\n",
    "[Add Purpose]\n",
    "\n",
    "These notebooks are powered by <a href=\"http://simpeg.xzy\">SimPEG</a>, an open source framework for Simulation and Parameter Estimation in Geophysics.\n",
    "\n",
    "If you have feedback, we would like to hear from you! \n",
    "- <a href=\"http://geosci.xyz/contact\">Contact us</a>\n",
    "- <a href=\"https://github.com/geoscixyz/gwb-dc-inversions/issues\">Report issues</a>\n",
    "- <a href=\"https://github.com/geoscixyz/gwb-dc-inversions/\">Join the development</a>"
   ]
  },
  {
   "cell_type": "markdown",
   "metadata": {},
   "source": [
    "\n",
    "\n",
    "## Contents\n",
    "\n",
    "### Apps\n",
    "\n",
    "- [1D-DC-3-Layer-Inversion.ipynb](./1D-DC-3-Layer-Inversion.ipynb): 3-layer app to fit observed VES data\n",
    "- [2D-DC-Resistivity-Simulation.ipynb](./2D-DC-Resistivity-Simulation.ipynb): 2D DC resistivity simulation app\n",
    "- [2D-DC-Resistivity-Inversion.ipynb](./2D-DC-Resistivity-Inversion.ipynb): 2D DC resistivity inversion app\n",
    "\n",
    "### Notebooks\n",
    "\n",
    "- [dc1d-simpeg-inversion.ipynb](./dc1d-simpeg-inversion.ipynb): 1D DC resistivity inversion notebook with fixed thickness of layers (synthetic data)\n",
    "- [dc1d-simpeg-inversion-thickenss.ipynb](./dc1d-simpeg-inversion-thickenss.ipynb): 1D DC resistivity inversion notebook with variable thickness of layers (synthetic data)\n",
    "\n",
    "- [dc1d-smooth-inversion.ipynb](./dc1d-smooth-inversion.ipynb): 1D DC resistivity inversion notebook with fixed thickness of layers (field data)\n",
    "- [dc1d-parametric-inversion.ipynb](./dc1d-parametric-inversion.ipynb): 1D DC resistivity inversion notebook with variable thickness of layers (field data)\n",
    "\n"
   ]
  },
  {
   "cell_type": "markdown",
   "metadata": {},
   "source": [
    "## Running the notebook\n",
    "\n",
    "From the menu, select `cell`, `run all`, or run each individual cell using `shift + enter`\n",
    "\n",
    "![cell-run-all](https://em.geosci.xyz/_images/run_all_cells.png)"
   ]
  },
  {
   "cell_type": "markdown",
   "metadata": {},
   "source": [
    "#### <center>We love open source!</center>\n",
    "\n",
    "<center><a rel=\"license\" href=\"http://creativecommons.org/licenses/by/4.0/\"><img alt=\"Creative Commons License\" style=\"border-width:0\" width=60 src=\"https://i.creativecommons.org/l/by/4.0/88x31.png\" /></a> \n",
    "\n",
    "This work is licensed under a <a rel=\"license\" href=\"http://creativecommons.org/licenses/by/4.0/\">Creative Commons Attribution 4.0 International License</a>.</center>"
   ]
  }
 ],
 "metadata": {
  "anaconda-cloud": {},
  "kernelspec": {
   "display_name": "Python 3",
   "language": "python",
   "name": "python3"
  },
  "language_info": {
   "codemirror_mode": {
    "name": "ipython",
    "version": 3
   },
   "file_extension": ".py",
   "mimetype": "text/x-python",
   "name": "python",
   "nbconvert_exporter": "python",
   "pygments_lexer": "ipython3",
   "version": "3.8.1"
  }
 },
 "nbformat": 4,
 "nbformat_minor": 1
}
