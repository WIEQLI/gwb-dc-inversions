{
 "cells": [
  {
   "cell_type": "markdown",
   "metadata": {},
   "source": [
    "# 2D DC resistivity simulation"
   ]
  },
  {
   "cell_type": "code",
   "execution_count": 1,
   "metadata": {},
   "outputs": [],
   "source": [
    "from utils.DCResistivity import DCRSimulationApp\n",
    "%matplotlib inline"
   ]
  },
  {
   "cell_type": "markdown",
   "metadata": {},
   "source": [
    "# Purpose\n",
    "\n",
    "With the capabilty of generating direct current resistivity (DCR) survey, we first learn typical setup of the DC resistivity survey. Then, by generating a simple resistivity model (block embedded in homogeneous subsurface) and simluating DCR data, we understand how DCR response is generated for a given resistivity model. Finally, generated synthetic data will be inverted to recover a resistivity model in the folloing app called [2D-DC-Resistivity-Inversion.ipynb](./2D-DC-Resistivity-Inversion.ipynb). \n",
    "\n",
    "\n",
    "## Outline\n",
    "This notebook includes four steps:\n",
    "- Step1: Generate a survey\n",
    "- Step2: Generate a resistivity model and simulate"
   ]
  },
  {
   "cell_type": "markdown",
   "metadata": {},
   "source": [
    "## Step1: Generate a DC resistivity survey\n",
    "\n",
    "- `spacing (m)`: spacing between electrodes\n",
    "- `array type`: type of arrays (e.g. dipole-dipole)\n",
    "- `line length (m)`: length of the 2D survey line \n",
    "- `n-spacing`: maximum # of sounding \n",
    "- `src #`: source (current electrode(s)) number\n",
    "- `rx #`: source (potential electrode(s)) number"
   ]
  },
  {
   "cell_type": "code",
   "execution_count": 2,
   "metadata": {},
   "outputs": [
    {
     "data": {
      "application/vnd.jupyter.widget-view+json": {
       "model_id": "04b8d38553174a99803ab34319ac83a9",
       "version_major": 2,
       "version_minor": 0
      },
      "text/plain": [
       "GridspecLayout(children=(Output(layout=Layout(grid_area='widget001')), FloatText(value=10.0, description='spac…"
      ]
     },
     "metadata": {},
     "output_type": "display_data"
    }
   ],
   "source": [
    "dc_app = DCRSimulationApp()\n",
    "dc_app.interact_plot_survey()"
   ]
  },
  {
   "cell_type": "markdown",
   "metadata": {},
   "source": [
    "## Step 2: Generate resistivity model and Simulate\n",
    "\n",
    "- `dx (m)`: spacing between electrodes\n",
    "- `dz (m)`: type of arrays (e.g. dipole-dipole)\n",
    "- `xc (m)`: length of the 2D survey line \n",
    "- `zc`: maximum # of sounding \n",
    "- $\\rho_0$ ($\\Omega$m): background resistivity\n",
    "- $\\rho_1$ ($\\Omega$m): block resistivity\n",
    "- n$_{cell}$/dipole: number of cells per dipole (shortest electrode spacing)\n",
    "- `noise (%)`: percentage of the Gaussian noise \n",
    "- `obsname`: output file for the simulation result\n",
    "- `write obs file?`: write observed data when this is checked\n",
    "- `show grid?`: show mesh grid when this is checked\n",
    "- `show core?`: show only core domain when this is checked\n",
    "- `simulate?`: run simulation when this is checked\n",
    "- `topography?`: add topography when this is checked\n",
    "- `aspect_ratio`: vertical to horizontal ratio\n",
    "- `Update`: update the app in case survey parameters in the previous app are changed"
   ]
  },
  {
   "cell_type": "code",
   "execution_count": 3,
   "metadata": {
    "scrolled": false
   },
   "outputs": [
    {
     "data": {
      "application/vnd.jupyter.widget-view+json": {
       "model_id": "38edddeda57e4465b044299e469a715d",
       "version_major": 2,
       "version_minor": 0
      },
      "text/plain": [
       "GridspecLayout(children=(Output(layout=Layout(grid_area='widget001')), FloatSlider(value=20.0, continuous_upda…"
      ]
     },
     "metadata": {},
     "output_type": "display_data"
    },
    {
     "data": {
      "image/png": "[encoded data removed]",
      "text/plain": [
       "<Figure size 720x504 with 1 Axes>"
      ]
     },
     "metadata": {
      "needs_background": "light"
     },
     "output_type": "display_data"
    }
   ],
   "source": [
    "dc_app.interact_plot_model()"
   ]
  },
  {
   "cell_type": "code",
   "execution_count": null,
   "metadata": {},
   "outputs": [
    {
     "name": "stdout",
     "output_type": "stream",
     "text": [
      "> \u001b[0;32m/Users/sgkang/Projects/gwb-dc-inversions/notebooks/utils/DCResistivity.py\u001b[0m(213)\u001b[0;36mget_mesh\u001b[0;34m()\u001b[0m\n",
      "\u001b[0;32m    211 \u001b[0;31m\u001b[0;34m\u001b[0m\u001b[0m\n",
      "\u001b[0m\u001b[0;32m    212 \u001b[0;31m        \u001b[0;32mif\u001b[0m \u001b[0madd_topography\u001b[0m\u001b[0;34m:\u001b[0m\u001b[0;34m\u001b[0m\u001b[0;34m\u001b[0m\u001b[0m\n",
      "\u001b[0m\u001b[0;32m--> 213 \u001b[0;31m            \u001b[0mtopo\u001b[0m\u001b[0;34m,\u001b[0m \u001b[0mmesh1D\u001b[0m \u001b[0;34m=\u001b[0m \u001b[0mDC\u001b[0m\u001b[0;34m.\u001b[0m\u001b[0mUtils\u001b[0m\u001b[0;34m.\u001b[0m\u001b[0mgenTopography\u001b[0m\u001b[0;34m(\u001b[0m\u001b[0mself\u001b[0m\u001b[0;34m.\u001b[0m\u001b[0mmesh\u001b[0m\u001b[0;34m,\u001b[0m \u001b[0;34m-\u001b[0m\u001b[0;36m10\u001b[0m\u001b[0;34m,\u001b[0m \u001b[0;36m0\u001b[0m\u001b[0;34m,\u001b[0m \u001b[0mits\u001b[0m\u001b[0;34m=\u001b[0m\u001b[0;36m100\u001b[0m\u001b[0;34m,\u001b[0m \u001b[0mseed\u001b[0m\u001b[0;34m=\u001b[0m\u001b[0mseed\u001b[0m\u001b[0;34m)\u001b[0m\u001b[0;34m\u001b[0m\u001b[0;34m\u001b[0m\u001b[0m\n",
      "\u001b[0m\u001b[0;32m    214 \u001b[0;31m            self.actind = Utils.surface2ind_topo(\n",
      "\u001b[0m\u001b[0;32m    215 \u001b[0;31m                \u001b[0mself\u001b[0m\u001b[0;34m.\u001b[0m\u001b[0mmesh\u001b[0m\u001b[0;34m,\u001b[0m \u001b[0mnp\u001b[0m\u001b[0;34m.\u001b[0m\u001b[0mc_\u001b[0m\u001b[0;34m[\u001b[0m\u001b[0mmesh1D\u001b[0m\u001b[0;34m.\u001b[0m\u001b[0mvectorCCx\u001b[0m\u001b[0;34m,\u001b[0m \u001b[0mtopo\u001b[0m\u001b[0;34m]\u001b[0m\u001b[0;34m\u001b[0m\u001b[0;34m\u001b[0m\u001b[0m\n",
      "\u001b[0m\n"
     ]
    }
   ],
   "source": [
    "debug"
   ]
  },
  {
   "cell_type": "code",
   "execution_count": null,
   "metadata": {},
   "outputs": [],
   "source": []
  }
 ],
 "metadata": {
  "kernelspec": {
   "display_name": "Python 3",
   "language": "python",
   "name": "python3"
  },
  "language_info": {
   "codemirror_mode": {
    "name": "ipython",
    "version": 3
   },
   "file_extension": ".py",
   "mimetype": "text/x-python",
   "name": "python",
   "nbconvert_exporter": "python",
   "pygments_lexer": "ipython3",
   "version": "3.7.3"
  }
 },
 "nbformat": 4,
 "nbformat_minor": 2
}
