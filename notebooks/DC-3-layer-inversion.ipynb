{
 "cells": [
  {
   "cell_type": "markdown",
   "metadata": {},
   "source": [
    "# DC 3 Layer Inversion\n",
    "\n",
    "Parametric fitting app for 1D DC resistivity (i.e. VES) data"
   ]
  },
  {
   "cell_type": "code",
   "execution_count": null,
   "metadata": {},
   "outputs": [],
   "source": [
    "from utils.DCResistivity import DC1D3LayerApp\n",
    "dc_app = DC1D3LayerApp()"
   ]
  },
  {
   "cell_type": "markdown",
   "metadata": {},
   "source": [
    "# Purpose\n",
    "\n",
    "We load observed virtical electric sounding (VES) DC data, and invert to recover a resistivity model that varies with depth. We first manually invert the data by adjusting parameters by hand in a 3 layer model. Then we automatically invert the data using a minimization algorithm where we can vary the number of layers.\n",
    "\n",
    "## Outline\n",
    "This notebook includes four steps:\n",
    "- Step 1: Load observed data\n",
    "- Step 2: Manually fit observed VES data using 3-layer app\n",
    "- Step 3: Run Parametric Inversion\n",
    "- Step 4: Run inversion"
   ]
  },
  {
   "cell_type": "markdown",
   "metadata": {},
   "source": [
    "## Step 1: Load observed data\n",
    "\n",
    "- `filename`: file name for the observed data\n",
    "- `load`: will load the observation file if this is checked"
   ]
  },
  {
   "cell_type": "code",
   "execution_count": null,
   "metadata": {},
   "outputs": [],
   "source": [
    "dc_app.interact_load_obs()"
   ]
  },
  {
   "cell_type": "markdown",
   "metadata": {},
   "source": [
    "## Step 2: Manually fit observed VES data using 3-layer app\n",
    "\n",
    "- $\\rho_1$: resistivity of the top layer\n",
    "- $\\rho_2$: resistivity of the second layer\n",
    "- $\\rho_3$: resistivity of the last layer\n",
    "- $h_1$: thickness of the top layer\n",
    "- $h_2$: thickness of the second layer\n",
    "\n",
    "(The last layer has an infinite thickness)"
   ]
  },
  {
   "cell_type": "code",
   "execution_count": null,
   "metadata": {},
   "outputs": [],
   "source": [
    "dc_app.interact_1d_layer()"
   ]
  },
  {
   "cell_type": "markdown",
   "metadata": {},
   "source": [
    "## Step 3: Run Parametric Inversion\n",
    "\n",
    "\n",
    "We can set the uncertainty of the observered data:\n",
    "- `percentage (%)`: percentage error\n",
    "- `floor (V)`: floor error\n",
    "$$ \\text{uncertainty} = 0.01 \\times \\text{percentage}\\times|d^{obs}| + \\text{floor}$$\n",
    "\n",
    "and also set the parameters for the inversion:\n",
    "- $\\rho_0$: initial resistivity model\n",
    "- $h_0$: initial thicknesses\n",
    "- $n_{layers}$: Number of layers to invert for\n",
    "- `maxIter`: maximum number of iteration \n",
    "- `run`: run inversion if this is checked"
   ]
  },
  {
   "cell_type": "code",
   "execution_count": null,
   "metadata": {},
   "outputs": [],
   "source": [
    "dc_app.interact_run_inversion()"
   ]
  },
  {
   "cell_type": "markdown",
   "metadata": {},
   "source": [
    "## Step 4: Explore inversion results\n",
    "We can look at the model for each inversion iteration to see how the model is iteratively updated\n",
    "\n",
    "- `iteration`: inversion iteration"
   ]
  },
  {
   "cell_type": "code",
   "execution_count": null,
   "metadata": {},
   "outputs": [],
   "source": [
    "dc_app.interact_plot_inversion_results()"
   ]
  },
  {
   "cell_type": "code",
   "execution_count": null,
   "metadata": {},
   "outputs": [],
   "source": []
  }
 ],
 "metadata": {
  "kernelspec": {
   "display_name": "Python 3",
   "language": "python",
   "name": "python3"
  },
  "language_info": {
   "codemirror_mode": {
    "name": "ipython",
    "version": 3
   },
   "file_extension": ".py",
   "mimetype": "text/x-python",
   "name": "python",
   "nbconvert_exporter": "python",
   "pygments_lexer": "ipython3",
   "version": "3.7.3"
  }
 },
 "nbformat": 4,
 "nbformat_minor": 2
}
