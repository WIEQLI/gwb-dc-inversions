{
 "cells": [
  {
   "cell_type": "markdown",
   "metadata": {},
   "source": [
    "DC Resistivity: 1D Resistivity Inversion\n",
    "========================================\n",
    "\n",
    "In this notebook, we:\n",
    "- load Schlumberger sounding data from a text file\n",
    "- plot the raw apparent resistivity data as a function of electrode separation\n",
    "- assign uncertainties to the data\n",
    "- recover an electrical resistivity model for a specified number of layers\n",
    "- plot the recovered resistivity model and compare observed and predicted data\n",
    "\n",
    "Import Modules\n",
    "----------------------"
   ]
  },
  {
   "cell_type": "code",
   "execution_count": 1,
   "metadata": {},
   "outputs": [],
   "source": [
    "import os\n",
    "import numpy as np\n",
    "import matplotlib as mpl\n",
    "import matplotlib.pyplot as plt\n",
    "import pandas as pd\n",
    "\n",
    "from discretize import TensorMesh\n",
    "\n",
    "from SimPEG import (maps, data, data_misfit, regularization,\n",
    "    optimization, inverse_problem, inversion, directives\n",
    "    )\n",
    "from SimPEG.electromagnetics.static import resistivity as dc\n",
    "from SimPEG.electromagnetics.static.utils.StaticUtils import plot_layer\n",
    "from SimPEG.utils import mkvc"
   ]
  },
  {
   "cell_type": "markdown",
   "metadata": {},
   "source": [
    "User Defined Paramters for the Notebook\n",
    "-----------------\n",
    "\n",
    "Here, the user defines paramters required to run the notebook. These parameters are as follows:\n",
    "- **data_filename:** The file path to a csv file containing the sounding data\n",
    "- **half_AB_column:** The column in the csv file that has the AB/2 values.\n",
    "- **half_MN_column:** The column in the csv file that has the MN/2 values.\n",
    "- **apparent_resistivity_column:** The column in the csv file that has the apparent resistivity values.\n",
    "\n",
    "\n",
    "- **uncertainty_column:** The column in the csv file that has the uncertainty, or the keyword `None`.\n",
    "- **uncertainty_floor:** The floor uncertainty to be added to each datum\n",
    "- **uncertainty_percent:** The percent uncertainty to be added to each datum\n",
    "- **chi_factor:** Controls how closely we fit the data in the inversion.\n",
    "\n",
    "\n",
    "- **layer_thicknesses:** Layer thicknesses in meters. Defined from top layer to bottom"
   ]
  },
  {
   "cell_type": "code",
   "execution_count": 2,
   "metadata": {},
   "outputs": [],
   "source": [
    "# Define the file path to the data file. Also define the AB/2, MN/2 and apparent resistivity columns.\n",
    "# Recall that python counts starting at 0\n",
    "data_filename = './assets/Mawlamyaing_data_locations_3.csv'\n",
    "half_AB_column = 'AB/2 (m)'\n",
    "half_MN_column = 'MN/2 (m)'\n",
    "apparent_resistivity_column = 'App. Res. (Ohm m)'\n",
    "\n",
    "# Define the uncertainties for the inversion.\n",
    "# Either use the uncertainty from the data file,\n",
    "uncertainty_column = None\n",
    "# or define the floor and percent uncertainty you would like to apply to apparent resistivity data\n",
    "uncertainty_floor = 5.\n",
    "uncertainty_percent = 5.\n",
    "chi_factor = 1.0\n",
    "\n",
    "\n",
    "# Define layer thicknesses as a numpy array\n",
    "# layer_thicknesses = mkvc(np.r_[5*np.ones(15), 5*np.logspace(0,1,15)])\n",
    "layer_thicknesses = (5*1.1**np.arange(21))"
   ]
  },
  {
   "cell_type": "markdown",
   "metadata": {},
   "source": [
    "Load Data, Define Survey and Plot\n",
    "---------------------------------\n",
    "\n",
    "Here we load the observed data, define the DC survey geometry and plot the\n",
    "data values."
   ]
  },
  {
   "cell_type": "code",
   "execution_count": 3,
   "metadata": {},
   "outputs": [
    {
     "data": {
      "image/png": "[encoded data removed]",
      "text/plain": [
       "<Figure size 792x360 with 1 Axes>"
      ]
     },
     "metadata": {
      "needs_background": "light"
     },
     "output_type": "display_data"
    }
   ],
   "source": [
    "# Load data\n",
    "df = pd.read_csv(data_filename)\n",
    "\n",
    "# Extract source and receiver electrode locations and the observed data\n",
    "half_AB_separations = df[half_AB_column]\n",
    "half_MN_separations = df[half_MN_column]\n",
    "dobs = df[apparent_resistivity_column].values\n",
    "\n",
    "starting_resistivity = np.median(dobs)\n",
    "\n",
    "# Define survey\n",
    "unique_tx, k = np.unique(half_AB_separations, return_index=True)\n",
    "n_sources = len(k)\n",
    "k = np.sort(k)\n",
    "k = np.r_[k, len(dobs)+1]\n",
    "\n",
    "source_list = []\n",
    "for ii in range(0, n_sources):\n",
    "    \n",
    "    # MN electrode locations for receivers. Each is an (N, 3) numpy array\n",
    "    M_locations = -half_MN_separations[k[ii]:k[ii+1]]\n",
    "    M_locations = np.c_[M_locations, np.zeros((np.shape(M_locations)[0], 2))]\n",
    "    N_locations = half_MN_separations[k[ii]:k[ii+1]]\n",
    "    N_locations = np.c_[N_locations, np.zeros((np.shape(N_locations)[0], 2))]\n",
    "    receiver_list = [dc.receivers.Dipole(M_locations, N_locations)]\n",
    "    \n",
    "    # AB electrode locations for source. Each is a (1, 3) numpy array\n",
    "    A_location = np.r_[-half_AB_separations[k[ii]], 0., 0.]\n",
    "    B_location = np.r_[half_AB_separations[k[ii]], 0., 0.]\n",
    "    source_list.append(dc.sources.Dipole(receiver_list, A_location, B_location))\n",
    "\n",
    "# Define survey\n",
    "survey = dc.Survey(source_list)\n",
    "\n",
    "# Compute the A, B, M and N electrode locations.\n",
    "survey.getABMN_locations()\n",
    "\n",
    "# Plot apparent resistivities on sounding curve as a function of Wenner separation\n",
    "# parameter.\n",
    "electrode_separations = np.sqrt(\n",
    "        np.sum((survey.m_locations - survey.n_locations)**2, axis=1)\n",
    "        )\n",
    "\n",
    "mpl.rcParams.update({'font.size': 14})\n",
    "fig = plt.figure(figsize=(11, 5))\n",
    "ax1 = fig.add_axes([0.05, 0.05, 0.8, 0.9])\n",
    "ax1.loglog(half_AB_separations, dobs, 'b', lw=2)\n",
    "ax1.set_xlabel(\"AB/2 (m)\")\n",
    "ax1.set_ylabel(\"Apparent Resistivity ($\\Omega m$)\")\n",
    "plt.show()"
   ]
  },
  {
   "cell_type": "markdown",
   "metadata": {},
   "source": [
    "Assign Uncertainties\n",
    "--------------------\n",
    "\n",
    "Inversion with SimPEG requires that we define uncertainties on our data. The\n",
    "uncertainty represents our estimate of the standard deviation of the noise on\n",
    "our data."
   ]
  },
  {
   "cell_type": "code",
   "execution_count": 4,
   "metadata": {},
   "outputs": [],
   "source": [
    "if uncertainty_column is not None:\n",
    "    uncertainties = df[uncertainty_column].values\n",
    "else:\n",
    "    uncertainties = uncertainty_floor + 0.01*uncertainty_percent*np.abs(dobs)"
   ]
  },
  {
   "cell_type": "markdown",
   "metadata": {},
   "source": [
    "Define Data\n",
    "--------------------\n",
    "\n",
    "Here is where we define the data that are inverted. The data are defined by\n",
    "the survey, the observation values and the uncertainties."
   ]
  },
  {
   "cell_type": "code",
   "execution_count": 5,
   "metadata": {},
   "outputs": [],
   "source": [
    "data_object = data.Data(survey, dobs=dobs, noise_floor=uncertainties)"
   ]
  },
  {
   "cell_type": "markdown",
   "metadata": {},
   "source": [
    "Define a Starting and Reference Model\n",
    "-------------------------------------\n",
    "\n",
    "Here, we create starting and/or reference models for the inversion as\n",
    "well as the mapping from the model space to the active cells. Starting and\n",
    "reference models can be a constant background value or contain a-priori\n",
    "structures. Here, the starting model is log(1000) Ohm meters.\n",
    "\n",
    "Define log-resistivity values for each layer since our model is the\n",
    "log-resistivity. Don't make the values 0!\n",
    "Otherwise the gradient for the 1st iteration is zero and the inversion will\n",
    "not converge."
   ]
  },
  {
   "cell_type": "code",
   "execution_count": 6,
   "metadata": {},
   "outputs": [],
   "source": [
    "# Defines layered Earth\n",
    "mesh = TensorMesh([layer_thicknesses], '0')\n",
    "\n",
    "# Define model. A resistivity (Ohm meters) or conductivity (S/m) for each layer.\n",
    "starting_model = np.log(starting_resistivity*np.ones((len(layer_thicknesses))))\n",
    "\n",
    "# Define mapping from model to active cells.\n",
    "model_map = maps.IdentityMap(mesh)*maps.ExpMap()"
   ]
  },
  {
   "cell_type": "markdown",
   "metadata": {},
   "source": [
    "Define the Physics\n",
    "------------------\n",
    "\n",
    "Here we define the physics of the problem using the DCSimulation_1D class.\n"
   ]
  },
  {
   "cell_type": "code",
   "execution_count": 7,
   "metadata": {},
   "outputs": [],
   "source": [
    "simulation = dc.simulation_1d.DCSimulation_1D(\n",
    "        survey=survey, rhoMap=model_map, thicknesses=layer_thicknesses[:-1],\n",
    "        data_type=\"apparent_resistivity\"\n",
    "        )"
   ]
  },
  {
   "cell_type": "markdown",
   "metadata": {},
   "source": [
    "Define Inverse Problem\n",
    "----------------------\n",
    "\n",
    "The inverse problem is defined by 3 things:\n",
    "\n",
    "    1) Data Misfit: a measure of how well our recovered model explains the field data\n",
    "    2) Regularization: constraints placed on the recovered model and a priori information\n",
    "    3) Optimization: the numerical approach used to solve the inverse problem\n",
    "\n"
   ]
  },
  {
   "cell_type": "code",
   "execution_count": 8,
   "metadata": {},
   "outputs": [],
   "source": [
    "# Define the data misfit. Here the data misfit is the L2 norm of the weighted\n",
    "# residual between the observed data and the data predicted for a given model.\n",
    "# The weighting is defined by the reciprocal of the uncertainties.\n",
    "dmis = data_misfit.L2DataMisfit(simulation=simulation, data=data_object)\n",
    "\n",
    "# Define the regularization (model objective function)\n",
    "reg = regularization.Simple(\n",
    "    mesh, alpha_s=1e-3, alpha_x=1., mref=starting_model\n",
    ")\n",
    "\n",
    "# Create model weights based on sensitivity matrix (sensitivity weighting). This is\n",
    "# done to counteract the inversion's desire to place structures only at regions\n",
    "# of very high sensitivity.\n",
    "# wr = np.sum(simulation.getJ(starting_model)**2, axis=0)**0.5\n",
    "# wr = (wr/np.max(np.abs(wr)))\n",
    "# reg.cell_weights = wr  # include in regularization\n",
    "\n",
    "# Define how the optimization problem is solved. Here we will use an inexact\n",
    "# Gauss-Newton approach that employs the conjugate gradient solver.\n",
    "opt = optimization.InexactGaussNewton(\n",
    "    maxIter=30, maxIterCG=20, print_type='ubc'\n",
    ")\n",
    "\n",
    "# Define the inverse problem\n",
    "inv_prob = inverse_problem.BaseInvProblem(dmis, reg, opt)"
   ]
  },
  {
   "cell_type": "markdown",
   "metadata": {},
   "source": [
    "Define Inversion Directives\n",
    "---------------------------\n",
    "\n",
    "Here we define any directives that are carried out during the inversion. This\n",
    "includes the cooling schedule for the trade-off parameter (beta), stopping\n",
    "criteria for the inversion and saving inversion results at each iteration.\n",
    "\n"
   ]
  },
  {
   "cell_type": "code",
   "execution_count": 9,
   "metadata": {},
   "outputs": [
    {
     "data": {
      "text/plain": [
       "94.005"
      ]
     },
     "execution_count": 9,
     "metadata": {},
     "output_type": "execute_result"
    }
   ],
   "source": [
    "starting_resistivity"
   ]
  },
  {
   "cell_type": "code",
   "execution_count": 10,
   "metadata": {},
   "outputs": [],
   "source": [
    "# Defining a starting value for the trade-off parameter (beta) between the data\n",
    "# misfit and the regularization.\n",
    "starting_beta = directives.BetaEstimate_ByEig(beta0_ratio=1e0)\n",
    "\n",
    "# Set the rate of reduction in trade-off parameter (beta) each time the\n",
    "# the inverse problem is solved. And set the number of Gauss-Newton iterations\n",
    "# for each trade-off paramter value.\n",
    "beta_schedule = directives.BetaSchedule(coolingFactor=2., coolingRate=1.)\n",
    "\n",
    "# Apply and update sensitivity weighting as the model updates\n",
    "update_sensitivity_weights = directives.UpdateSensitivityWeights()\n",
    "\n",
    "# Options for outputting recovered models and predicted data for each beta.\n",
    "save_iteration = directives.SaveOutputDictEveryIteration()\n",
    "\n",
    "# Setting a stopping criteria for the inversion.\n",
    "target_misfit = directives.TargetMisfit(chifact=1)\n",
    "\n",
    "# The directives are defined as a list.\n",
    "directives_list = [\n",
    "    starting_beta, beta_schedule,\n",
    "    save_iteration, target_misfit\n",
    "]"
   ]
  },
  {
   "cell_type": "markdown",
   "metadata": {},
   "source": [
    "Running the Inversion\n",
    "---------------------\n",
    "\n",
    "To define the inversion object, we need to define the inversion problem and\n",
    "the set of directives. We can then run the inversion.\n",
    "\n",
    "\n"
   ]
  },
  {
   "cell_type": "code",
   "execution_count": null,
   "metadata": {},
   "outputs": [
    {
     "name": "stdout",
     "output_type": "stream",
     "text": [
      "\n",
      "        SimPEG.InvProblem is setting bfgsH0 to the inverse of the eval2Deriv.\n",
      "        ***Done using same Solver and solverOpts as the problem***\n",
      "SimPEG.SaveOutputDictEveryIteration will save your inversion progress as dictionary: '###-InversionModel-2020-02-01-22-02.npz'\n",
      "model has any nan: 0\n",
      "=================================== Inexact Gauss Newton ===================================\n",
      "  #     beta     phi_d     phi_m     phi_s     phi_x     phi_y     phi_z    LS    Comment   \n",
      "--------------------------------------------------------------------------------------------\n",
      "   0  4.38e+01  5.88e+02  0.00e+00  0.00e+00  0.00e+00  0.00e+00  0.00e+00   0              \n",
      "   1  2.19e+01  2.23e+02  1.33e+00  3.39e-03  1.33e+00  0.00e+00  0.00e+00   0              \n",
      "   2  1.10e+01  8.49e+01  3.79e+00  4.86e-03  3.79e+00  0.00e+00  0.00e+00   0              \n",
      "   3  5.48e+00  4.61e+01  5.67e+00  5.76e-03  5.67e+00  0.00e+00  0.00e+00   0   Skip BFGS  \n",
      "   4  2.74e+00  3.53e+01  6.95e+00  6.22e-03  6.95e+00  0.00e+00  0.00e+00   0   Skip BFGS  \n",
      "   5  1.37e+00  3.13e+01  7.95e+00  7.03e-03  7.95e+00  0.00e+00  0.00e+00   0   Skip BFGS  \n"
     ]
    }
   ],
   "source": [
    "# Here we combine the inverse problem and the set of directives\n",
    "inv = inversion.BaseInversion(inv_prob, directives_list)\n",
    "\n",
    "# Run the inversion\n",
    "recovered_model = inv.run(starting_model)"
   ]
  },
  {
   "cell_type": "code",
   "execution_count": null,
   "metadata": {},
   "outputs": [],
   "source": [
    "# Inversion result from Mon DRD\n",
    "res_tmp = np.array([348.4, 722.9, 282, 100.8, 51.4, 170.8, 31.1, 184.3])\n",
    "thick_tmp = np.array([1.4, 1.6, 1.4, 12.1, 11.4, 25.1, 54.2])\n",
    "plotting_mesh_tmp = TensorMesh([np.r_[thick_tmp, 200]], '0')"
   ]
  },
  {
   "cell_type": "markdown",
   "metadata": {},
   "source": [
    "Examining the Results\n",
    "---------------------\n",
    "\n"
   ]
  },
  {
   "cell_type": "code",
   "execution_count": null,
   "metadata": {},
   "outputs": [],
   "source": [
    "# Plot true model and recovered model\n",
    "fig = plt.figure(figsize=(5, 5))\n",
    "mpl.rcParams.update({'font.size': 14})\n",
    "x_min = np.min(model_map*recovered_model)\n",
    "x_max = np.max(model_map*recovered_model)\n",
    "\n",
    "ax1 = fig.add_axes([0.05, 0.05, 0.8, 0.9])\n",
    "plot_layer(model_map*recovered_model, mesh, ax=ax1, depth_axis=False)\n",
    "ax1.set_ylim(-300, 0)\n",
    "ax1.set_xlim(10, 5000)\n",
    "ax1.grid(True, which='both', ls=\"--\", c='gray')\n",
    "\n",
    "\n",
    "# Plot the true and apparent resistivities on a sounding curve\n",
    "from matplotlib.ticker import AutoMinorLocator\n",
    "fig = plt.figure(figsize=(7, 5))\n",
    "mpl.rcParams.update({'font.size': 14})\n",
    "ax1 = fig.add_axes([0.05, 0.05, 0.8, 0.9])\n",
    "ax1.loglog(half_AB_separations, inv_prob.dpred, 'k', lw=2)\n",
    "ax1.loglog(half_AB_separations, dobs, 'kx', lw=2, ms=10)\n",
    "ax1.set_xlabel(\"AB/2 (m)\")\n",
    "ax1.set_ylabel(\"Apparent Resistivity ($\\Omega m$)\")\n",
    "ax1.legend(['Observed Sounding Curve','Predicted Sounding Curve'])\n",
    "ax1.set_ylim(50, 1000)\n",
    "ax1.grid(True, which='both', ls=\"--\", c='gray')\n",
    "plt.show()"
   ]
  },
  {
   "cell_type": "code",
   "execution_count": null,
   "metadata": {},
   "outputs": [],
   "source": [
    "# Plot true model and recovered model\n",
    "fig = plt.figure(figsize=(5, 5))\n",
    "mpl.rcParams.update({'font.size': 14})\n",
    "x_min = np.min(model_map*recovered_model)\n",
    "x_max = np.max(model_map*recovered_model)\n",
    "\n",
    "ax1 = fig.add_axes([0.05, 0.05, 0.8, 0.9])\n",
    "plot_layer(model_map*recovered_model, mesh, ax=ax1, depth_axis=False)\n",
    "plot_layer(res_tmp, plotting_mesh_tmp, ax=ax1, depth_axis=False, color='r')\n",
    "ax1.legend((\"SimPEG\", \"Mon State DRD\"))\n",
    "ax1.grid(True, which='both', ls=\"--\", c='gray')\n",
    "ax1.set_ylim(-300, 0)\n",
    "ax1.set_xlim(10, 5000)"
   ]
  },
  {
   "cell_type": "code",
   "execution_count": null,
   "metadata": {},
   "outputs": [],
   "source": []
  },
  {
   "cell_type": "code",
   "execution_count": null,
   "metadata": {},
   "outputs": [],
   "source": [
    "n_interation = len(save_iteration.outDict)\n",
    "phi_d = np.zeros(n_interation)\n",
    "phi_m = np.zeros(n_interation)\n",
    "\n",
    "for ii in range(1,n_interation+1):\n",
    "    phi_d[ii-1] = save_iteration.outDict[ii]['phi_d']\n",
    "    phi_m[ii-1] = save_iteration.outDict[ii]['phi_m']\n",
    "\n",
    "fig, ax = plt.subplots(1,2, figsize=(12,5))\n",
    "ax[0].plot(np.arange(n_interation)+1, phi_d, 'ko-')\n",
    "ax_1 = ax[0].twinx()\n",
    "ax_1.plot(np.arange(n_interation)+1, phi_m, 'ro-')\n",
    "ax[0].set_xlabel(\"Iteration\")\n",
    "ax[0].set_ylabel(\"$\\phi_d$\", fontsize = 20)\n",
    "ax_1.set_ylabel(\"$\\phi_m$\", fontsize = 20, color='r')\n",
    "\n",
    "\n",
    "ax[1].plot(phi_m, phi_d, 'ko-')\n",
    "ax[1].set_ylabel(\"$\\phi_d$\", fontsize = 20)\n",
    "ax[1].set_xlabel(\"$\\phi_m$\", fontsize = 20)\n",
    "plt.tight_layout()"
   ]
  },
  {
   "cell_type": "code",
   "execution_count": null,
   "metadata": {},
   "outputs": [],
   "source": []
  }
 ],
 "metadata": {
  "kernelspec": {
   "display_name": "Python 3",
   "language": "python",
   "name": "python3"
  },
  "language_info": {
   "codemirror_mode": {
    "name": "ipython",
    "version": 3
   },
   "file_extension": ".py",
   "mimetype": "text/x-python",
   "name": "python",
   "nbconvert_exporter": "python",
   "pygments_lexer": "ipython3",
   "version": "3.8.1"
  }
 },
 "nbformat": 4,
 "nbformat_minor": 2
}
